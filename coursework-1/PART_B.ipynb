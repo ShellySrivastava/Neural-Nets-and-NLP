{
  "nbformat": 4,
  "nbformat_minor": 0,
  "metadata": {
    "accelerator": "GPU",
    "colab": {
      "name": "lab4_text_classification.ipynb",
      "provenance": [],
      "collapsed_sections": [],
      "toc_visible": true
    },
    "kernelspec": {
      "display_name": "Python 3",
      "language": "python",
      "name": "python3"
    },
    "language_info": {
      "codemirror_mode": {
        "name": "ipython",
        "version": 3
      },
      "file_extension": ".py",
      "mimetype": "text/x-python",
      "name": "python",
      "nbconvert_exporter": "python",
      "pygments_lexer": "ipython3",
      "version": "3.7.3"
    }
  },
  "cells": [
    {
      "cell_type": "markdown",
      "metadata": {
        "colab_type": "text",
        "id": "hExKCzh6doIW"
      },
      "source": [
        "# Lab 4 - Neural Network Classifier Using Simple Word Embeddings\n",
        "\n",
        "\n",
        "\n",
        "---\n",
        "\n",
        "\n",
        "\n",
        "\n",
        "\n",
        "\n",
        "\n",
        "\n",
        "\n",
        "\n",
        "\n",
        "\n",
        "\n"
      ]
    },
    {
      "cell_type": "markdown",
      "metadata": {
        "colab_type": "text",
        "id": "HixoFOoCIJ7V"
      },
      "source": [
        "In this session, we demonstrate how to solve a text classification task using simple \n",
        "feedforward neural network classifier. We will use IMDB Large Movie Review Dataset to train a binary classification model, able to predict whether a review is positive or negative. First, our network takes one-hot word vectors as input, averages them to make one vector and trains a \n",
        "fully-connected layer to predict the output. In the second part, we replace the one-hot vectors with the word embeddings and add a layer to see how much that improves the performance.\n",
        "\n",
        "We are going to use Keras Sequential API in this session. The Sequential API allows you to make models layer-by-layer. But it is not straightforward to define models where layers connect to more than just the previous and next layers. "
      ]
    },
    {
      "cell_type": "code",
      "metadata": {
        "colab_type": "code",
        "id": "m8fpBfhBpupy",
        "outputId": "35cb6d8d-f92b-457c-fe3b-43b2b4e95df9",
        "colab": {
          "base_uri": "https://localhost:8080/",
          "height": 79
        }
      },
      "source": [
        "import keras\n",
        "import numpy as np\n",
        "from keras.layers import Lambda, GlobalAveragePooling1D, Dense, Embedding\n",
        "from keras import backend as K\n",
        "from keras.models import Sequential\n"
      ],
      "execution_count": 1,
      "outputs": [
        {
          "output_type": "stream",
          "text": [
            "Using TensorFlow backend.\n"
          ],
          "name": "stderr"
        },
        {
          "output_type": "display_data",
          "data": {
            "text/html": [
              "<p style=\"color: red;\">\n",
              "The default version of TensorFlow in Colab will soon switch to TensorFlow 2.x.<br>\n",
              "We recommend you <a href=\"https://www.tensorflow.org/guide/migrate\" target=\"_blank\">upgrade</a> now \n",
              "or ensure your notebook will continue to use TensorFlow 1.x via the <code>%tensorflow_version 1.x</code> magic:\n",
              "<a href=\"https://colab.research.google.com/notebooks/tensorflow_version.ipynb\" target=\"_blank\">more info</a>.</p>\n"
            ],
            "text/plain": [
              "<IPython.core.display.HTML object>"
            ]
          },
          "metadata": {
            "tags": []
          }
        }
      ]
    },
    {
      "cell_type": "markdown",
      "metadata": {
        "colab_type": "text",
        "id": "cqvPQvgvPv1W"
      },
      "source": [
        "### Downloading data"
      ]
    },
    {
      "cell_type": "markdown",
      "metadata": {
        "colab_type": "text",
        "id": "EundMtGPpCdf"
      },
      "source": [
        "The dataset we will be using is the IMDB Large Movie Review Dataset, which consists of 50000 labeled movie reviews. These are split into 25,000 reviews for training and 25,000 reviews for testing. The  dataset contains an even number of positive and negative reviews, so randomly guessing yields 50% accuracy. The data is preprocessed. For text classification, it is ususal to limit the size of the vocabulary to stop the dataset from becoming too sparse, creating possible overfitting. We keep the top 10,000 most frequently occurring words in the training data.\n"
      ]
    },
    {
      "cell_type": "code",
      "metadata": {
        "colab_type": "code",
        "id": "NyuSzkafqNca",
        "outputId": "4d73289e-384c-4649-98e8-896444db9278",
        "colab": {
          "base_uri": "https://localhost:8080/",
          "height": 50
        }
      },
      "source": [
        "imdb = keras.datasets.imdb\n",
        "(X_train, y_train), (X_test, y_test) = imdb.load_data(num_words=10000)"
      ],
      "execution_count": 2,
      "outputs": [
        {
          "output_type": "stream",
          "text": [
            "Downloading data from https://s3.amazonaws.com/text-datasets/imdb.npz\n",
            "17465344/17464789 [==============================] - 1s 0us/step\n"
          ],
          "name": "stdout"
        }
      ]
    },
    {
      "cell_type": "markdown",
      "metadata": {
        "colab_type": "text",
        "id": "6U4iCV9-rmay"
      },
      "source": [
        "We now can start playing around with the data, let’s first see the length:"
      ]
    },
    {
      "cell_type": "code",
      "metadata": {
        "colab_type": "code",
        "id": "h-gjWRAuqg5s",
        "outputId": "11a2fb79-592b-491c-ebfc-db4453e0a621",
        "colab": {
          "base_uri": "https://localhost:8080/",
          "height": 33
        }
      },
      "source": [
        "print(\"Training entries: {}, labels: {}\".format(len(X_train), len(y_train)))"
      ],
      "execution_count": 3,
      "outputs": [
        {
          "output_type": "stream",
          "text": [
            "Training entries: 25000, labels: 25000\n"
          ],
          "name": "stdout"
        }
      ]
    },
    {
      "cell_type": "markdown",
      "metadata": {
        "colab_type": "text",
        "id": "MTRZrpcyr-4x"
      },
      "source": [
        "The  reviews have been converted to integers and each integer represents a  word in a dictionary. "
      ]
    },
    {
      "cell_type": "code",
      "metadata": {
        "colab_type": "code",
        "id": "79Ev72Kgq4XL",
        "outputId": "d3ff56af-c370-4ff9-c12e-e484bf2ee2ea",
        "colab": {
          "base_uri": "https://localhost:8080/",
          "height": 1000
        }
      },
      "source": [
        " X_train[0]"
      ],
      "execution_count": 4,
      "outputs": [
        {
          "output_type": "execute_result",
          "data": {
            "text/plain": [
              "[1,\n",
              " 14,\n",
              " 22,\n",
              " 16,\n",
              " 43,\n",
              " 530,\n",
              " 973,\n",
              " 1622,\n",
              " 1385,\n",
              " 65,\n",
              " 458,\n",
              " 4468,\n",
              " 66,\n",
              " 3941,\n",
              " 4,\n",
              " 173,\n",
              " 36,\n",
              " 256,\n",
              " 5,\n",
              " 25,\n",
              " 100,\n",
              " 43,\n",
              " 838,\n",
              " 112,\n",
              " 50,\n",
              " 670,\n",
              " 2,\n",
              " 9,\n",
              " 35,\n",
              " 480,\n",
              " 284,\n",
              " 5,\n",
              " 150,\n",
              " 4,\n",
              " 172,\n",
              " 112,\n",
              " 167,\n",
              " 2,\n",
              " 336,\n",
              " 385,\n",
              " 39,\n",
              " 4,\n",
              " 172,\n",
              " 4536,\n",
              " 1111,\n",
              " 17,\n",
              " 546,\n",
              " 38,\n",
              " 13,\n",
              " 447,\n",
              " 4,\n",
              " 192,\n",
              " 50,\n",
              " 16,\n",
              " 6,\n",
              " 147,\n",
              " 2025,\n",
              " 19,\n",
              " 14,\n",
              " 22,\n",
              " 4,\n",
              " 1920,\n",
              " 4613,\n",
              " 469,\n",
              " 4,\n",
              " 22,\n",
              " 71,\n",
              " 87,\n",
              " 12,\n",
              " 16,\n",
              " 43,\n",
              " 530,\n",
              " 38,\n",
              " 76,\n",
              " 15,\n",
              " 13,\n",
              " 1247,\n",
              " 4,\n",
              " 22,\n",
              " 17,\n",
              " 515,\n",
              " 17,\n",
              " 12,\n",
              " 16,\n",
              " 626,\n",
              " 18,\n",
              " 2,\n",
              " 5,\n",
              " 62,\n",
              " 386,\n",
              " 12,\n",
              " 8,\n",
              " 316,\n",
              " 8,\n",
              " 106,\n",
              " 5,\n",
              " 4,\n",
              " 2223,\n",
              " 5244,\n",
              " 16,\n",
              " 480,\n",
              " 66,\n",
              " 3785,\n",
              " 33,\n",
              " 4,\n",
              " 130,\n",
              " 12,\n",
              " 16,\n",
              " 38,\n",
              " 619,\n",
              " 5,\n",
              " 25,\n",
              " 124,\n",
              " 51,\n",
              " 36,\n",
              " 135,\n",
              " 48,\n",
              " 25,\n",
              " 1415,\n",
              " 33,\n",
              " 6,\n",
              " 22,\n",
              " 12,\n",
              " 215,\n",
              " 28,\n",
              " 77,\n",
              " 52,\n",
              " 5,\n",
              " 14,\n",
              " 407,\n",
              " 16,\n",
              " 82,\n",
              " 2,\n",
              " 8,\n",
              " 4,\n",
              " 107,\n",
              " 117,\n",
              " 5952,\n",
              " 15,\n",
              " 256,\n",
              " 4,\n",
              " 2,\n",
              " 7,\n",
              " 3766,\n",
              " 5,\n",
              " 723,\n",
              " 36,\n",
              " 71,\n",
              " 43,\n",
              " 530,\n",
              " 476,\n",
              " 26,\n",
              " 400,\n",
              " 317,\n",
              " 46,\n",
              " 7,\n",
              " 4,\n",
              " 2,\n",
              " 1029,\n",
              " 13,\n",
              " 104,\n",
              " 88,\n",
              " 4,\n",
              " 381,\n",
              " 15,\n",
              " 297,\n",
              " 98,\n",
              " 32,\n",
              " 2071,\n",
              " 56,\n",
              " 26,\n",
              " 141,\n",
              " 6,\n",
              " 194,\n",
              " 7486,\n",
              " 18,\n",
              " 4,\n",
              " 226,\n",
              " 22,\n",
              " 21,\n",
              " 134,\n",
              " 476,\n",
              " 26,\n",
              " 480,\n",
              " 5,\n",
              " 144,\n",
              " 30,\n",
              " 5535,\n",
              " 18,\n",
              " 51,\n",
              " 36,\n",
              " 28,\n",
              " 224,\n",
              " 92,\n",
              " 25,\n",
              " 104,\n",
              " 4,\n",
              " 226,\n",
              " 65,\n",
              " 16,\n",
              " 38,\n",
              " 1334,\n",
              " 88,\n",
              " 12,\n",
              " 16,\n",
              " 283,\n",
              " 5,\n",
              " 16,\n",
              " 4472,\n",
              " 113,\n",
              " 103,\n",
              " 32,\n",
              " 15,\n",
              " 16,\n",
              " 5345,\n",
              " 19,\n",
              " 178,\n",
              " 32]"
            ]
          },
          "metadata": {
            "tags": []
          },
          "execution_count": 4
        }
      ]
    },
    {
      "cell_type": "markdown",
      "metadata": {
        "colab_type": "text",
        "id": "Tvuu4KhStqei"
      },
      "source": [
        "We can convert integers back to words by querying a dictionary object that contains the integer to string mapping:"
      ]
    },
    {
      "cell_type": "code",
      "metadata": {
        "colab_type": "code",
        "id": "gMCH1OoDrSNR",
        "outputId": "d07c1aac-bb46-47bf-985a-91564e6e6bb9",
        "colab": {
          "base_uri": "https://localhost:8080/",
          "height": 50
        }
      },
      "source": [
        "word_index = imdb.get_word_index()"
      ],
      "execution_count": 5,
      "outputs": [
        {
          "output_type": "stream",
          "text": [
            "Downloading data from https://s3.amazonaws.com/text-datasets/imdb_word_index.json\n",
            "1646592/1641221 [==============================] - 0s 0us/step\n"
          ],
          "name": "stdout"
        }
      ]
    },
    {
      "cell_type": "markdown",
      "metadata": {
        "colab_type": "text",
        "id": "5IreFXgruZot"
      },
      "source": [
        "Index 1 represents the beginning of the sentence and the index 2 is assigned to all unknown tokens. Index 0 will be used for padding."
      ]
    },
    {
      "cell_type": "code",
      "metadata": {
        "colab_type": "code",
        "id": "abIb7Fe5u3GQ",
        "colab": {}
      },
      "source": [
        "word_index = {k:(v+3) for k,v in word_index.items()}\n",
        "word_index[\"<PAD>\"] = 0\n",
        "word_index[\"<START>\"] = 1\n",
        "word_index[\"<UNK>\"] = 2  \n",
        "word_index[\"<UNUSED>\"] = 3"
      ],
      "execution_count": 0,
      "outputs": []
    },
    {
      "cell_type": "markdown",
      "metadata": {
        "colab_type": "text",
        "id": "9TnnSuspvC5b"
      },
      "source": [
        "To reverse key and values in a dictionary:"
      ]
    },
    {
      "cell_type": "code",
      "metadata": {
        "colab_type": "code",
        "id": "nKOiVVXQu-_I",
        "colab": {}
      },
      "source": [
        "reverse_word_index = dict([(value, key) for (key, value) in word_index.items()])"
      ],
      "execution_count": 0,
      "outputs": []
    },
    {
      "cell_type": "markdown",
      "metadata": {
        "colab_type": "text",
        "id": "ZmTJEm8xvUvW"
      },
      "source": [
        "To view a word:"
      ]
    },
    {
      "cell_type": "code",
      "metadata": {
        "colab_type": "code",
        "id": "SqN5jgVKvJJZ",
        "outputId": "879b5e90-fe79-441a-e646-44455b6e6447",
        "colab": {
          "base_uri": "https://localhost:8080/",
          "height": 33
        }
      },
      "source": [
        "reverse_word_index[25]"
      ],
      "execution_count": 9,
      "outputs": [
        {
          "output_type": "execute_result",
          "data": {
            "text/plain": [
              "'film'"
            ]
          },
          "metadata": {
            "tags": []
          },
          "execution_count": 9
        }
      ]
    },
    {
      "cell_type": "markdown",
      "metadata": {
        "colab_type": "text",
        "id": "Q6QjrzgVvrYn"
      },
      "source": [
        "And to recreate the whole sentence from our training data we define decode_review:\n"
      ]
    },
    {
      "cell_type": "code",
      "metadata": {
        "colab_type": "code",
        "id": "wvrKeMgxvWlv",
        "colab": {}
      },
      "source": [
        "def decode_review(text):\n",
        "    return ' '.join([reverse_word_index.get(i, '?') for i in text])"
      ],
      "execution_count": 0,
      "outputs": []
    },
    {
      "cell_type": "code",
      "metadata": {
        "colab_type": "code",
        "id": "Sxg4YA_NvdRg",
        "outputId": "7bafd62c-9dd5-4a46-fd88-5809fc644c3b",
        "colab": {
          "base_uri": "https://localhost:8080/",
          "height": 53
        }
      },
      "source": [
        "decode_review(X_train[10])"
      ],
      "execution_count": 11,
      "outputs": [
        {
          "output_type": "execute_result",
          "data": {
            "text/plain": [
              "\"<START> york seems went about two scenes the ? lunatic little ? anything next the now was people characters why this co ? <UNK> killing <UNK> movie and ? here <UNK> <UNK> ? lunatic like party for ahead lost ? josh little because turned seems warned ? a pass have the ? never york seems characters show him <UNK> i stories excellent movie ? use men for in a him more that to bit there team were have one ? freeman the ? with ? in to seemed a <UNK> one ? special totally ? life it jealousy ? with a ? recall ? many alice movie think worth outside company ? war ex ? government watch a ? your surprised <UNK> aspects and company that faded are a place to ? sleeping was wasn't human ? rude wood <UNK> started element <UNK> unwilling ? not usa fascinating ambitions could ? used these to ? sleeping job at scheming entertainment ? hoped set to ? system it slowly all though <UNK> could <UNK> going the is at genre derek most aka pop ? derek at between his side and enjoy is and potential go ? company hype of of war ex a ? good isn't bbc ? through new lot red it has silly there characters evil movie is this least an well understandable that down and bad was is or utterly and man it <UNK> funny ? never the or <UNK> this example or <UNK> ? with being new lady cons ? attempts and obsession can despite nothing strength <UNK> ground ? people imagine that ? with ? horror it because the is said set co ? government company sleeping <UNK> it ? with lady good coup ? in 3rd talky ? government star the ? proceeds jump and enjoy ex and potential just the ? sleeping or good named and much guys then or getting american it ? vhs a ? doesn't it which <UNK> do ? in with americans it this ? nothing <UNK> it me see being which his worst the seriously if a anime ? patient ? in race and jealousy it <UNK> new know vs and his lot walked ? with a let's that ? part the inside cop ? government many ? movies on he good isn't to story give made ? ? horror it ? goes definitely role said movie most give watch a good can interesting played superhero it ? with etc mouth one ? does etc his modern 3 this ? book long funny money ? attempts and his lot chess entertaining <UNK> a ? full people seems with ? have the ? never the ? keaton decent chemistry peter\""
            ]
          },
          "metadata": {
            "tags": []
          },
          "execution_count": 11
        }
      ]
    },
    {
      "cell_type": "markdown",
      "metadata": {
        "colab_type": "text",
        "id": "c8gIzXncfaJK"
      },
      "source": [
        "### Creating One-hot word vectors"
      ]
    },
    {
      "cell_type": "markdown",
      "metadata": {
        "colab_type": "text",
        "id": "B9W4yb3rv_E0"
      },
      "source": [
        "It is  common to use one-hot representation as input in Natural Language Processing tasks. In Keras, the Embedding layer takes an index as an input and convert it to one-hot vector with the length of the vocabulary size. Then multiplies these vectors by a normal weight matrix. But there is no way to only get a one-hot vector as the output of a layer in Keras. To solve this we use Lambda() layer and a function that creates the one-hot layer. "
      ]
    },
    {
      "cell_type": "code",
      "metadata": {
        "colab_type": "code",
        "id": "RPO_pK9zH4C5",
        "colab": {}
      },
      "source": [
        "def OneHot(input_dim=None, input_length=None):\n",
        "    \n",
        "    if input_dim is None or input_length is None:\n",
        "        raise TypeError(\"input_dim or input_length is not set\")\n",
        "\n",
        "    \n",
        "    def _one_hot(x, num_classes):\n",
        "        return K.one_hot(K.cast(x, 'uint8'),\n",
        "                          num_classes=num_classes)\n",
        "\n",
        "    return Lambda(_one_hot,\n",
        "                  arguments={'num_classes': input_dim},\n",
        "                  input_shape=(input_length,))"
      ],
      "execution_count": 0,
      "outputs": []
    },
    {
      "cell_type": "markdown",
      "metadata": {
        "colab_type": "text",
        "id": "364d3MAw0ez9"
      },
      "source": [
        "input_dim refers to the length of the one-hot vector and input_length refers to the length of the input sequence. Since the input to K.one_hot should be an integer tensor, we cast x to one (Keras passes around float tensors by default).\n",
        "\n"
      ]
    },
    {
      "cell_type": "markdown",
      "metadata": {
        "colab_type": "text",
        "id": "VHz76GNA2M4r"
      },
      "source": [
        " Each text sequence has in most cases different length of words. Here, we fill sequences with a pad token (0) to fit the size. This special tokens is then masked not to be accounted in averaging, loss calculation etc. We set the maximum length to 256."
      ]
    },
    {
      "cell_type": "markdown",
      "metadata": {
        "colab_type": "text",
        "id": "9G_o7PsvgSFt"
      },
      "source": [
        "### Preparing input data"
      ]
    },
    {
      "cell_type": "code",
      "metadata": {
        "colab_type": "code",
        "id": "jiFn7sd_wF5j",
        "colab": {}
      },
      "source": [
        "VOCAB_SIZE = 10000\n",
        "MAX_SEQUENCE_LENGTH = 256\n",
        "\n",
        "X_train_enc = keras.preprocessing.sequence.pad_sequences(X_train,\n",
        "                                                        value=word_index[\"<PAD>\"],\n",
        "                                                        padding='post',\n",
        "                                                        maxlen=256)\n",
        "\n",
        "X_test_enc = keras.preprocessing.sequence.pad_sequences(X_test,\n",
        "                                                       value=word_index[\"<PAD>\"],\n",
        "                                                       padding='post',\n",
        "                                                       maxlen=256)"
      ],
      "execution_count": 0,
      "outputs": []
    },
    {
      "cell_type": "markdown",
      "metadata": {
        "colab_type": "text",
        "id": "kcjFH1wKF_7d"
      },
      "source": [
        "And to view a padded review:"
      ]
    },
    {
      "cell_type": "code",
      "metadata": {
        "colab_type": "code",
        "id": "zwH4dcfW_a18",
        "outputId": "b163563d-4973-4b1a-9794-2cb400d7b488",
        "colab": {
          "base_uri": "https://localhost:8080/",
          "height": 333
        }
      },
      "source": [
        "print(X_train_enc[1])\n"
      ],
      "execution_count": 14,
      "outputs": [
        {
          "output_type": "stream",
          "text": [
            "[   1  194 1153  194 8255   78  228    5    6 1463 4369 5012  134   26\n",
            "    4  715    8  118 1634   14  394   20   13  119  954  189  102    5\n",
            "  207  110 3103   21   14   69  188    8   30   23    7    4  249  126\n",
            "   93    4  114    9 2300 1523    5  647    4  116    9   35 8163    4\n",
            "  229    9  340 1322    4  118    9    4  130 4901   19    4 1002    5\n",
            "   89   29  952   46   37    4  455    9   45   43   38 1543 1905  398\n",
            "    4 1649   26 6853    5  163   11 3215    2    4 1153    9  194  775\n",
            "    7 8255    2  349 2637  148  605    2 8003   15  123  125   68    2\n",
            " 6853   15  349  165 4362   98    5    4  228    9   43    2 1157   15\n",
            "  299  120    5  120  174   11  220  175  136   50    9 4373  228 8255\n",
            "    5    2  656  245 2350    5    4 9837  131  152  491   18    2   32\n",
            " 7464 1212   14    9    6  371   78   22  625   64 1382    9    8  168\n",
            "  145   23    4 1690   15   16    4 1355    5   28    6   52  154  462\n",
            "   33   89   78  285   16  145   95    0    0    0    0    0    0    0\n",
            "    0    0    0    0    0    0    0    0    0    0    0    0    0    0\n",
            "    0    0    0    0    0    0    0    0    0    0    0    0    0    0\n",
            "    0    0    0    0    0    0    0    0    0    0    0    0    0    0\n",
            "    0    0    0    0    0    0    0    0    0    0    0    0    0    0\n",
            "    0    0    0    0]\n"
          ],
          "name": "stdout"
        }
      ]
    },
    {
      "cell_type": "markdown",
      "metadata": {
        "colab_type": "text",
        "id": "F1zcxFwNGepA"
      },
      "source": [
        "Now we want to build the neural network model. We  are going to have a hidden layer with 16 hidden units. \n",
        "\n",
        "First, we want to transform each index to an embedded vector and then average all vectors to a single one. It has been showed that unweighted average of word vectors outperforms many complicated networks that model semantic and syntactic compositionality. As an example you can take a look at this: (http://anthology.aclweb.org/P/P15/P15-1162.pdf)\n",
        "\n",
        "To average we need to ignore padded zeros:"
      ]
    },
    {
      "cell_type": "code",
      "metadata": {
        "colab_type": "code",
        "id": "Yi04MLIvJOGZ",
        "colab": {}
      },
      "source": [
        "class GlobalAveragePooling1DMasked(GlobalAveragePooling1D):\n",
        "    def call(self, x, mask=None):\n",
        "        if mask != None:\n",
        "            return K.sum(x, axis=1) / K.sum(mask, axis=1)\n",
        "        else:\n",
        "            return super().call(x)\n"
      ],
      "execution_count": 0,
      "outputs": []
    },
    {
      "cell_type": "markdown",
      "metadata": {
        "colab_type": "text",
        "id": "whgIIB5ggjna"
      },
      "source": [
        "### Neural Network model using one-hot vectors"
      ]
    },
    {
      "cell_type": "markdown",
      "metadata": {
        "colab_type": "text",
        "id": "jlOLnlnSJgrU"
      },
      "source": [
        "The first layer is an one-hot layer. The second layer is to compute average on all word vectors in a sentence without considering padding. The  output vector is piped through a fully-connected layer. The last layer is connected with a single output node with the sigmoid activation function. The final value is a float between 0 and 1. \n",
        "The vocabulary count of the movie reviews (10000) is used as the input shape. At the end we visualize the model summary."
      ]
    },
    {
      "cell_type": "code",
      "metadata": {
        "colab_type": "code",
        "id": "_Pn83gBbxiK7",
        "outputId": "f7389873-a2c8-4e6f-89f5-b3d6e6e6608f",
        "colab": {
          "base_uri": "https://localhost:8080/",
          "height": 137
        }
      },
      "source": [
        "from keras.models import Sequential\n",
        "from keras.optimizers import Adam\n",
        "from keras.layers import Dense, Embedding\n",
        "\n",
        "model = Sequential()\n",
        "model.add(OneHot(VOCAB_SIZE, MAX_SEQUENCE_LENGTH))\n",
        "model.add(GlobalAveragePooling1DMasked())\n",
        "model.add(Dense(16, activation=\"relu\"))\n",
        "model.add(Dense(1, activation=\"sigmoid\"))"
      ],
      "execution_count": 16,
      "outputs": [
        {
          "output_type": "stream",
          "text": [
            "WARNING:tensorflow:From /usr/local/lib/python3.6/dist-packages/keras/backend/tensorflow_backend.py:66: The name tf.get_default_graph is deprecated. Please use tf.compat.v1.get_default_graph instead.\n",
            "\n",
            "WARNING:tensorflow:From /usr/local/lib/python3.6/dist-packages/keras/backend/tensorflow_backend.py:541: The name tf.placeholder is deprecated. Please use tf.compat.v1.placeholder instead.\n",
            "\n",
            "WARNING:tensorflow:From /usr/local/lib/python3.6/dist-packages/keras/backend/tensorflow_backend.py:4432: The name tf.random_uniform is deprecated. Please use tf.random.uniform instead.\n",
            "\n"
          ],
          "name": "stdout"
        }
      ]
    },
    {
      "cell_type": "code",
      "metadata": {
        "id": "E9h9j5ryXP4m",
        "colab_type": "code",
        "colab": {
          "base_uri": "https://localhost:8080/",
          "height": 283
        },
        "outputId": "e9bd2dc1-f2c1-4664-c6a2-bc29dbac6eb5"
      },
      "source": [
        "model.summary()"
      ],
      "execution_count": 17,
      "outputs": [
        {
          "output_type": "stream",
          "text": [
            "Model: \"sequential_1\"\n",
            "_________________________________________________________________\n",
            "Layer (type)                 Output Shape              Param #   \n",
            "=================================================================\n",
            "lambda_1 (Lambda)            (None, 256, 10000)        0         \n",
            "_________________________________________________________________\n",
            "global_average_pooling1d_mas (None, 10000)             0         \n",
            "_________________________________________________________________\n",
            "dense_1 (Dense)              (None, 16)                160016    \n",
            "_________________________________________________________________\n",
            "dense_2 (Dense)              (None, 1)                 17        \n",
            "=================================================================\n",
            "Total params: 160,033\n",
            "Trainable params: 160,033\n",
            "Non-trainable params: 0\n",
            "_________________________________________________________________\n"
          ],
          "name": "stdout"
        }
      ]
    },
    {
      "cell_type": "code",
      "metadata": {
        "id": "U3W5yY6zXXtF",
        "colab_type": "code",
        "colab": {
          "base_uri": "https://localhost:8080/",
          "height": 522
        },
        "outputId": "751cba98-333b-457b-b725-84385c37588e"
      },
      "source": [
        "from keras.utils import plot_model\n",
        "from IPython.display import SVG\n",
        "from keras.utils import vis_utils\n",
        "SVG(vis_utils.model_to_dot(model, show_shapes=True, show_layer_names=True, dpi = 70).create(prog='dot', format='svg'))"
      ],
      "execution_count": 18,
      "outputs": [
        {
          "output_type": "execute_result",
          "data": {
            "text/plain": [
              "<IPython.core.display.SVG object>"
            ],
            "image/svg+xml": "<svg height=\"376pt\" viewBox=\"0.00 0.00 638.00 387.00\" width=\"620pt\" xmlns=\"http://www.w3.org/2000/svg\" xmlns:xlink=\"http://www.w3.org/1999/xlink\">\n<g class=\"graph\" id=\"graph0\" transform=\"scale(.9722 .9722) rotate(0) translate(4 383)\">\n<title>G</title>\n<polygon fill=\"#ffffff\" points=\"-4,4 -4,-383 634,-383 634,4 -4,4\" stroke=\"transparent\"/>\n<!-- 140419470221096 -->\n<g class=\"node\" id=\"node1\">\n<title>140419470221096</title>\n<polygon fill=\"none\" points=\"151.5,-332.5 151.5,-378.5 478.5,-378.5 478.5,-332.5 151.5,-332.5\" stroke=\"#000000\"/>\n<text fill=\"#000000\" font-family=\"Times,serif\" font-size=\"14.00\" text-anchor=\"middle\" x=\"242.5\" y=\"-351.8\">lambda_1_input: InputLayer</text>\n<polyline fill=\"none\" points=\"333.5,-332.5 333.5,-378.5 \" stroke=\"#000000\"/>\n<text fill=\"#000000\" font-family=\"Times,serif\" font-size=\"14.00\" text-anchor=\"middle\" x=\"362.5\" y=\"-363.3\">input:</text>\n<polyline fill=\"none\" points=\"333.5,-355.5 391.5,-355.5 \" stroke=\"#000000\"/>\n<text fill=\"#000000\" font-family=\"Times,serif\" font-size=\"14.00\" text-anchor=\"middle\" x=\"362.5\" y=\"-340.3\">output:</text>\n<polyline fill=\"none\" points=\"391.5,-332.5 391.5,-378.5 \" stroke=\"#000000\"/>\n<text fill=\"#000000\" font-family=\"Times,serif\" font-size=\"14.00\" text-anchor=\"middle\" x=\"435\" y=\"-363.3\">(None, 256)</text>\n<polyline fill=\"none\" points=\"391.5,-355.5 478.5,-355.5 \" stroke=\"#000000\"/>\n<text fill=\"#000000\" font-family=\"Times,serif\" font-size=\"14.00\" text-anchor=\"middle\" x=\"435\" y=\"-340.3\">(None, 256)</text>\n</g>\n<!-- 140419470221040 -->\n<g class=\"node\" id=\"node2\">\n<title>140419470221040</title>\n<polygon fill=\"none\" points=\"156,-249.5 156,-295.5 474,-295.5 474,-249.5 156,-249.5\" stroke=\"#000000\"/>\n<text fill=\"#000000\" font-family=\"Times,serif\" font-size=\"14.00\" text-anchor=\"middle\" x=\"220\" y=\"-268.8\">lambda_1: Lambda</text>\n<polyline fill=\"none\" points=\"284,-249.5 284,-295.5 \" stroke=\"#000000\"/>\n<text fill=\"#000000\" font-family=\"Times,serif\" font-size=\"14.00\" text-anchor=\"middle\" x=\"313\" y=\"-280.3\">input:</text>\n<polyline fill=\"none\" points=\"284,-272.5 342,-272.5 \" stroke=\"#000000\"/>\n<text fill=\"#000000\" font-family=\"Times,serif\" font-size=\"14.00\" text-anchor=\"middle\" x=\"313\" y=\"-257.3\">output:</text>\n<polyline fill=\"none\" points=\"342,-249.5 342,-295.5 \" stroke=\"#000000\"/>\n<text fill=\"#000000\" font-family=\"Times,serif\" font-size=\"14.00\" text-anchor=\"middle\" x=\"408\" y=\"-280.3\">(None, 256)</text>\n<polyline fill=\"none\" points=\"342,-272.5 474,-272.5 \" stroke=\"#000000\"/>\n<text fill=\"#000000\" font-family=\"Times,serif\" font-size=\"14.00\" text-anchor=\"middle\" x=\"408\" y=\"-257.3\">(None, 256, 10000)</text>\n</g>\n<!-- 140419470221096&#45;&gt;140419470221040 -->\n<g class=\"edge\" id=\"edge1\">\n<title>140419470221096-&gt;140419470221040</title>\n<path d=\"M315,-332.3799C315,-324.1745 315,-314.7679 315,-305.8786\" fill=\"none\" stroke=\"#000000\"/>\n<polygon fill=\"#000000\" points=\"318.5001,-305.784 315,-295.784 311.5001,-305.784 318.5001,-305.784\" stroke=\"#000000\"/>\n</g>\n<!-- 140419470221152 -->\n<g class=\"node\" id=\"node3\">\n<title>140419470221152</title>\n<polygon fill=\"none\" points=\"0,-166.5 0,-212.5 630,-212.5 630,-166.5 0,-166.5\" stroke=\"#000000\"/>\n<text fill=\"#000000\" font-family=\"Times,serif\" font-size=\"14.00\" text-anchor=\"middle\" x=\"220\" y=\"-185.8\">global_average_pooling1d_masked_1: GlobalAveragePooling1DMasked</text>\n<polyline fill=\"none\" points=\"440,-166.5 440,-212.5 \" stroke=\"#000000\"/>\n<text fill=\"#000000\" font-family=\"Times,serif\" font-size=\"14.00\" text-anchor=\"middle\" x=\"469\" y=\"-197.3\">input:</text>\n<polyline fill=\"none\" points=\"440,-189.5 498,-189.5 \" stroke=\"#000000\"/>\n<text fill=\"#000000\" font-family=\"Times,serif\" font-size=\"14.00\" text-anchor=\"middle\" x=\"469\" y=\"-174.3\">output:</text>\n<polyline fill=\"none\" points=\"498,-166.5 498,-212.5 \" stroke=\"#000000\"/>\n<text fill=\"#000000\" font-family=\"Times,serif\" font-size=\"14.00\" text-anchor=\"middle\" x=\"564\" y=\"-197.3\">(None, 256, 10000)</text>\n<polyline fill=\"none\" points=\"498,-189.5 630,-189.5 \" stroke=\"#000000\"/>\n<text fill=\"#000000\" font-family=\"Times,serif\" font-size=\"14.00\" text-anchor=\"middle\" x=\"564\" y=\"-174.3\">(None, 10000)</text>\n</g>\n<!-- 140419470221040&#45;&gt;140419470221152 -->\n<g class=\"edge\" id=\"edge2\">\n<title>140419470221040-&gt;140419470221152</title>\n<path d=\"M315,-249.3799C315,-241.1745 315,-231.7679 315,-222.8786\" fill=\"none\" stroke=\"#000000\"/>\n<polygon fill=\"#000000\" points=\"318.5001,-222.784 315,-212.784 311.5001,-222.784 318.5001,-222.784\" stroke=\"#000000\"/>\n</g>\n<!-- 140419470220928 -->\n<g class=\"node\" id=\"node4\">\n<title>140419470220928</title>\n<polygon fill=\"none\" points=\"181.5,-83.5 181.5,-129.5 448.5,-129.5 448.5,-83.5 181.5,-83.5\" stroke=\"#000000\"/>\n<text fill=\"#000000\" font-family=\"Times,serif\" font-size=\"14.00\" text-anchor=\"middle\" x=\"235\" y=\"-102.8\">dense_1: Dense</text>\n<polyline fill=\"none\" points=\"288.5,-83.5 288.5,-129.5 \" stroke=\"#000000\"/>\n<text fill=\"#000000\" font-family=\"Times,serif\" font-size=\"14.00\" text-anchor=\"middle\" x=\"317.5\" y=\"-114.3\">input:</text>\n<polyline fill=\"none\" points=\"288.5,-106.5 346.5,-106.5 \" stroke=\"#000000\"/>\n<text fill=\"#000000\" font-family=\"Times,serif\" font-size=\"14.00\" text-anchor=\"middle\" x=\"317.5\" y=\"-91.3\">output:</text>\n<polyline fill=\"none\" points=\"346.5,-83.5 346.5,-129.5 \" stroke=\"#000000\"/>\n<text fill=\"#000000\" font-family=\"Times,serif\" font-size=\"14.00\" text-anchor=\"middle\" x=\"397.5\" y=\"-114.3\">(None, 10000)</text>\n<polyline fill=\"none\" points=\"346.5,-106.5 448.5,-106.5 \" stroke=\"#000000\"/>\n<text fill=\"#000000\" font-family=\"Times,serif\" font-size=\"14.00\" text-anchor=\"middle\" x=\"397.5\" y=\"-91.3\">(None, 16)</text>\n</g>\n<!-- 140419470221152&#45;&gt;140419470220928 -->\n<g class=\"edge\" id=\"edge3\">\n<title>140419470221152-&gt;140419470220928</title>\n<path d=\"M315,-166.3799C315,-158.1745 315,-148.7679 315,-139.8786\" fill=\"none\" stroke=\"#000000\"/>\n<polygon fill=\"#000000\" points=\"318.5001,-139.784 315,-129.784 311.5001,-139.784 318.5001,-139.784\" stroke=\"#000000\"/>\n</g>\n<!-- 140419330020800 -->\n<g class=\"node\" id=\"node5\">\n<title>140419330020800</title>\n<polygon fill=\"none\" points=\"192.5,-.5 192.5,-46.5 437.5,-46.5 437.5,-.5 192.5,-.5\" stroke=\"#000000\"/>\n<text fill=\"#000000\" font-family=\"Times,serif\" font-size=\"14.00\" text-anchor=\"middle\" x=\"246\" y=\"-19.8\">dense_2: Dense</text>\n<polyline fill=\"none\" points=\"299.5,-.5 299.5,-46.5 \" stroke=\"#000000\"/>\n<text fill=\"#000000\" font-family=\"Times,serif\" font-size=\"14.00\" text-anchor=\"middle\" x=\"328.5\" y=\"-31.3\">input:</text>\n<polyline fill=\"none\" points=\"299.5,-23.5 357.5,-23.5 \" stroke=\"#000000\"/>\n<text fill=\"#000000\" font-family=\"Times,serif\" font-size=\"14.00\" text-anchor=\"middle\" x=\"328.5\" y=\"-8.3\">output:</text>\n<polyline fill=\"none\" points=\"357.5,-.5 357.5,-46.5 \" stroke=\"#000000\"/>\n<text fill=\"#000000\" font-family=\"Times,serif\" font-size=\"14.00\" text-anchor=\"middle\" x=\"397.5\" y=\"-31.3\">(None, 16)</text>\n<polyline fill=\"none\" points=\"357.5,-23.5 437.5,-23.5 \" stroke=\"#000000\"/>\n<text fill=\"#000000\" font-family=\"Times,serif\" font-size=\"14.00\" text-anchor=\"middle\" x=\"397.5\" y=\"-8.3\">(None, 1)</text>\n</g>\n<!-- 140419470220928&#45;&gt;140419330020800 -->\n<g class=\"edge\" id=\"edge4\">\n<title>140419470220928-&gt;140419330020800</title>\n<path d=\"M315,-83.3799C315,-75.1745 315,-65.7679 315,-56.8786\" fill=\"none\" stroke=\"#000000\"/>\n<polygon fill=\"#000000\" points=\"318.5001,-56.784 315,-46.784 311.5001,-56.784 318.5001,-56.784\" stroke=\"#000000\"/>\n</g>\n</g>\n</svg>"
          },
          "metadata": {
            "tags": []
          },
          "execution_count": 18
        }
      ]
    },
    {
      "cell_type": "markdown",
      "metadata": {
        "colab_type": "text",
        "id": "_Mz96xpCgvTj"
      },
      "source": [
        "### Training the model"
      ]
    },
    {
      "cell_type": "markdown",
      "metadata": {
        "colab_type": "text",
        "id": "F3HbW_IKLqwT"
      },
      "source": [
        "To compile the model we need a loss function and an optimizer. We use binary_crossentropy loss function which is just a special case of categorical cross entropy. We also use Adam optimizer that can be used instead of the classical stochastic gradient descent procedure to update network weights iterative based in training data. You can read more about it here:\n",
        "(https://arxiv.org/abs/1412.6980v8\n",
        ")\n"
      ]
    },
    {
      "cell_type": "code",
      "metadata": {
        "colab_type": "code",
        "id": "qh1PWTNMxjUw",
        "outputId": "d876dcf1-6c91-4cf2-f6d2-764179d34b9f",
        "colab": {
          "base_uri": "https://localhost:8080/",
          "height": 153
        }
      },
      "source": [
        "model.compile(optimizer='adam',\n",
        "              loss='binary_crossentropy',\n",
        "              metrics=['accuracy'])"
      ],
      "execution_count": 19,
      "outputs": [
        {
          "output_type": "stream",
          "text": [
            "WARNING:tensorflow:From /usr/local/lib/python3.6/dist-packages/keras/optimizers.py:793: The name tf.train.Optimizer is deprecated. Please use tf.compat.v1.train.Optimizer instead.\n",
            "\n",
            "WARNING:tensorflow:From /usr/local/lib/python3.6/dist-packages/keras/backend/tensorflow_backend.py:3657: The name tf.log is deprecated. Please use tf.math.log instead.\n",
            "\n",
            "WARNING:tensorflow:From /usr/local/lib/python3.6/dist-packages/tensorflow_core/python/ops/nn_impl.py:183: where (from tensorflow.python.ops.array_ops) is deprecated and will be removed in a future version.\n",
            "Instructions for updating:\n",
            "Use tf.where in 2.0, which has the same broadcast rule as np.where\n"
          ],
          "name": "stdout"
        }
      ]
    },
    {
      "cell_type": "markdown",
      "metadata": {
        "colab_type": "text",
        "id": "E1jwQQqCN5Ia"
      },
      "source": [
        "When training, we want to check the accuracy of the model on data it hasn't seen before. So we create a validation set:"
      ]
    },
    {
      "cell_type": "code",
      "metadata": {
        "colab_type": "code",
        "id": "f5lAqzQlxjSM",
        "colab": {}
      },
      "source": [
        "X_val = np.array(X_train_enc[:10000])\n",
        "partial_X_train = np.array(X_train_enc[10000:])\n",
        "\n",
        "y_val = np.array(y_train[:10000])\n",
        "partial_y_train = np.array(y_train[10000:])"
      ],
      "execution_count": 0,
      "outputs": []
    },
    {
      "cell_type": "markdown",
      "metadata": {
        "colab_type": "text",
        "id": "E8Kpo5G3OJEY"
      },
      "source": [
        "Then we start to train the model for 40 epochs in mini-batches of 512 samples and monitor the model's loss and accuracy on the validation set."
      ]
    },
    {
      "cell_type": "code",
      "metadata": {
        "colab_type": "code",
        "id": "99_z39KAxjPi",
        "outputId": "ae119357-9836-485b-de44-3592aec9664d",
        "colab": {
          "base_uri": "https://localhost:8080/",
          "height": 1000
        }
      },
      "source": [
        "history = model.fit(partial_X_train,\n",
        "                    partial_y_train,\n",
        "                    epochs=40,\n",
        "                    batch_size=512,\n",
        "                    validation_data=(X_val, y_val),\n",
        "                    verbose=1)"
      ],
      "execution_count": 21,
      "outputs": [
        {
          "output_type": "stream",
          "text": [
            "WARNING:tensorflow:From /usr/local/lib/python3.6/dist-packages/keras/backend/tensorflow_backend.py:1033: The name tf.assign_add is deprecated. Please use tf.compat.v1.assign_add instead.\n",
            "\n",
            "WARNING:tensorflow:From /usr/local/lib/python3.6/dist-packages/keras/backend/tensorflow_backend.py:1020: The name tf.assign is deprecated. Please use tf.compat.v1.assign instead.\n",
            "\n",
            "WARNING:tensorflow:From /usr/local/lib/python3.6/dist-packages/keras/backend/tensorflow_backend.py:3005: The name tf.Session is deprecated. Please use tf.compat.v1.Session instead.\n",
            "\n",
            "Train on 15000 samples, validate on 10000 samples\n",
            "Epoch 1/40\n",
            "WARNING:tensorflow:From /usr/local/lib/python3.6/dist-packages/keras/backend/tensorflow_backend.py:190: The name tf.get_default_session is deprecated. Please use tf.compat.v1.get_default_session instead.\n",
            "\n",
            "WARNING:tensorflow:From /usr/local/lib/python3.6/dist-packages/keras/backend/tensorflow_backend.py:197: The name tf.ConfigProto is deprecated. Please use tf.compat.v1.ConfigProto instead.\n",
            "\n",
            "WARNING:tensorflow:From /usr/local/lib/python3.6/dist-packages/keras/backend/tensorflow_backend.py:207: The name tf.global_variables is deprecated. Please use tf.compat.v1.global_variables instead.\n",
            "\n",
            "WARNING:tensorflow:From /usr/local/lib/python3.6/dist-packages/keras/backend/tensorflow_backend.py:216: The name tf.is_variable_initialized is deprecated. Please use tf.compat.v1.is_variable_initialized instead.\n",
            "\n",
            "WARNING:tensorflow:From /usr/local/lib/python3.6/dist-packages/keras/backend/tensorflow_backend.py:223: The name tf.variables_initializer is deprecated. Please use tf.compat.v1.variables_initializer instead.\n",
            "\n",
            "15000/15000 [==============================] - 12s 822us/step - loss: 0.6927 - acc: 0.5170 - val_loss: 0.6921 - val_acc: 0.5054\n",
            "Epoch 2/40\n",
            "15000/15000 [==============================] - 3s 197us/step - loss: 0.6910 - acc: 0.5235 - val_loss: 0.6902 - val_acc: 0.6324\n",
            "Epoch 3/40\n",
            "15000/15000 [==============================] - 3s 198us/step - loss: 0.6889 - acc: 0.6399 - val_loss: 0.6882 - val_acc: 0.5581\n",
            "Epoch 4/40\n",
            "15000/15000 [==============================] - 3s 195us/step - loss: 0.6862 - acc: 0.6343 - val_loss: 0.6854 - val_acc: 0.6413\n",
            "Epoch 5/40\n",
            "15000/15000 [==============================] - 3s 197us/step - loss: 0.6831 - acc: 0.6531 - val_loss: 0.6822 - val_acc: 0.6533\n",
            "Epoch 6/40\n",
            "15000/15000 [==============================] - 3s 197us/step - loss: 0.6794 - acc: 0.6588 - val_loss: 0.6784 - val_acc: 0.6656\n",
            "Epoch 7/40\n",
            "15000/15000 [==============================] - 3s 196us/step - loss: 0.6753 - acc: 0.6768 - val_loss: 0.6745 - val_acc: 0.6682\n",
            "Epoch 8/40\n",
            "15000/15000 [==============================] - 3s 197us/step - loss: 0.6706 - acc: 0.6791 - val_loss: 0.6699 - val_acc: 0.6717\n",
            "Epoch 9/40\n",
            "15000/15000 [==============================] - 3s 196us/step - loss: 0.6658 - acc: 0.6769 - val_loss: 0.6651 - val_acc: 0.6748\n",
            "Epoch 10/40\n",
            "15000/15000 [==============================] - 3s 195us/step - loss: 0.6607 - acc: 0.6878 - val_loss: 0.6607 - val_acc: 0.6770\n",
            "Epoch 11/40\n",
            "15000/15000 [==============================] - 3s 197us/step - loss: 0.6554 - acc: 0.6903 - val_loss: 0.6553 - val_acc: 0.6825\n",
            "Epoch 12/40\n",
            "15000/15000 [==============================] - 3s 198us/step - loss: 0.6502 - acc: 0.6930 - val_loss: 0.6503 - val_acc: 0.6891\n",
            "Epoch 13/40\n",
            "15000/15000 [==============================] - 3s 198us/step - loss: 0.6448 - acc: 0.6939 - val_loss: 0.6452 - val_acc: 0.6924\n",
            "Epoch 14/40\n",
            "15000/15000 [==============================] - 3s 196us/step - loss: 0.6392 - acc: 0.6962 - val_loss: 0.6401 - val_acc: 0.6929\n",
            "Epoch 15/40\n",
            "15000/15000 [==============================] - 3s 198us/step - loss: 0.6340 - acc: 0.7008 - val_loss: 0.6350 - val_acc: 0.6911\n",
            "Epoch 16/40\n",
            "15000/15000 [==============================] - 3s 196us/step - loss: 0.6286 - acc: 0.7013 - val_loss: 0.6305 - val_acc: 0.6969\n",
            "Epoch 17/40\n",
            "15000/15000 [==============================] - 3s 196us/step - loss: 0.6233 - acc: 0.7061 - val_loss: 0.6254 - val_acc: 0.7032\n",
            "Epoch 18/40\n",
            "15000/15000 [==============================] - 3s 197us/step - loss: 0.6182 - acc: 0.7061 - val_loss: 0.6208 - val_acc: 0.7028\n",
            "Epoch 19/40\n",
            "15000/15000 [==============================] - 3s 196us/step - loss: 0.6132 - acc: 0.7089 - val_loss: 0.6155 - val_acc: 0.7040\n",
            "Epoch 20/40\n",
            "15000/15000 [==============================] - 3s 196us/step - loss: 0.6081 - acc: 0.7128 - val_loss: 0.6109 - val_acc: 0.7054\n",
            "Epoch 21/40\n",
            "15000/15000 [==============================] - 3s 197us/step - loss: 0.6033 - acc: 0.7159 - val_loss: 0.6066 - val_acc: 0.7117\n",
            "Epoch 22/40\n",
            "15000/15000 [==============================] - 3s 197us/step - loss: 0.5986 - acc: 0.7178 - val_loss: 0.6031 - val_acc: 0.7114\n",
            "Epoch 23/40\n",
            "15000/15000 [==============================] - 3s 198us/step - loss: 0.5941 - acc: 0.7177 - val_loss: 0.5978 - val_acc: 0.7136\n",
            "Epoch 24/40\n",
            "15000/15000 [==============================] - 3s 196us/step - loss: 0.5898 - acc: 0.7215 - val_loss: 0.5940 - val_acc: 0.7200\n",
            "Epoch 25/40\n",
            "15000/15000 [==============================] - 3s 195us/step - loss: 0.5856 - acc: 0.7222 - val_loss: 0.5903 - val_acc: 0.7202\n",
            "Epoch 26/40\n",
            "15000/15000 [==============================] - 3s 197us/step - loss: 0.5819 - acc: 0.7243 - val_loss: 0.5869 - val_acc: 0.7198\n",
            "Epoch 27/40\n",
            "15000/15000 [==============================] - 3s 196us/step - loss: 0.5778 - acc: 0.7267 - val_loss: 0.5829 - val_acc: 0.7237\n",
            "Epoch 28/40\n",
            "15000/15000 [==============================] - 3s 196us/step - loss: 0.5739 - acc: 0.7293 - val_loss: 0.5791 - val_acc: 0.7217\n",
            "Epoch 29/40\n",
            "15000/15000 [==============================] - 3s 198us/step - loss: 0.5704 - acc: 0.7301 - val_loss: 0.5755 - val_acc: 0.7252\n",
            "Epoch 30/40\n",
            "15000/15000 [==============================] - 3s 198us/step - loss: 0.5669 - acc: 0.7319 - val_loss: 0.5726 - val_acc: 0.7288\n",
            "Epoch 31/40\n",
            "15000/15000 [==============================] - 3s 196us/step - loss: 0.5640 - acc: 0.7326 - val_loss: 0.5692 - val_acc: 0.7273\n",
            "Epoch 32/40\n",
            "15000/15000 [==============================] - 3s 197us/step - loss: 0.5605 - acc: 0.7350 - val_loss: 0.5665 - val_acc: 0.7297\n",
            "Epoch 33/40\n",
            "15000/15000 [==============================] - 3s 197us/step - loss: 0.5576 - acc: 0.7385 - val_loss: 0.5634 - val_acc: 0.7304\n",
            "Epoch 34/40\n",
            "15000/15000 [==============================] - 3s 199us/step - loss: 0.5547 - acc: 0.7394 - val_loss: 0.5608 - val_acc: 0.7303\n",
            "Epoch 35/40\n",
            "15000/15000 [==============================] - 3s 195us/step - loss: 0.5523 - acc: 0.7401 - val_loss: 0.5583 - val_acc: 0.7313\n",
            "Epoch 36/40\n",
            "15000/15000 [==============================] - 3s 196us/step - loss: 0.5500 - acc: 0.7393 - val_loss: 0.5558 - val_acc: 0.7348\n",
            "Epoch 37/40\n",
            "15000/15000 [==============================] - 3s 195us/step - loss: 0.5471 - acc: 0.7415 - val_loss: 0.5536 - val_acc: 0.7383\n",
            "Epoch 38/40\n",
            "15000/15000 [==============================] - 3s 197us/step - loss: 0.5450 - acc: 0.7423 - val_loss: 0.5515 - val_acc: 0.7379\n",
            "Epoch 39/40\n",
            "15000/15000 [==============================] - 3s 197us/step - loss: 0.5426 - acc: 0.7436 - val_loss: 0.5496 - val_acc: 0.7380\n",
            "Epoch 40/40\n",
            "15000/15000 [==============================] - 3s 196us/step - loss: 0.5406 - acc: 0.7435 - val_loss: 0.5479 - val_acc: 0.7394\n"
          ],
          "name": "stdout"
        }
      ]
    },
    {
      "cell_type": "markdown",
      "metadata": {
        "colab_type": "text",
        "id": "i_9a_rybhG5J"
      },
      "source": [
        "### Evaluating the model"
      ]
    },
    {
      "cell_type": "markdown",
      "metadata": {
        "colab_type": "text",
        "id": "EYLH8kOgOo9W"
      },
      "source": [
        "To evaulate the model on test data:"
      ]
    },
    {
      "cell_type": "code",
      "metadata": {
        "colab_type": "code",
        "id": "CFMt2Q7b3taP",
        "outputId": "7e797527-acea-4bd7-c9e1-0229e1427ce2",
        "colab": {
          "base_uri": "https://localhost:8080/",
          "height": 33
        }
      },
      "source": [
        "results = model.evaluate(X_test_enc, y_test)"
      ],
      "execution_count": 22,
      "outputs": [
        {
          "output_type": "stream",
          "text": [
            "25000/25000 [==============================] - 4s 144us/step\n"
          ],
          "name": "stdout"
        }
      ]
    },
    {
      "cell_type": "code",
      "metadata": {
        "colab_type": "code",
        "id": "9RrKiPHcAmQU",
        "outputId": "bc02e08d-46ca-4d68-cad8-7e2c2e7ae256",
        "colab": {
          "base_uri": "https://localhost:8080/",
          "height": 33
        }
      },
      "source": [
        "print(results)\n",
        "# loss, accuracay "
      ],
      "execution_count": 23,
      "outputs": [
        {
          "output_type": "stream",
          "text": [
            "[0.5473038294219971, 0.73852]\n"
          ],
          "name": "stdout"
        }
      ]
    },
    {
      "cell_type": "markdown",
      "metadata": {
        "colab_type": "text",
        "id": "pW7IpHxMO6qp"
      },
      "source": [
        "Our first model accuracy using one-hot vectors is \n",
        "\n",
        "\n",
        "\n"
      ]
    },
    {
      "cell_type": "markdown",
      "metadata": {
        "colab_type": "text",
        "id": "OwZk_yoWhPJB"
      },
      "source": [
        "### Plotting the accuracy graph"
      ]
    },
    {
      "cell_type": "markdown",
      "metadata": {
        "colab_type": "text",
        "id": "JIDPH1J7PMzN"
      },
      "source": [
        "To plot a graph of accuracy and loss over time we can use Matplotlib:"
      ]
    },
    {
      "cell_type": "code",
      "metadata": {
        "colab_type": "code",
        "id": "LS9k2vvSAqB7",
        "outputId": "1debf42f-c38a-47f9-e522-6c70878a1dd4",
        "colab": {
          "base_uri": "https://localhost:8080/",
          "height": 295
        }
      },
      "source": [
        "import matplotlib.pyplot as plt\n",
        "\n",
        "history_dict = history.history\n",
        "\n",
        "acc = history_dict['acc']\n",
        "val_acc = history_dict['val_acc']\n",
        "loss = history_dict['loss']\n",
        "val_loss = history_dict['val_loss']\n",
        "\n",
        "epochs = range(1, len(acc) + 1)\n",
        "\n",
        "plt.plot(epochs, acc, 'bo', label='Training acc')\n",
        "plt.plot(epochs, val_acc, 'b', label='Validation acc')\n",
        "plt.title('Training and validation accuracy')\n",
        "plt.xlabel('Epochs')\n",
        "plt.ylabel('Accuracy')\n",
        "plt.legend()\n",
        "\n",
        "plt.show()"
      ],
      "execution_count": 24,
      "outputs": [
        {
          "output_type": "display_data",
          "data": {
            "image/png": "[encoded data removed]",
            "text/plain": [
              "<Figure size 432x288 with 1 Axes>"
            ]
          },
          "metadata": {
            "tags": []
          }
        }
      ]
    },
    {
      "cell_type": "markdown",
      "metadata": {
        "colab_type": "text",
        "id": "a7OwOQw4h8RX"
      },
      "source": [
        "### Neural Network model using word embeddings"
      ]
    },
    {
      "cell_type": "markdown",
      "metadata": {
        "colab_type": "text",
        "id": "l-QzOMO_P4jc"
      },
      "source": [
        "Now instead of one-hot vectors, we want to use embedding. We change our first layer in model1 to an Embedding layer. This layer takes the integer-encoded vocabulary and looks up the embedding vector for each word-index. These vectors are learned as the model trains. The vectors add a dimension to the output array. The resulting dimensions are: (batch, sequence, embedding)."
      ]
    },
    {
      "cell_type": "code",
      "metadata": {
        "colab_type": "code",
        "id": "MFrCsL-NBFVL",
        "outputId": "537a531d-8686-4b37-803c-30f6f8567fe6",
        "colab": {
          "base_uri": "https://localhost:8080/",
          "height": 1000
        }
      },
      "source": [
        "VOCAB_SIZE= 10000\n",
        "\n",
        "# put the code here\n",
        "model2 = Sequential()\n",
        "EMBED_SIZE = 100\n",
        "model2.add(Embedding(VOCAB_SIZE, EMBED_SIZE,input_length = MAX_SEQUENCE_LENGTH ))\n",
        "model2.add(GlobalAveragePooling1DMasked())\n",
        "model2.add(Dense(16, activation=\"relu\"))\n",
        "model2.add(Dense(1, activation=\"sigmoid\"))\n",
        "\n",
        "model2.compile(optimizer='adam',\n",
        "              loss='binary_crossentropy',\n",
        "              metrics=['accuracy'])\n",
        "\n",
        "model2.summary()\n",
        "\n",
        "\n",
        "X_val = np.array(X_train_enc[:10000])\n",
        "partial_X_train = np.array(X_train_enc[10000:])\n",
        "\n",
        "history2 = model2.fit(partial_X_train,\n",
        "                    partial_y_train,\n",
        "                    epochs=40,\n",
        "                    batch_size=512,\n",
        "                    validation_data=(X_val, y_val),\n",
        "                    verbose=1)\n",
        "\n",
        "results = model2.evaluate(X_test_enc, y_test)\n",
        "print(results)"
      ],
      "execution_count": 25,
      "outputs": [
        {
          "output_type": "stream",
          "text": [
            "Model: \"sequential_2\"\n",
            "_________________________________________________________________\n",
            "Layer (type)                 Output Shape              Param #   \n",
            "=================================================================\n",
            "embedding_1 (Embedding)      (None, 256, 100)          1000000   \n",
            "_________________________________________________________________\n",
            "global_average_pooling1d_mas (None, 100)               0         \n",
            "_________________________________________________________________\n",
            "dense_3 (Dense)              (None, 16)                1616      \n",
            "_________________________________________________________________\n",
            "dense_4 (Dense)              (None, 1)                 17        \n",
            "=================================================================\n",
            "Total params: 1,001,633\n",
            "Trainable params: 1,001,633\n",
            "Non-trainable params: 0\n",
            "_________________________________________________________________\n",
            "Train on 15000 samples, validate on 10000 samples\n",
            "Epoch 1/40\n",
            "15000/15000 [==============================] - 1s 34us/step - loss: 0.6892 - acc: 0.5762 - val_loss: 0.6825 - val_acc: 0.6682\n",
            "Epoch 2/40\n",
            "15000/15000 [==============================] - 0s 16us/step - loss: 0.6697 - acc: 0.6877 - val_loss: 0.6528 - val_acc: 0.6894\n",
            "Epoch 3/40\n",
            "15000/15000 [==============================] - 0s 17us/step - loss: 0.6235 - acc: 0.7565 - val_loss: 0.5952 - val_acc: 0.7657\n",
            "Epoch 4/40\n",
            "15000/15000 [==============================] - 0s 17us/step - loss: 0.5490 - acc: 0.8183 - val_loss: 0.5187 - val_acc: 0.8243\n",
            "Epoch 5/40\n",
            "15000/15000 [==============================] - 0s 16us/step - loss: 0.4634 - acc: 0.8548 - val_loss: 0.4439 - val_acc: 0.8430\n",
            "Epoch 6/40\n",
            "15000/15000 [==============================] - 0s 16us/step - loss: 0.3881 - acc: 0.8747 - val_loss: 0.3886 - val_acc: 0.8590\n",
            "Epoch 7/40\n",
            "15000/15000 [==============================] - 0s 17us/step - loss: 0.3321 - acc: 0.8883 - val_loss: 0.3515 - val_acc: 0.8675\n",
            "Epoch 8/40\n",
            "15000/15000 [==============================] - 0s 17us/step - loss: 0.2915 - acc: 0.8991 - val_loss: 0.3274 - val_acc: 0.8734\n",
            "Epoch 9/40\n",
            "15000/15000 [==============================] - 0s 17us/step - loss: 0.2600 - acc: 0.9099 - val_loss: 0.3117 - val_acc: 0.8788\n",
            "Epoch 10/40\n",
            "15000/15000 [==============================] - 0s 16us/step - loss: 0.2367 - acc: 0.9167 - val_loss: 0.3007 - val_acc: 0.8808\n",
            "Epoch 11/40\n",
            "15000/15000 [==============================] - 0s 18us/step - loss: 0.2145 - acc: 0.9273 - val_loss: 0.2930 - val_acc: 0.8835\n",
            "Epoch 12/40\n",
            "15000/15000 [==============================] - 0s 17us/step - loss: 0.1971 - acc: 0.9335 - val_loss: 0.2896 - val_acc: 0.8827\n",
            "Epoch 13/40\n",
            "15000/15000 [==============================] - 0s 16us/step - loss: 0.1832 - acc: 0.9383 - val_loss: 0.2859 - val_acc: 0.8854\n",
            "Epoch 14/40\n",
            "15000/15000 [==============================] - 0s 17us/step - loss: 0.1687 - acc: 0.9451 - val_loss: 0.2848 - val_acc: 0.8848\n",
            "Epoch 15/40\n",
            "15000/15000 [==============================] - 0s 17us/step - loss: 0.1561 - acc: 0.9523 - val_loss: 0.2847 - val_acc: 0.8859\n",
            "Epoch 16/40\n",
            "15000/15000 [==============================] - 0s 17us/step - loss: 0.1445 - acc: 0.9571 - val_loss: 0.2862 - val_acc: 0.8858\n",
            "Epoch 17/40\n",
            "15000/15000 [==============================] - 0s 17us/step - loss: 0.1349 - acc: 0.9610 - val_loss: 0.2885 - val_acc: 0.8856\n",
            "Epoch 18/40\n",
            "15000/15000 [==============================] - 0s 18us/step - loss: 0.1255 - acc: 0.9639 - val_loss: 0.2917 - val_acc: 0.8850\n",
            "Epoch 19/40\n",
            "15000/15000 [==============================] - 0s 17us/step - loss: 0.1175 - acc: 0.9672 - val_loss: 0.2978 - val_acc: 0.8848\n",
            "Epoch 20/40\n",
            "15000/15000 [==============================] - 0s 17us/step - loss: 0.1107 - acc: 0.9694 - val_loss: 0.2999 - val_acc: 0.8833\n",
            "Epoch 21/40\n",
            "15000/15000 [==============================] - 0s 16us/step - loss: 0.1038 - acc: 0.9724 - val_loss: 0.3044 - val_acc: 0.8831\n",
            "Epoch 22/40\n",
            "15000/15000 [==============================] - 0s 16us/step - loss: 0.0959 - acc: 0.9761 - val_loss: 0.3105 - val_acc: 0.8817\n",
            "Epoch 23/40\n",
            "15000/15000 [==============================] - 0s 16us/step - loss: 0.0896 - acc: 0.9782 - val_loss: 0.3163 - val_acc: 0.8798\n",
            "Epoch 24/40\n",
            "15000/15000 [==============================] - 0s 17us/step - loss: 0.0839 - acc: 0.9805 - val_loss: 0.3224 - val_acc: 0.8811\n",
            "Epoch 25/40\n",
            "15000/15000 [==============================] - 0s 16us/step - loss: 0.0789 - acc: 0.9822 - val_loss: 0.3284 - val_acc: 0.8790\n",
            "Epoch 26/40\n",
            "15000/15000 [==============================] - 0s 16us/step - loss: 0.0739 - acc: 0.9845 - val_loss: 0.3369 - val_acc: 0.8770\n",
            "Epoch 27/40\n",
            "15000/15000 [==============================] - 0s 18us/step - loss: 0.0693 - acc: 0.9862 - val_loss: 0.3426 - val_acc: 0.8757\n",
            "Epoch 28/40\n",
            "15000/15000 [==============================] - 0s 16us/step - loss: 0.0652 - acc: 0.9877 - val_loss: 0.3551 - val_acc: 0.8742\n",
            "Epoch 29/40\n",
            "15000/15000 [==============================] - 0s 16us/step - loss: 0.0626 - acc: 0.9875 - val_loss: 0.3564 - val_acc: 0.8770\n",
            "Epoch 30/40\n",
            "15000/15000 [==============================] - 0s 16us/step - loss: 0.0581 - acc: 0.9889 - val_loss: 0.3663 - val_acc: 0.8744\n",
            "Epoch 31/40\n",
            "15000/15000 [==============================] - 0s 17us/step - loss: 0.0546 - acc: 0.9901 - val_loss: 0.3738 - val_acc: 0.8728\n",
            "Epoch 32/40\n",
            "15000/15000 [==============================] - 0s 18us/step - loss: 0.0509 - acc: 0.9917 - val_loss: 0.3837 - val_acc: 0.8727\n",
            "Epoch 33/40\n",
            "15000/15000 [==============================] - 0s 16us/step - loss: 0.0486 - acc: 0.9924 - val_loss: 0.3860 - val_acc: 0.8745\n",
            "Epoch 34/40\n",
            "15000/15000 [==============================] - 0s 17us/step - loss: 0.0456 - acc: 0.9928 - val_loss: 0.3992 - val_acc: 0.8713\n",
            "Epoch 35/40\n",
            "15000/15000 [==============================] - 0s 17us/step - loss: 0.0429 - acc: 0.9938 - val_loss: 0.4060 - val_acc: 0.8723\n",
            "Epoch 36/40\n",
            "15000/15000 [==============================] - 0s 17us/step - loss: 0.0401 - acc: 0.9944 - val_loss: 0.4110 - val_acc: 0.8729\n",
            "Epoch 37/40\n",
            "15000/15000 [==============================] - 0s 18us/step - loss: 0.0375 - acc: 0.9946 - val_loss: 0.4219 - val_acc: 0.8717\n",
            "Epoch 38/40\n",
            "15000/15000 [==============================] - 0s 16us/step - loss: 0.0353 - acc: 0.9951 - val_loss: 0.4274 - val_acc: 0.8724\n",
            "Epoch 39/40\n",
            "15000/15000 [==============================] - 0s 17us/step - loss: 0.0333 - acc: 0.9961 - val_loss: 0.4378 - val_acc: 0.8711\n",
            "Epoch 40/40\n",
            "15000/15000 [==============================] - 0s 16us/step - loss: 0.0314 - acc: 0.9958 - val_loss: 0.4415 - val_acc: 0.8712\n",
            "25000/25000 [==============================] - 1s 36us/step\n",
            "[0.469260712428093, 0.8578]\n"
          ],
          "name": "stdout"
        }
      ]
    },
    {
      "cell_type": "code",
      "metadata": {
        "colab_type": "code",
        "id": "I4zIPJDcTPq3",
        "outputId": "505626a4-dfb2-49d6-cb2c-27866ecac941",
        "colab": {
          "base_uri": "https://localhost:8080/",
          "height": 33
        }
      },
      "source": [
        "results = model2.evaluate(X_test_enc, y_test)"
      ],
      "execution_count": 26,
      "outputs": [
        {
          "output_type": "stream",
          "text": [
            "25000/25000 [==============================] - 1s 35us/step\n"
          ],
          "name": "stdout"
        }
      ]
    },
    {
      "cell_type": "code",
      "metadata": {
        "colab_type": "code",
        "id": "waS96edDTRyL",
        "outputId": "f051b00a-a521-4295-e926-d409eab92c7d",
        "colab": {
          "base_uri": "https://localhost:8080/",
          "height": 33
        }
      },
      "source": [
        "print (results)"
      ],
      "execution_count": 27,
      "outputs": [
        {
          "output_type": "stream",
          "text": [
            "[0.469260712428093, 0.8578]\n"
          ],
          "name": "stdout"
        }
      ]
    },
    {
      "cell_type": "code",
      "metadata": {
        "id": "uShgAGuZYTnh",
        "colab_type": "code",
        "colab": {
          "base_uri": "https://localhost:8080/",
          "height": 522
        },
        "outputId": "b6067bfc-8975-47cd-c7d4-8e80af5ad0db"
      },
      "source": [
        "from keras.utils import plot_model\n",
        "from IPython.display import SVG\n",
        "from keras.utils import vis_utils\n",
        "SVG(vis_utils.model_to_dot(model2, show_shapes=True, show_layer_names=True, dpi = 70).create(prog='dot', format='svg'))"
      ],
      "execution_count": 28,
      "outputs": [
        {
          "output_type": "execute_result",
          "data": {
            "text/plain": [
              "<IPython.core.display.SVG object>"
            ],
            "image/svg+xml": "<svg height=\"376pt\" viewBox=\"0.00 0.00 623.00 387.00\" width=\"606pt\" xmlns=\"http://www.w3.org/2000/svg\" xmlns:xlink=\"http://www.w3.org/1999/xlink\">\n<g class=\"graph\" id=\"graph0\" transform=\"scale(.9722 .9722) rotate(0) translate(4 383)\">\n<title>G</title>\n<polygon fill=\"#ffffff\" points=\"-4,4 -4,-383 619,-383 619,4 -4,4\" stroke=\"transparent\"/>\n<!-- 140419470761936 -->\n<g class=\"node\" id=\"node1\">\n<title>140419470761936</title>\n<polygon fill=\"none\" points=\"132.5,-332.5 132.5,-378.5 482.5,-378.5 482.5,-332.5 132.5,-332.5\" stroke=\"#000000\"/>\n<text fill=\"#000000\" font-family=\"Times,serif\" font-size=\"14.00\" text-anchor=\"middle\" x=\"235\" y=\"-351.8\">embedding_1_input: InputLayer</text>\n<polyline fill=\"none\" points=\"337.5,-332.5 337.5,-378.5 \" stroke=\"#000000\"/>\n<text fill=\"#000000\" font-family=\"Times,serif\" font-size=\"14.00\" text-anchor=\"middle\" x=\"366.5\" y=\"-363.3\">input:</text>\n<polyline fill=\"none\" points=\"337.5,-355.5 395.5,-355.5 \" stroke=\"#000000\"/>\n<text fill=\"#000000\" font-family=\"Times,serif\" font-size=\"14.00\" text-anchor=\"middle\" x=\"366.5\" y=\"-340.3\">output:</text>\n<polyline fill=\"none\" points=\"395.5,-332.5 395.5,-378.5 \" stroke=\"#000000\"/>\n<text fill=\"#000000\" font-family=\"Times,serif\" font-size=\"14.00\" text-anchor=\"middle\" x=\"439\" y=\"-363.3\">(None, 256)</text>\n<polyline fill=\"none\" points=\"395.5,-355.5 482.5,-355.5 \" stroke=\"#000000\"/>\n<text fill=\"#000000\" font-family=\"Times,serif\" font-size=\"14.00\" text-anchor=\"middle\" x=\"439\" y=\"-340.3\">(None, 256)</text>\n</g>\n<!-- 140419470758464 -->\n<g class=\"node\" id=\"node2\">\n<title>140419470758464</title>\n<polygon fill=\"none\" points=\"134.5,-249.5 134.5,-295.5 480.5,-295.5 480.5,-249.5 134.5,-249.5\" stroke=\"#000000\"/>\n<text fill=\"#000000\" font-family=\"Times,serif\" font-size=\"14.00\" text-anchor=\"middle\" x=\"220\" y=\"-268.8\">embedding_1: Embedding</text>\n<polyline fill=\"none\" points=\"305.5,-249.5 305.5,-295.5 \" stroke=\"#000000\"/>\n<text fill=\"#000000\" font-family=\"Times,serif\" font-size=\"14.00\" text-anchor=\"middle\" x=\"334.5\" y=\"-280.3\">input:</text>\n<polyline fill=\"none\" points=\"305.5,-272.5 363.5,-272.5 \" stroke=\"#000000\"/>\n<text fill=\"#000000\" font-family=\"Times,serif\" font-size=\"14.00\" text-anchor=\"middle\" x=\"334.5\" y=\"-257.3\">output:</text>\n<polyline fill=\"none\" points=\"363.5,-249.5 363.5,-295.5 \" stroke=\"#000000\"/>\n<text fill=\"#000000\" font-family=\"Times,serif\" font-size=\"14.00\" text-anchor=\"middle\" x=\"422\" y=\"-280.3\">(None, 256)</text>\n<polyline fill=\"none\" points=\"363.5,-272.5 480.5,-272.5 \" stroke=\"#000000\"/>\n<text fill=\"#000000\" font-family=\"Times,serif\" font-size=\"14.00\" text-anchor=\"middle\" x=\"422\" y=\"-257.3\">(None, 256, 100)</text>\n</g>\n<!-- 140419470761936&#45;&gt;140419470758464 -->\n<g class=\"edge\" id=\"edge1\">\n<title>140419470761936-&gt;140419470758464</title>\n<path d=\"M307.5,-332.3799C307.5,-324.1745 307.5,-314.7679 307.5,-305.8786\" fill=\"none\" stroke=\"#000000\"/>\n<polygon fill=\"#000000\" points=\"311.0001,-305.784 307.5,-295.784 304.0001,-305.784 311.0001,-305.784\" stroke=\"#000000\"/>\n</g>\n<!-- 140419470761600 -->\n<g class=\"node\" id=\"node3\">\n<title>140419470761600</title>\n<polygon fill=\"none\" points=\"0,-166.5 0,-212.5 615,-212.5 615,-166.5 0,-166.5\" stroke=\"#000000\"/>\n<text fill=\"#000000\" font-family=\"Times,serif\" font-size=\"14.00\" text-anchor=\"middle\" x=\"220\" y=\"-185.8\">global_average_pooling1d_masked_2: GlobalAveragePooling1DMasked</text>\n<polyline fill=\"none\" points=\"440,-166.5 440,-212.5 \" stroke=\"#000000\"/>\n<text fill=\"#000000\" font-family=\"Times,serif\" font-size=\"14.00\" text-anchor=\"middle\" x=\"469\" y=\"-197.3\">input:</text>\n<polyline fill=\"none\" points=\"440,-189.5 498,-189.5 \" stroke=\"#000000\"/>\n<text fill=\"#000000\" font-family=\"Times,serif\" font-size=\"14.00\" text-anchor=\"middle\" x=\"469\" y=\"-174.3\">output:</text>\n<polyline fill=\"none\" points=\"498,-166.5 498,-212.5 \" stroke=\"#000000\"/>\n<text fill=\"#000000\" font-family=\"Times,serif\" font-size=\"14.00\" text-anchor=\"middle\" x=\"556.5\" y=\"-197.3\">(None, 256, 100)</text>\n<polyline fill=\"none\" points=\"498,-189.5 615,-189.5 \" stroke=\"#000000\"/>\n<text fill=\"#000000\" font-family=\"Times,serif\" font-size=\"14.00\" text-anchor=\"middle\" x=\"556.5\" y=\"-174.3\">(None, 100)</text>\n</g>\n<!-- 140419470758464&#45;&gt;140419470761600 -->\n<g class=\"edge\" id=\"edge2\">\n<title>140419470758464-&gt;140419470761600</title>\n<path d=\"M307.5,-249.3799C307.5,-241.1745 307.5,-231.7679 307.5,-222.8786\" fill=\"none\" stroke=\"#000000\"/>\n<polygon fill=\"#000000\" points=\"311.0001,-222.784 307.5,-212.784 304.0001,-222.784 311.0001,-222.784\" stroke=\"#000000\"/>\n</g>\n<!-- 140419470760424 -->\n<g class=\"node\" id=\"node4\">\n<title>140419470760424</title>\n<polygon fill=\"none\" points=\"181.5,-83.5 181.5,-129.5 433.5,-129.5 433.5,-83.5 181.5,-83.5\" stroke=\"#000000\"/>\n<text fill=\"#000000\" font-family=\"Times,serif\" font-size=\"14.00\" text-anchor=\"middle\" x=\"235\" y=\"-102.8\">dense_3: Dense</text>\n<polyline fill=\"none\" points=\"288.5,-83.5 288.5,-129.5 \" stroke=\"#000000\"/>\n<text fill=\"#000000\" font-family=\"Times,serif\" font-size=\"14.00\" text-anchor=\"middle\" x=\"317.5\" y=\"-114.3\">input:</text>\n<polyline fill=\"none\" points=\"288.5,-106.5 346.5,-106.5 \" stroke=\"#000000\"/>\n<text fill=\"#000000\" font-family=\"Times,serif\" font-size=\"14.00\" text-anchor=\"middle\" x=\"317.5\" y=\"-91.3\">output:</text>\n<polyline fill=\"none\" points=\"346.5,-83.5 346.5,-129.5 \" stroke=\"#000000\"/>\n<text fill=\"#000000\" font-family=\"Times,serif\" font-size=\"14.00\" text-anchor=\"middle\" x=\"390\" y=\"-114.3\">(None, 100)</text>\n<polyline fill=\"none\" points=\"346.5,-106.5 433.5,-106.5 \" stroke=\"#000000\"/>\n<text fill=\"#000000\" font-family=\"Times,serif\" font-size=\"14.00\" text-anchor=\"middle\" x=\"390\" y=\"-91.3\">(None, 16)</text>\n</g>\n<!-- 140419470761600&#45;&gt;140419470760424 -->\n<g class=\"edge\" id=\"edge3\">\n<title>140419470761600-&gt;140419470760424</title>\n<path d=\"M307.5,-166.3799C307.5,-158.1745 307.5,-148.7679 307.5,-139.8786\" fill=\"none\" stroke=\"#000000\"/>\n<polygon fill=\"#000000\" points=\"311.0001,-139.784 307.5,-129.784 304.0001,-139.784 311.0001,-139.784\" stroke=\"#000000\"/>\n</g>\n<!-- 140419444584800 -->\n<g class=\"node\" id=\"node5\">\n<title>140419444584800</title>\n<polygon fill=\"none\" points=\"185,-.5 185,-46.5 430,-46.5 430,-.5 185,-.5\" stroke=\"#000000\"/>\n<text fill=\"#000000\" font-family=\"Times,serif\" font-size=\"14.00\" text-anchor=\"middle\" x=\"238.5\" y=\"-19.8\">dense_4: Dense</text>\n<polyline fill=\"none\" points=\"292,-.5 292,-46.5 \" stroke=\"#000000\"/>\n<text fill=\"#000000\" font-family=\"Times,serif\" font-size=\"14.00\" text-anchor=\"middle\" x=\"321\" y=\"-31.3\">input:</text>\n<polyline fill=\"none\" points=\"292,-23.5 350,-23.5 \" stroke=\"#000000\"/>\n<text fill=\"#000000\" font-family=\"Times,serif\" font-size=\"14.00\" text-anchor=\"middle\" x=\"321\" y=\"-8.3\">output:</text>\n<polyline fill=\"none\" points=\"350,-.5 350,-46.5 \" stroke=\"#000000\"/>\n<text fill=\"#000000\" font-family=\"Times,serif\" font-size=\"14.00\" text-anchor=\"middle\" x=\"390\" y=\"-31.3\">(None, 16)</text>\n<polyline fill=\"none\" points=\"350,-23.5 430,-23.5 \" stroke=\"#000000\"/>\n<text fill=\"#000000\" font-family=\"Times,serif\" font-size=\"14.00\" text-anchor=\"middle\" x=\"390\" y=\"-8.3\">(None, 1)</text>\n</g>\n<!-- 140419470760424&#45;&gt;140419444584800 -->\n<g class=\"edge\" id=\"edge4\">\n<title>140419470760424-&gt;140419444584800</title>\n<path d=\"M307.5,-83.3799C307.5,-75.1745 307.5,-65.7679 307.5,-56.8786\" fill=\"none\" stroke=\"#000000\"/>\n<polygon fill=\"#000000\" points=\"311.0001,-56.784 307.5,-46.784 304.0001,-56.784 311.0001,-56.784\" stroke=\"#000000\"/>\n</g>\n</g>\n</svg>"
          },
          "metadata": {
            "tags": []
          },
          "execution_count": 28
        }
      ]
    },
    {
      "cell_type": "code",
      "metadata": {
        "colab_type": "code",
        "id": "XB7aveVzTC5a",
        "outputId": "6635da87-d420-4cf2-bdc3-c84078937267",
        "colab": {
          "base_uri": "https://localhost:8080/",
          "height": 295
        }
      },
      "source": [
        "import matplotlib.pyplot as plt\n",
        "\n",
        "history_dict = history2.history\n",
        "\n",
        "acc = history_dict['acc']\n",
        "val_acc = history_dict['val_acc']\n",
        "loss = history_dict['loss']\n",
        "val_loss = history_dict['val_loss']\n",
        "\n",
        "epochs = range(1, len(acc) + 1)\n",
        "\n",
        "plt.plot(epochs, acc, 'bo', label='Training acc')\n",
        "plt.plot(epochs, val_acc, 'b', label='Validation acc')\n",
        "plt.title('Training and validation accuracy')\n",
        "plt.xlabel('Epochs')\n",
        "plt.ylabel('Accuracy')\n",
        "plt.legend()\n",
        "\n",
        "plt.show()"
      ],
      "execution_count": 29,
      "outputs": [
        {
          "output_type": "display_data",
          "data": {
            "image/png": "[encoded data removed]",
            "text/plain": [
              "<Figure size 432x288 with 1 Axes>"
            ]
          },
          "metadata": {
            "tags": []
          }
        }
      ]
    },
    {
      "cell_type": "markdown",
      "metadata": {
        "colab_type": "text",
        "id": "7FBpTc_rXGvQ"
      },
      "source": [
        "The accuracy of model2 is 87%. Using Embedding layer instead of one-hot layer improved the performance."
      ]
    },
    {
      "cell_type": "markdown",
      "metadata": {
        "colab_type": "text",
        "id": "--020hfG6rN2"
      },
      "source": [
        "### Using pre-trained word embeddings"
      ]
    },
    {
      "cell_type": "markdown",
      "metadata": {
        "colab_type": "text",
        "id": "J4gBeOyi4gkM"
      },
      "source": [
        "The Embedding layer can be used to load a pre-trained word embedding model. We are going to use GloVe embeddings, which you can read about it here (https://nlp.stanford.edu/projects/glove/). GloVe stands for \"Global Vectors for Word Representation\". It's a somewhat popular embedding technique based on factorizing a matrix of word co-occurence statistics. You can download GloVe and we can seed the Keras Embedding layer with weights from the pre-trained embedding for the words in your dataset.\n",
        "First, we need to read GloVe and map words to GloVe:\n"
      ]
    },
    {
      "cell_type": "code",
      "metadata": {
        "colab_type": "code",
        "id": "f_PypdqG9Iis",
        "colab": {}
      },
      "source": [
        "def readGloveFile(gloveFile):\n",
        "    with open(gloveFile, 'r') as f:\n",
        "        wordToGlove = {}  \n",
        "        wordToIndex = {}  \n",
        "        indexToWord = {}  \n",
        "\n",
        "        for line in f:\n",
        "            record = line.strip().split()\n",
        "            token = record[0] \n",
        "            wordToGlove[token] = np.array(record[1:], dtype=np.float64) \n",
        "            \n",
        "        tokens = sorted(wordToGlove.keys())\n",
        "        for idx, tok in enumerate(tokens):\n",
        "            kerasIdx = idx + 1  \n",
        "            wordToIndex[tok] = kerasIdx \n",
        "            indexToWord[kerasIdx] = tok \n",
        "\n",
        "    return wordToIndex, indexToWord, wordToGlove"
      ],
      "execution_count": 0,
      "outputs": []
    },
    {
      "cell_type": "markdown",
      "metadata": {
        "colab_type": "text",
        "id": "ZcIZ3dq59bCh"
      },
      "source": [
        "Now, we create our pre-trained Embedding layer:"
      ]
    },
    {
      "cell_type": "code",
      "metadata": {
        "colab_type": "code",
        "id": "gembn7VM3ex8",
        "colab": {}
      },
      "source": [
        "def createPretrainedEmbeddingLayer(wordToGlove, wordToIndex, isTrainable):\n",
        "    vocabLen = len(wordToIndex) + 1  \n",
        "    embDim = next(iter(wordToGlove.values())).shape[0]  \n",
        "   \n",
        "    embeddingMatrix = np.zeros((vocabLen, embDim))  \n",
        "    for word, index in wordToIndex.items():\n",
        "        embeddingMatrix[index, :] = wordToGlove[word] \n",
        "\n",
        "    embeddingLayer = Embedding(vocabLen, embDim, embeddings_initializer=keras.initializers.Constant(embeddingMatrix), trainable=isTrainable)\n",
        "    return embeddingLayer"
      ],
      "execution_count": 0,
      "outputs": []
    },
    {
      "cell_type": "markdown",
      "metadata": {
        "colab_type": "text",
        "id": "HGxciLK4-xOr"
      },
      "source": [
        "We freeze the weights. To create the model:"
      ]
    },
    {
      "cell_type": "code",
      "metadata": {
        "colab_type": "code",
        "id": "PZCPUM0W_Drc",
        "outputId": "7ac3d60b-e957-47ba-aa1e-b8a18434e8f1",
        "colab": {
          "base_uri": "https://localhost:8080/",
          "height": 170
        }
      },
      "source": [
        "# put the code here\n",
        "from google.colab import drive\n",
        "drive.mount('/content/drive')\n",
        "\n",
        "wordToIndex, indexToWord, wordToGlove = readGloveFile('/content/drive/My Drive/glove.6B.300d.txt')\n",
        "\n",
        "print(len(wordToIndex))\n",
        "print(len(wordToGlove))\n",
        "print(len(indexToWord))\n"
      ],
      "execution_count": 32,
      "outputs": [
        {
          "output_type": "stream",
          "text": [
            "Go to this URL in a browser: https://accounts.google.com/o/oauth2/auth?client_id=947318989803-6bn6qk8qdgf4n4g3pfee6491hc0brc4i.apps.googleusercontent.com&redirect_uri=urn%3aietf%3awg%3aoauth%3a2.0%3aoob&response_type=code&scope=email%20https%3a%2f%2fwww.googleapis.com%2fauth%2fdocs.test%20https%3a%2f%2fwww.googleapis.com%2fauth%2fdrive%20https%3a%2f%2fwww.googleapis.com%2fauth%2fdrive.photos.readonly%20https%3a%2f%2fwww.googleapis.com%2fauth%2fpeopleapi.readonly\n",
            "\n",
            "Enter your authorization code:\n",
            "··········\n",
            "Mounted at /content/drive\n",
            "400000\n",
            "400000\n",
            "400000\n"
          ],
          "name": "stdout"
        }
      ]
    },
    {
      "cell_type": "markdown",
      "metadata": {
        "colab_type": "text",
        "id": "M-bZ5SCHiIMl"
      },
      "source": [
        "### Adding another hidden layer to the network"
      ]
    },
    {
      "cell_type": "markdown",
      "metadata": {
        "colab_type": "text",
        "id": "ZbZ6UBDfbjea"
      },
      "source": [
        "In model3, we only add another dense layer to see if that improves the performance."
      ]
    },
    {
      "cell_type": "code",
      "metadata": {
        "colab_type": "code",
        "id": "Vw0le1YjDdCa",
        "outputId": "c753e0b8-c0a4-4a4f-b6b8-197488ef8dbe",
        "colab": {
          "base_uri": "https://localhost:8080/",
          "height": 1000
        }
      },
      "source": [
        "# put your code here\n",
        "model3 = Sequential()\n",
        "model3.add(createPretrainedEmbeddingLayer(wordToGlove, wordToIndex, True))\n",
        "model3.add(GlobalAveragePooling1DMasked())\n",
        "model3.add(Dense(16, activation=\"relu\"))\n",
        "model3.add(Dense(16, activation=\"relu\"))\n",
        "model3.add(Dense(1, activation=\"sigmoid\"))\n",
        "\n",
        "model3.compile(optimizer='adam',\n",
        "              loss='binary_crossentropy',\n",
        "              metrics=['accuracy'])\n",
        "\n",
        "model3.summary()\n",
        "\n",
        "X_val = np.array(X_train_enc[:10000])\n",
        "partial_X_train = np.array(X_train_enc[10000:])\n",
        "\n",
        "history3 = model3.fit(partial_X_train,\n",
        "                    partial_y_train,\n",
        "                    epochs=40,\n",
        "                    batch_size=512,\n",
        "                    validation_data=(X_val, y_val),\n",
        "                    verbose=1)\n",
        "\n",
        "results = model3.evaluate(X_test_enc, y_test)\n",
        "print(results)\n",
        "results = model3.evaluate(X_test_enc, y_test)\n",
        "print(results)"
      ],
      "execution_count": 33,
      "outputs": [
        {
          "output_type": "stream",
          "text": [
            "Model: \"sequential_3\"\n",
            "_________________________________________________________________\n",
            "Layer (type)                 Output Shape              Param #   \n",
            "=================================================================\n",
            "embedding_2 (Embedding)      (None, None, 300)         120000300 \n",
            "_________________________________________________________________\n",
            "global_average_pooling1d_mas (None, 300)               0         \n",
            "_________________________________________________________________\n",
            "dense_5 (Dense)              (None, 16)                4816      \n",
            "_________________________________________________________________\n",
            "dense_6 (Dense)              (None, 16)                272       \n",
            "_________________________________________________________________\n",
            "dense_7 (Dense)              (None, 1)                 17        \n",
            "=================================================================\n",
            "Total params: 120,005,405\n",
            "Trainable params: 120,005,405\n",
            "Non-trainable params: 0\n",
            "_________________________________________________________________\n"
          ],
          "name": "stdout"
        },
        {
          "output_type": "stream",
          "text": [
            "/usr/local/lib/python3.6/dist-packages/tensorflow_core/python/framework/indexed_slices.py:421: UserWarning: Converting sparse IndexedSlices to a dense Tensor with 120000300 elements. This may consume a large amount of memory.\n",
            "  num_elements)\n"
          ],
          "name": "stderr"
        },
        {
          "output_type": "stream",
          "text": [
            "Train on 15000 samples, validate on 10000 samples\n",
            "Epoch 1/40\n",
            "15000/15000 [==============================] - 6s 433us/step - loss: 0.6922 - acc: 0.5231 - val_loss: 0.6856 - val_acc: 0.6043\n",
            "Epoch 2/40\n",
            "15000/15000 [==============================] - 1s 97us/step - loss: 0.6757 - acc: 0.6317 - val_loss: 0.6624 - val_acc: 0.6508\n",
            "Epoch 3/40\n",
            "15000/15000 [==============================] - 1s 97us/step - loss: 0.6368 - acc: 0.6971 - val_loss: 0.6068 - val_acc: 0.7292\n",
            "Epoch 4/40\n",
            "15000/15000 [==============================] - 1s 97us/step - loss: 0.5536 - acc: 0.7738 - val_loss: 0.5052 - val_acc: 0.7976\n",
            "Epoch 5/40\n",
            "15000/15000 [==============================] - 1s 96us/step - loss: 0.4421 - acc: 0.8322 - val_loss: 0.4155 - val_acc: 0.8365\n",
            "Epoch 6/40\n",
            "15000/15000 [==============================] - 1s 97us/step - loss: 0.3524 - acc: 0.8684 - val_loss: 0.3554 - val_acc: 0.8568\n",
            "Epoch 7/40\n",
            "15000/15000 [==============================] - 1s 96us/step - loss: 0.2946 - acc: 0.8889 - val_loss: 0.3251 - val_acc: 0.8686\n",
            "Epoch 8/40\n",
            "15000/15000 [==============================] - 1s 96us/step - loss: 0.2521 - acc: 0.9043 - val_loss: 0.3097 - val_acc: 0.8744\n",
            "Epoch 9/40\n",
            "15000/15000 [==============================] - 1s 97us/step - loss: 0.2201 - acc: 0.9183 - val_loss: 0.2965 - val_acc: 0.8773\n",
            "Epoch 10/40\n",
            "15000/15000 [==============================] - 1s 97us/step - loss: 0.1938 - acc: 0.9304 - val_loss: 0.2925 - val_acc: 0.8821\n",
            "Epoch 11/40\n",
            "15000/15000 [==============================] - 1s 96us/step - loss: 0.1706 - acc: 0.9413 - val_loss: 0.2944 - val_acc: 0.8823\n",
            "Epoch 12/40\n",
            "15000/15000 [==============================] - 1s 97us/step - loss: 0.1515 - acc: 0.9510 - val_loss: 0.2937 - val_acc: 0.8845\n",
            "Epoch 13/40\n",
            "15000/15000 [==============================] - 1s 96us/step - loss: 0.1344 - acc: 0.9577 - val_loss: 0.2998 - val_acc: 0.8837\n",
            "Epoch 14/40\n",
            "15000/15000 [==============================] - 1s 96us/step - loss: 0.1214 - acc: 0.9620 - val_loss: 0.3103 - val_acc: 0.8806\n",
            "Epoch 15/40\n",
            "15000/15000 [==============================] - 1s 98us/step - loss: 0.1111 - acc: 0.9654 - val_loss: 0.3202 - val_acc: 0.8805\n",
            "Epoch 16/40\n",
            "15000/15000 [==============================] - 1s 96us/step - loss: 0.0965 - acc: 0.9717 - val_loss: 0.3256 - val_acc: 0.8797\n",
            "Epoch 17/40\n",
            "15000/15000 [==============================] - 1s 96us/step - loss: 0.0863 - acc: 0.9764 - val_loss: 0.3368 - val_acc: 0.8787\n",
            "Epoch 18/40\n",
            "15000/15000 [==============================] - 1s 98us/step - loss: 0.0768 - acc: 0.9805 - val_loss: 0.3515 - val_acc: 0.8756\n",
            "Epoch 19/40\n",
            "15000/15000 [==============================] - 1s 97us/step - loss: 0.0705 - acc: 0.9824 - val_loss: 0.3625 - val_acc: 0.8767\n",
            "Epoch 20/40\n",
            "15000/15000 [==============================] - 1s 97us/step - loss: 0.0617 - acc: 0.9868 - val_loss: 0.3786 - val_acc: 0.8738\n",
            "Epoch 21/40\n",
            "15000/15000 [==============================] - 1s 98us/step - loss: 0.0552 - acc: 0.9893 - val_loss: 0.3960 - val_acc: 0.8715\n",
            "Epoch 22/40\n",
            "15000/15000 [==============================] - 1s 97us/step - loss: 0.0499 - acc: 0.9910 - val_loss: 0.4098 - val_acc: 0.8705\n",
            "Epoch 23/40\n",
            "15000/15000 [==============================] - 1s 98us/step - loss: 0.0449 - acc: 0.9923 - val_loss: 0.4238 - val_acc: 0.8711\n",
            "Epoch 24/40\n",
            "15000/15000 [==============================] - 1s 97us/step - loss: 0.0410 - acc: 0.9932 - val_loss: 0.4340 - val_acc: 0.8718\n",
            "Epoch 25/40\n",
            "15000/15000 [==============================] - 1s 96us/step - loss: 0.0366 - acc: 0.9945 - val_loss: 0.4487 - val_acc: 0.8719\n",
            "Epoch 26/40\n",
            "15000/15000 [==============================] - 1s 97us/step - loss: 0.0334 - acc: 0.9951 - val_loss: 0.4627 - val_acc: 0.8698\n",
            "Epoch 27/40\n",
            "15000/15000 [==============================] - 1s 97us/step - loss: 0.0299 - acc: 0.9959 - val_loss: 0.4820 - val_acc: 0.8676\n",
            "Epoch 28/40\n",
            "15000/15000 [==============================] - 1s 96us/step - loss: 0.0275 - acc: 0.9963 - val_loss: 0.5184 - val_acc: 0.8646\n",
            "Epoch 29/40\n",
            "15000/15000 [==============================] - 1s 96us/step - loss: 0.0234 - acc: 0.9971 - val_loss: 0.5213 - val_acc: 0.8656\n",
            "Epoch 30/40\n",
            "15000/15000 [==============================] - 1s 97us/step - loss: 0.0198 - acc: 0.9979 - val_loss: 0.5435 - val_acc: 0.8630\n",
            "Epoch 31/40\n",
            "15000/15000 [==============================] - 1s 97us/step - loss: 0.0176 - acc: 0.9981 - val_loss: 0.5615 - val_acc: 0.8631\n",
            "Epoch 32/40\n",
            "15000/15000 [==============================] - 1s 98us/step - loss: 0.0160 - acc: 0.9984 - val_loss: 0.5750 - val_acc: 0.8631\n",
            "Epoch 33/40\n",
            "15000/15000 [==============================] - 1s 98us/step - loss: 0.0137 - acc: 0.9988 - val_loss: 0.5901 - val_acc: 0.8619\n",
            "Epoch 34/40\n",
            "15000/15000 [==============================] - 1s 96us/step - loss: 0.0127 - acc: 0.9988 - val_loss: 0.6068 - val_acc: 0.8606\n",
            "Epoch 35/40\n",
            "15000/15000 [==============================] - 1s 96us/step - loss: 0.0110 - acc: 0.9991 - val_loss: 0.6176 - val_acc: 0.8613\n",
            "Epoch 36/40\n",
            "15000/15000 [==============================] - 1s 97us/step - loss: 0.0103 - acc: 0.9991 - val_loss: 0.6337 - val_acc: 0.8599\n",
            "Epoch 37/40\n",
            "15000/15000 [==============================] - 1s 97us/step - loss: 0.0088 - acc: 0.9993 - val_loss: 0.6460 - val_acc: 0.8608\n",
            "Epoch 38/40\n",
            "15000/15000 [==============================] - 1s 97us/step - loss: 0.0074 - acc: 0.9994 - val_loss: 0.6620 - val_acc: 0.8606\n",
            "Epoch 39/40\n",
            "15000/15000 [==============================] - 1s 96us/step - loss: 0.0067 - acc: 0.9996 - val_loss: 0.6830 - val_acc: 0.8592\n",
            "Epoch 40/40\n",
            "15000/15000 [==============================] - 1s 97us/step - loss: 0.0058 - acc: 0.9996 - val_loss: 0.6957 - val_acc: 0.8594\n",
            "25000/25000 [==============================] - 1s 39us/step\n",
            "[0.7407108402895928, 0.84988]\n",
            "25000/25000 [==============================] - 1s 37us/step\n",
            "[0.7407108402895928, 0.84988]\n"
          ],
          "name": "stdout"
        }
      ]
    },
    {
      "cell_type": "code",
      "metadata": {
        "id": "uVvj3_ZPZIp7",
        "colab_type": "code",
        "colab": {
          "base_uri": "https://localhost:8080/",
          "height": 631
        },
        "outputId": "6498372d-48e5-4e67-fc29-fb035ec558d9"
      },
      "source": [
        "from keras.utils import plot_model\n",
        "from IPython.display import SVG\n",
        "from keras.utils import vis_utils\n",
        "SVG(vis_utils.model_to_dot(model3, show_shapes=True, show_layer_names=True, dpi = 70).create(prog='dot', format='svg'))"
      ],
      "execution_count": 34,
      "outputs": [
        {
          "output_type": "execute_result",
          "data": {
            "text/plain": [
              "<IPython.core.display.SVG object>"
            ],
            "image/svg+xml": "<svg height=\"457pt\" viewBox=\"0.00 0.00 632.00 470.00\" width=\"614pt\" xmlns=\"http://www.w3.org/2000/svg\" xmlns:xlink=\"http://www.w3.org/1999/xlink\">\n<g class=\"graph\" id=\"graph0\" transform=\"scale(.9722 .9722) rotate(0) translate(4 466)\">\n<title>G</title>\n<polygon fill=\"#ffffff\" points=\"-4,4 -4,-466 628,-466 628,4 -4,4\" stroke=\"transparent\"/>\n<!-- 140419362994216 -->\n<g class=\"node\" id=\"node1\">\n<title>140419362994216</title>\n<polygon fill=\"none\" points=\"132.5,-415.5 132.5,-461.5 491.5,-461.5 491.5,-415.5 132.5,-415.5\" stroke=\"#000000\"/>\n<text fill=\"#000000\" font-family=\"Times,serif\" font-size=\"14.00\" text-anchor=\"middle\" x=\"235\" y=\"-434.8\">embedding_2_input: InputLayer</text>\n<polyline fill=\"none\" points=\"337.5,-415.5 337.5,-461.5 \" stroke=\"#000000\"/>\n<text fill=\"#000000\" font-family=\"Times,serif\" font-size=\"14.00\" text-anchor=\"middle\" x=\"366.5\" y=\"-446.3\">input:</text>\n<polyline fill=\"none\" points=\"337.5,-438.5 395.5,-438.5 \" stroke=\"#000000\"/>\n<text fill=\"#000000\" font-family=\"Times,serif\" font-size=\"14.00\" text-anchor=\"middle\" x=\"366.5\" y=\"-423.3\">output:</text>\n<polyline fill=\"none\" points=\"395.5,-415.5 395.5,-461.5 \" stroke=\"#000000\"/>\n<text fill=\"#000000\" font-family=\"Times,serif\" font-size=\"14.00\" text-anchor=\"middle\" x=\"443.5\" y=\"-446.3\">(None, None)</text>\n<polyline fill=\"none\" points=\"395.5,-438.5 491.5,-438.5 \" stroke=\"#000000\"/>\n<text fill=\"#000000\" font-family=\"Times,serif\" font-size=\"14.00\" text-anchor=\"middle\" x=\"443.5\" y=\"-423.3\">(None, None)</text>\n</g>\n<!-- 140419362994832 -->\n<g class=\"node\" id=\"node2\">\n<title>140419362994832</title>\n<polygon fill=\"none\" points=\"134.5,-332.5 134.5,-378.5 489.5,-378.5 489.5,-332.5 134.5,-332.5\" stroke=\"#000000\"/>\n<text fill=\"#000000\" font-family=\"Times,serif\" font-size=\"14.00\" text-anchor=\"middle\" x=\"220\" y=\"-351.8\">embedding_2: Embedding</text>\n<polyline fill=\"none\" points=\"305.5,-332.5 305.5,-378.5 \" stroke=\"#000000\"/>\n<text fill=\"#000000\" font-family=\"Times,serif\" font-size=\"14.00\" text-anchor=\"middle\" x=\"334.5\" y=\"-363.3\">input:</text>\n<polyline fill=\"none\" points=\"305.5,-355.5 363.5,-355.5 \" stroke=\"#000000\"/>\n<text fill=\"#000000\" font-family=\"Times,serif\" font-size=\"14.00\" text-anchor=\"middle\" x=\"334.5\" y=\"-340.3\">output:</text>\n<polyline fill=\"none\" points=\"363.5,-332.5 363.5,-378.5 \" stroke=\"#000000\"/>\n<text fill=\"#000000\" font-family=\"Times,serif\" font-size=\"14.00\" text-anchor=\"middle\" x=\"426.5\" y=\"-363.3\">(None, None)</text>\n<polyline fill=\"none\" points=\"363.5,-355.5 489.5,-355.5 \" stroke=\"#000000\"/>\n<text fill=\"#000000\" font-family=\"Times,serif\" font-size=\"14.00\" text-anchor=\"middle\" x=\"426.5\" y=\"-340.3\">(None, None, 300)</text>\n</g>\n<!-- 140419362994216&#45;&gt;140419362994832 -->\n<g class=\"edge\" id=\"edge1\">\n<title>140419362994216-&gt;140419362994832</title>\n<path d=\"M312,-415.3799C312,-407.1745 312,-397.7679 312,-388.8786\" fill=\"none\" stroke=\"#000000\"/>\n<polygon fill=\"#000000\" points=\"315.5001,-388.784 312,-378.784 308.5001,-388.784 315.5001,-388.784\" stroke=\"#000000\"/>\n</g>\n<!-- 140419363439392 -->\n<g class=\"node\" id=\"node3\">\n<title>140419363439392</title>\n<polygon fill=\"none\" points=\"0,-249.5 0,-295.5 624,-295.5 624,-249.5 0,-249.5\" stroke=\"#000000\"/>\n<text fill=\"#000000\" font-family=\"Times,serif\" font-size=\"14.00\" text-anchor=\"middle\" x=\"220\" y=\"-268.8\">global_average_pooling1d_masked_3: GlobalAveragePooling1DMasked</text>\n<polyline fill=\"none\" points=\"440,-249.5 440,-295.5 \" stroke=\"#000000\"/>\n<text fill=\"#000000\" font-family=\"Times,serif\" font-size=\"14.00\" text-anchor=\"middle\" x=\"469\" y=\"-280.3\">input:</text>\n<polyline fill=\"none\" points=\"440,-272.5 498,-272.5 \" stroke=\"#000000\"/>\n<text fill=\"#000000\" font-family=\"Times,serif\" font-size=\"14.00\" text-anchor=\"middle\" x=\"469\" y=\"-257.3\">output:</text>\n<polyline fill=\"none\" points=\"498,-249.5 498,-295.5 \" stroke=\"#000000\"/>\n<text fill=\"#000000\" font-family=\"Times,serif\" font-size=\"14.00\" text-anchor=\"middle\" x=\"561\" y=\"-280.3\">(None, None, 300)</text>\n<polyline fill=\"none\" points=\"498,-272.5 624,-272.5 \" stroke=\"#000000\"/>\n<text fill=\"#000000\" font-family=\"Times,serif\" font-size=\"14.00\" text-anchor=\"middle\" x=\"561\" y=\"-257.3\">(None, 300)</text>\n</g>\n<!-- 140419362994832&#45;&gt;140419363439392 -->\n<g class=\"edge\" id=\"edge2\">\n<title>140419362994832-&gt;140419363439392</title>\n<path d=\"M312,-332.3799C312,-324.1745 312,-314.7679 312,-305.8786\" fill=\"none\" stroke=\"#000000\"/>\n<polygon fill=\"#000000\" points=\"315.5001,-305.784 312,-295.784 308.5001,-305.784 315.5001,-305.784\" stroke=\"#000000\"/>\n</g>\n<!-- 140419362994608 -->\n<g class=\"node\" id=\"node4\">\n<title>140419362994608</title>\n<polygon fill=\"none\" points=\"186,-166.5 186,-212.5 438,-212.5 438,-166.5 186,-166.5\" stroke=\"#000000\"/>\n<text fill=\"#000000\" font-family=\"Times,serif\" font-size=\"14.00\" text-anchor=\"middle\" x=\"239.5\" y=\"-185.8\">dense_5: Dense</text>\n<polyline fill=\"none\" points=\"293,-166.5 293,-212.5 \" stroke=\"#000000\"/>\n<text fill=\"#000000\" font-family=\"Times,serif\" font-size=\"14.00\" text-anchor=\"middle\" x=\"322\" y=\"-197.3\">input:</text>\n<polyline fill=\"none\" points=\"293,-189.5 351,-189.5 \" stroke=\"#000000\"/>\n<text fill=\"#000000\" font-family=\"Times,serif\" font-size=\"14.00\" text-anchor=\"middle\" x=\"322\" y=\"-174.3\">output:</text>\n<polyline fill=\"none\" points=\"351,-166.5 351,-212.5 \" stroke=\"#000000\"/>\n<text fill=\"#000000\" font-family=\"Times,serif\" font-size=\"14.00\" text-anchor=\"middle\" x=\"394.5\" y=\"-197.3\">(None, 300)</text>\n<polyline fill=\"none\" points=\"351,-189.5 438,-189.5 \" stroke=\"#000000\"/>\n<text fill=\"#000000\" font-family=\"Times,serif\" font-size=\"14.00\" text-anchor=\"middle\" x=\"394.5\" y=\"-174.3\">(None, 16)</text>\n</g>\n<!-- 140419363439392&#45;&gt;140419362994608 -->\n<g class=\"edge\" id=\"edge3\">\n<title>140419363439392-&gt;140419362994608</title>\n<path d=\"M312,-249.3799C312,-241.1745 312,-231.7679 312,-222.8786\" fill=\"none\" stroke=\"#000000\"/>\n<polygon fill=\"#000000\" points=\"315.5001,-222.784 312,-212.784 308.5001,-222.784 315.5001,-222.784\" stroke=\"#000000\"/>\n</g>\n<!-- 140419362993712 -->\n<g class=\"node\" id=\"node5\">\n<title>140419362993712</title>\n<polygon fill=\"none\" points=\"189.5,-83.5 189.5,-129.5 434.5,-129.5 434.5,-83.5 189.5,-83.5\" stroke=\"#000000\"/>\n<text fill=\"#000000\" font-family=\"Times,serif\" font-size=\"14.00\" text-anchor=\"middle\" x=\"243\" y=\"-102.8\">dense_6: Dense</text>\n<polyline fill=\"none\" points=\"296.5,-83.5 296.5,-129.5 \" stroke=\"#000000\"/>\n<text fill=\"#000000\" font-family=\"Times,serif\" font-size=\"14.00\" text-anchor=\"middle\" x=\"325.5\" y=\"-114.3\">input:</text>\n<polyline fill=\"none\" points=\"296.5,-106.5 354.5,-106.5 \" stroke=\"#000000\"/>\n<text fill=\"#000000\" font-family=\"Times,serif\" font-size=\"14.00\" text-anchor=\"middle\" x=\"325.5\" y=\"-91.3\">output:</text>\n<polyline fill=\"none\" points=\"354.5,-83.5 354.5,-129.5 \" stroke=\"#000000\"/>\n<text fill=\"#000000\" font-family=\"Times,serif\" font-size=\"14.00\" text-anchor=\"middle\" x=\"394.5\" y=\"-114.3\">(None, 16)</text>\n<polyline fill=\"none\" points=\"354.5,-106.5 434.5,-106.5 \" stroke=\"#000000\"/>\n<text fill=\"#000000\" font-family=\"Times,serif\" font-size=\"14.00\" text-anchor=\"middle\" x=\"394.5\" y=\"-91.3\">(None, 16)</text>\n</g>\n<!-- 140419362994608&#45;&gt;140419362993712 -->\n<g class=\"edge\" id=\"edge4\">\n<title>140419362994608-&gt;140419362993712</title>\n<path d=\"M312,-166.3799C312,-158.1745 312,-148.7679 312,-139.8786\" fill=\"none\" stroke=\"#000000\"/>\n<polygon fill=\"#000000\" points=\"315.5001,-139.784 312,-129.784 308.5001,-139.784 315.5001,-139.784\" stroke=\"#000000\"/>\n</g>\n<!-- 140419363455776 -->\n<g class=\"node\" id=\"node6\">\n<title>140419363455776</title>\n<polygon fill=\"none\" points=\"189.5,-.5 189.5,-46.5 434.5,-46.5 434.5,-.5 189.5,-.5\" stroke=\"#000000\"/>\n<text fill=\"#000000\" font-family=\"Times,serif\" font-size=\"14.00\" text-anchor=\"middle\" x=\"243\" y=\"-19.8\">dense_7: Dense</text>\n<polyline fill=\"none\" points=\"296.5,-.5 296.5,-46.5 \" stroke=\"#000000\"/>\n<text fill=\"#000000\" font-family=\"Times,serif\" font-size=\"14.00\" text-anchor=\"middle\" x=\"325.5\" y=\"-31.3\">input:</text>\n<polyline fill=\"none\" points=\"296.5,-23.5 354.5,-23.5 \" stroke=\"#000000\"/>\n<text fill=\"#000000\" font-family=\"Times,serif\" font-size=\"14.00\" text-anchor=\"middle\" x=\"325.5\" y=\"-8.3\">output:</text>\n<polyline fill=\"none\" points=\"354.5,-.5 354.5,-46.5 \" stroke=\"#000000\"/>\n<text fill=\"#000000\" font-family=\"Times,serif\" font-size=\"14.00\" text-anchor=\"middle\" x=\"394.5\" y=\"-31.3\">(None, 16)</text>\n<polyline fill=\"none\" points=\"354.5,-23.5 434.5,-23.5 \" stroke=\"#000000\"/>\n<text fill=\"#000000\" font-family=\"Times,serif\" font-size=\"14.00\" text-anchor=\"middle\" x=\"394.5\" y=\"-8.3\">(None, 1)</text>\n</g>\n<!-- 140419362993712&#45;&gt;140419363455776 -->\n<g class=\"edge\" id=\"edge5\">\n<title>140419362993712-&gt;140419363455776</title>\n<path d=\"M312,-83.3799C312,-75.1745 312,-65.7679 312,-56.8786\" fill=\"none\" stroke=\"#000000\"/>\n<polygon fill=\"#000000\" points=\"315.5001,-56.784 312,-46.784 308.5001,-56.784 315.5001,-56.784\" stroke=\"#000000\"/>\n</g>\n</g>\n</svg>"
          },
          "metadata": {
            "tags": []
          },
          "execution_count": 34
        }
      ]
    },
    {
      "cell_type": "code",
      "metadata": {
        "colab_type": "code",
        "id": "QtsdVeW7UgCu",
        "outputId": "1b88eb78-6d7e-4bbd-b162-873623b3dec3",
        "colab": {
          "base_uri": "https://localhost:8080/",
          "height": 295
        }
      },
      "source": [
        "import matplotlib.pyplot as plt\n",
        "\n",
        "history_dict = history3.history\n",
        "\n",
        "acc = history_dict['acc']\n",
        "val_acc = history_dict['val_acc']\n",
        "loss = history_dict['loss']\n",
        "val_loss = history_dict['val_loss']\n",
        "\n",
        "epochs = range(1, len(acc) + 1)\n",
        "\n",
        "plt.plot(epochs, acc, 'bo', label='Training acc')\n",
        "plt.plot(epochs, val_acc, 'b', label='Validation acc')\n",
        "plt.title('Training and validation accuracy')\n",
        "plt.xlabel('Epochs')\n",
        "plt.ylabel('Accuracy')\n",
        "plt.legend()\n",
        "\n",
        "plt.show()"
      ],
      "execution_count": 35,
      "outputs": [
        {
          "output_type": "display_data",
          "data": {
            "image/png": "[encoded data removed]",
            "text/plain": [
              "<Figure size 432x288 with 1 Axes>"
            ]
          },
          "metadata": {
            "tags": []
          }
        }
      ]
    },
    {
      "cell_type": "markdown",
      "metadata": {
        "colab_type": "text",
        "id": "Kx--Ytk3ZbLo"
      },
      "source": [
        "The accuracy of model3 with an additional layer is 85%. Adding more layers can help you to extract more features. But we can do that upto a certain extent. After some point, instead of extracting features, we tend to overfit the data. Overfitting can lead to errors in some or the other form like false positives. It is not easy to choose the number of units in a hidden layer or the number of hidden layers in a neural network. For many applications, one hidden layer is enough. As a general rule, the number of units in that hidden layer is between the number of inputs and the number of outputs.\n",
        " The best way to decide on the number of units and hidden layers is to try various parameters. Train several neural networks with different numbers of hidden layers and neurons, and monitor the performance of them. You will have to experiment using a series of different architectures. \n",
        "\n",
        "\n",
        "\n"
      ]
    },
    {
      "cell_type": "markdown",
      "metadata": {
        "id": "ow2xCgorWUs1",
        "colab_type": "text"
      },
      "source": [
        "***Adding another dense layer doesn't in increasing the accuracy of the model. Adding more dense layers can actually start to overfit the model. In these cases, a dropput layer should be added to prevent overfitting. The dropout layer freezes the weights of a certain layer so that it is not update during back propagation. ***"
      ]
    },
    {
      "cell_type": "markdown",
      "metadata": {
        "colab_type": "text",
        "id": "gn2GSV4ioyO2"
      },
      "source": [
        "\n",
        "\n",
        "---\n",
        "\n"
      ]
    },
    {
      "cell_type": "code",
      "metadata": {
        "colab_type": "code",
        "id": "XYC6DykEox2w",
        "colab": {}
      },
      "source": [
        ""
      ],
      "execution_count": 0,
      "outputs": []
    },
    {
      "cell_type": "markdown",
      "metadata": {
        "colab_type": "text",
        "id": "GsCJ01StlgCx"
      },
      "source": [
        "This tutorial is substantially based on this document:\n",
        "https://www.tensorflow.org/tutorials/keras/basic_text_classification\n",
        "\n",
        "To read more about Sequential APIs you can go to: https://keras.io/getting-started/sequential-model-guide/\n",
        "\n",
        "The one-hot word vector layer is taken from:\n",
        "https://fdalvi.github.io/blog/2018-04-07-keras-sequential-onehot/\n"
      ]
    },
    {
      "cell_type": "code",
      "metadata": {
        "colab_type": "code",
        "id": "jL0UovfaE9GE",
        "colab": {}
      },
      "source": [
        ""
      ],
      "execution_count": 0,
      "outputs": []
    }
  ]
}