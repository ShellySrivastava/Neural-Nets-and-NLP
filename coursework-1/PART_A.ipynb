{
  "nbformat": 4,
  "nbformat_minor": 0,
  "metadata": {
    "colab": {
      "name": "NLP_Part_A.ipynb",
      "provenance": [],
      "collapsed_sections": []
    },
    "kernelspec": {
      "name": "python3",
      "display_name": "Python 3"
    }
  },
  "cells": [
    {
      "cell_type": "markdown",
      "metadata": {
        "id": "-PWItsrxGVx8",
        "colab_type": "text"
      },
      "source": [
        "**1. Downloading the Corpus**\n",
        "\n",
        "---\n",
        "\n"
      ]
    },
    {
      "cell_type": "code",
      "metadata": {
        "id": "bQ81XXN1L5Q3",
        "colab_type": "code",
        "outputId": "13b34b17-31ea-4e6d-d911-25c1a75ca9b7",
        "colab": {
          "base_uri": "https://localhost:8080/",
          "height": 83
        }
      },
      "source": [
        "import nltk\n",
        "nltk.download('punkt')\n",
        "nltk.download('gutenberg')\n",
        "from nltk.corpus import gutenberg\n",
        "austen = gutenberg.sents('austen-sense.txt') + gutenberg.sents('austen-emma.txt') + gutenberg.sents('austen-persuasion.txt')"
      ],
      "execution_count": 0,
      "outputs": [
        {
          "output_type": "stream",
          "text": [
            "[nltk_data] Downloading package punkt to /root/nltk_data...\n",
            "[nltk_data]   Unzipping tokenizers/punkt.zip.\n",
            "[nltk_data] Downloading package gutenberg to /root/nltk_data...\n",
            "[nltk_data]   Unzipping corpora/gutenberg.zip.\n"
          ],
          "name": "stdout"
        }
      ]
    },
    {
      "cell_type": "markdown",
      "metadata": {
        "id": "OlqU1AEnGsos",
        "colab_type": "text"
      },
      "source": [
        "Sanity check :"
      ]
    },
    {
      "cell_type": "code",
      "metadata": {
        "id": "ElnxvawhMOdK",
        "colab_type": "code",
        "outputId": "c0b0fe7b-211e-4482-bec7-de8de0d1b1a5",
        "colab": {
          "base_uri": "https://localhost:8080/",
          "height": 33
        }
      },
      "source": [
        "print(len(austen))"
      ],
      "execution_count": 0,
      "outputs": [
        {
          "output_type": "stream",
          "text": [
            "16498\n"
          ],
          "name": "stdout"
        }
      ]
    },
    {
      "cell_type": "markdown",
      "metadata": {
        "id": "7TaTU1NRXiqs",
        "colab_type": "text"
      },
      "source": [
        "**2. Preprocessing the Training Corpus**\n",
        "\n",
        "---\n",
        "\n"
      ]
    },
    {
      "cell_type": "markdown",
      "metadata": {
        "id": "BFaK-QHbKaD2",
        "colab_type": "text"
      },
      "source": [
        "Stopwords, numbers and punctuations removal. Also removing sentences with length less than 2 words."
      ]
    },
    {
      "cell_type": "code",
      "metadata": {
        "id": "JeuKAbPHbOsR",
        "colab_type": "code",
        "outputId": "dce8a884-5ce8-4a52-aa3c-59d386e0b061",
        "colab": {
          "base_uri": "https://localhost:8080/",
          "height": 50
        }
      },
      "source": [
        "import nltk\n",
        "nltk.download('stopwords')\n",
        "from nltk.corpus import stopwords\n",
        "import string\n",
        "stopWords = set(stopwords.words('english'))\n",
        "\n",
        "def pre_process(corpus):\n",
        "  normalised_corpus = [] \n",
        "  for lines in austen:\n",
        "    wordsFiltered = []\n",
        "    for words in lines:\n",
        "      lower = words.lower()\n",
        "      if lower not in stopWords and lower.isalpha():\n",
        "        wordsFiltered.append(lower)\n",
        "    final = \" \".join(wordsFiltered)\n",
        "    if len(final.strip().split())>2:  \n",
        "      normalised_corpus.append(final.strip())\n",
        "  return normalised_corpus\n",
        "\n",
        "normalised_corpus = pre_process(austen)"
      ],
      "execution_count": 0,
      "outputs": [
        {
          "output_type": "stream",
          "text": [
            "[nltk_data] Downloading package stopwords to /root/nltk_data...\n",
            "[nltk_data]   Unzipping corpora/stopwords.zip.\n"
          ],
          "name": "stdout"
        }
      ]
    },
    {
      "cell_type": "code",
      "metadata": {
        "id": "t7hAK_WdQaFE",
        "colab_type": "code",
        "outputId": "484e4798-9da2-4b0e-d9f9-a25c24970623",
        "colab": {
          "base_uri": "https://localhost:8080/",
          "height": 33
        }
      },
      "source": [
        "print('Length of processed corpus:', len(normalised_corpus))"
      ],
      "execution_count": 0,
      "outputs": [
        {
          "output_type": "stream",
          "text": [
            "Length of processed corpus: 13923\n"
          ],
          "name": "stdout"
        }
      ]
    },
    {
      "cell_type": "code",
      "metadata": {
        "id": "YrGN8XAjQcND",
        "colab_type": "code",
        "outputId": "9126476a-9553-493a-c4cf-5b3146c227fd",
        "colab": {
          "base_uri": "https://localhost:8080/",
          "height": 33
        }
      },
      "source": [
        "print('Processed line:', normalised_corpus[10])"
      ],
      "execution_count": 0,
      "outputs": [
        {
          "output_type": "stream",
          "text": [
            "Processed line: therefore succession norland estate really important sisters fortune independent might arise father inheriting property could small\n"
          ],
          "name": "stdout"
        }
      ]
    },
    {
      "cell_type": "markdown",
      "metadata": {
        "id": "x-VahpMxKwud",
        "colab_type": "text"
      },
      "source": [
        "**3. Creating the Corpus Vocabulary and Preparing the Dataset.**"
      ]
    },
    {
      "cell_type": "code",
      "metadata": {
        "id": "wHdbl2d4K1-x",
        "colab_type": "code",
        "colab": {}
      },
      "source": [
        "from keras.preprocessing.text import Tokenizer\n",
        "tokenizer = Tokenizer(num_words=None, filters='!\"#$%&()*+,-./:;<=>?@[\\\\]^_`{|}~\\t\\n', lower=True, split=' ', char_level=False)\n",
        "tokenizer.fit_on_texts(normalised_corpus)\n",
        "word2idx = tokenizer.word_index\n",
        "word2idx[\"<PAD>\"] = 0\n",
        "\n",
        "idx2word = {}\n",
        "for key, value in word2idx.items():\n",
        "  idx2word[value] = key\n",
        "\n",
        "sents_as_ids = tokenizer.texts_to_sequences(normalised_corpus)\n",
        "word_ids = tokenizer.word_index\n",
        "vocab_size = len(word_ids) + 1 # 1 was added for zero padding\n",
        "embed_size = 100 # We are creating 100D embeddings.\n"
      ],
      "execution_count": 0,
      "outputs": []
    },
    {
      "cell_type": "markdown",
      "metadata": {
        "id": "DFUd3OUCVeLR",
        "colab_type": "text"
      },
      "source": [
        "Sanity Check:"
      ]
    },
    {
      "cell_type": "code",
      "metadata": {
        "id": "qMJvBd5JJikp",
        "colab_type": "code",
        "outputId": "551f67cb-1b3e-4216-91ca-10986a00d247",
        "colab": {
          "base_uri": "https://localhost:8080/",
          "height": 33
        }
      },
      "source": [
        "print(\"Number of unique words:\", len(word_ids))"
      ],
      "execution_count": 0,
      "outputs": [
        {
          "output_type": "stream",
          "text": [
            "Number of unique words: 10085\n"
          ],
          "name": "stdout"
        }
      ]
    },
    {
      "cell_type": "code",
      "metadata": {
        "id": "N_z_-tOvVhJh",
        "colab_type": "code",
        "outputId": "8f1c69af-0786-4329-820a-8dc64b7e23f9",
        "colab": {
          "base_uri": "https://localhost:8080/",
          "height": 50
        }
      },
      "source": [
        "print('\\nSample word2idx: ', list(word2idx.items())[:10])"
      ],
      "execution_count": 0,
      "outputs": [
        {
          "output_type": "stream",
          "text": [
            "\n",
            "Sample word2idx:  [('could', 1), ('would', 2), ('mr', 3), ('mrs', 4), ('must', 5), ('said', 6), ('one', 7), ('much', 8), ('miss', 9), ('every', 10)]\n"
          ],
          "name": "stdout"
        }
      ]
    },
    {
      "cell_type": "code",
      "metadata": {
        "id": "DViCnYL7VtJ-",
        "colab_type": "code",
        "outputId": "ffc0a059-6fd0-408f-864a-9da67ec18493",
        "colab": {
          "base_uri": "https://localhost:8080/",
          "height": 50
        }
      },
      "source": [
        "print('\\nSample idx2word:', list(idx2word.items())[:10])"
      ],
      "execution_count": 0,
      "outputs": [
        {
          "output_type": "stream",
          "text": [
            "\n",
            "Sample idx2word: [(1, 'could'), (2, 'would'), (3, 'mr'), (4, 'mrs'), (5, 'must'), (6, 'said'), (7, 'one'), (8, 'much'), (9, 'miss'), (10, 'every')]\n"
          ],
          "name": "stdout"
        }
      ]
    },
    {
      "cell_type": "code",
      "metadata": {
        "id": "oza-5psWVyEr",
        "colab_type": "code",
        "outputId": "9cb0ab67-4084-4077-946a-a5269b5fed80",
        "colab": {
          "base_uri": "https://localhost:8080/",
          "height": 70
        }
      },
      "source": [
        "print('\\nSample normalized corpus:', normalised_corpus[:3])"
      ],
      "execution_count": 0,
      "outputs": [
        {
          "output_type": "stream",
          "text": [
            "\n",
            "Sample normalized corpus: ['sense sensibility jane austen', 'family dashwood long settled sussex', 'estate large residence norland park centre property many generations lived respectable manner engage general good opinion surrounding acquaintance']\n"
          ],
          "name": "stdout"
        }
      ]
    },
    {
      "cell_type": "code",
      "metadata": {
        "id": "XPIqLtsuV4BU",
        "colab_type": "code",
        "outputId": "bda6d6d9-2e3d-4275-fb42-3f29fe91d8fa",
        "colab": {
          "base_uri": "https://localhost:8080/",
          "height": 50
        }
      },
      "source": [
        "print('\\nAbove sentence as a list of ids:' , sents_as_ids[:3])"
      ],
      "execution_count": 0,
      "outputs": [
        {
          "output_type": "stream",
          "text": [
            "\n",
            "Above sentence as a list of ids: [[305, 1379, 75, 4292], [108, 101, 57, 333, 2586], [1022, 404, 1626, 597, 554, 2784, 1023, 66, 4293, 511, 768, 160, 1164, 199, 15, 190, 3041, 147]]\n"
          ],
          "name": "stdout"
        }
      ]
    },
    {
      "cell_type": "markdown",
      "metadata": {
        "id": "wB7ZPShEWBdn",
        "colab_type": "text"
      },
      "source": [
        "**4. Generating training instances**\n",
        "\n",
        "---\n",
        "\n"
      ]
    },
    {
      "cell_type": "code",
      "metadata": {
        "id": "I3wgQkNMWEIj",
        "colab_type": "code",
        "colab": {}
      },
      "source": [
        "from keras.preprocessing.sequence import skipgrams\n",
        "skip_grams = [skipgrams(sent, vocabulary_size=vocab_size, window_size=5) for sent in sents_as_ids]"
      ],
      "execution_count": 0,
      "outputs": []
    },
    {
      "cell_type": "markdown",
      "metadata": {
        "id": "4ibaBXNDWNav",
        "colab_type": "text"
      },
      "source": [
        "Sanity Check:"
      ]
    },
    {
      "cell_type": "code",
      "metadata": {
        "id": "qy8qZzmAWOMv",
        "colab_type": "code",
        "outputId": "a37a1bf1-1816-43f3-c49e-60f97fe6c4f7",
        "colab": {
          "base_uri": "https://localhost:8080/",
          "height": 417
        }
      },
      "source": [
        "pairs, labels = skip_grams[0][0], skip_grams[0][1]\n",
        "for i in range(len(pairs)):\n",
        "  print('({:s} ({:d}), {:s} ({:d})) -> {:d}'.format(\n",
        "  # the first word and its index\n",
        "  idx2word[pairs[i][0]], pairs[i][0],\n",
        "  # the second word and its index\n",
        "  idx2word[pairs[i][1]], pairs[i][1],\n",
        "  # the label\n",
        "  labels[i]))"
      ],
      "execution_count": 0,
      "outputs": [
        {
          "output_type": "stream",
          "text": [
            "(sense (305), tame (4326)) -> 0\n",
            "(jane (75), drinking (2691)) -> 0\n",
            "(sense (305), sooth (6954)) -> 0\n",
            "(austen (4292), dessert (4783)) -> 0\n",
            "(austen (4292), surely (1958)) -> 0\n",
            "(austen (4292), sensibility (1379)) -> 1\n",
            "(sense (305), austen (4292)) -> 1\n",
            "(sensibility (1379), dating (8742)) -> 0\n",
            "(jane (75), sensibility (1379)) -> 1\n",
            "(jane (75), austen (4292)) -> 1\n",
            "(austen (4292), sense (305)) -> 1\n",
            "(sensibility (1379), sense (305)) -> 1\n",
            "(jane (75), sense (305)) -> 1\n",
            "(sense (305), sensibility (1379)) -> 1\n",
            "(jane (75), refuted (8100)) -> 0\n",
            "(sensibility (1379), plunged (9983)) -> 0\n",
            "(sense (305), jane (75)) -> 1\n",
            "(sensibility (1379), circumventing (9884)) -> 0\n",
            "(austen (4292), faintness (6970)) -> 0\n",
            "(austen (4292), jane (75)) -> 1\n",
            "(sensibility (1379), jane (75)) -> 1\n",
            "(sensibility (1379), austen (4292)) -> 1\n",
            "(jane (75), tiptoe (6994)) -> 0\n",
            "(sense (305), abridge (7495)) -> 0\n"
          ],
          "name": "stdout"
        }
      ]
    },
    {
      "cell_type": "markdown",
      "metadata": {
        "id": "xZr_O39jWehA",
        "colab_type": "text"
      },
      "source": [
        "**5. Building the Skip-gram Neural Network Architecture**\n",
        "\n",
        "---\n",
        "\n"
      ]
    },
    {
      "cell_type": "code",
      "metadata": {
        "id": "OVwB2HQaWgoH",
        "colab_type": "code",
        "colab": {}
      },
      "source": [
        "from keras.layers import Dot, Input\n",
        "from keras.layers.core import Dense, Reshape\n",
        "from keras.layers.embeddings import Embedding\n",
        "from keras.models import Model\n",
        "from keras.utils import plot_model"
      ],
      "execution_count": 0,
      "outputs": []
    },
    {
      "cell_type": "markdown",
      "metadata": {
        "id": "79_-87iqcYRt",
        "colab_type": "text"
      },
      "source": [
        "A. The first step is to initialize and transform the first input using the following lines of code:"
      ]
    },
    {
      "cell_type": "code",
      "metadata": {
        "id": "LWczl97PbSlq",
        "colab_type": "code",
        "outputId": "b17926c0-57d2-4f06-92fa-aa9da2ff5fb3",
        "colab": {
          "base_uri": "https://localhost:8080/",
          "height": 137
        }
      },
      "source": [
        "# The input is an array of target indices e.g. [2, 45, 7, 23,...9]\n",
        "target_word = Input((1,), dtype='int32')\n",
        "\n",
        "# feed the words into the model using the Keras <Embedding> layer. This is the hidden layer from whose weights we will get the word embeddings.\n",
        "target_embedding = Embedding(vocab_size, embed_size, name='target_embed_layer', embeddings_initializer='glorot_uniform',input_length=1)(target_word)\n",
        "# at this point, the input would of the shape (num_inputs x 1 x embed_size) and has to be flattened or reshaped into a (num_inputs x embed_size) tensor.\n",
        "target_input = Reshape((embed_size, ))(target_embedding)"
      ],
      "execution_count": 0,
      "outputs": [
        {
          "output_type": "stream",
          "text": [
            "WARNING:tensorflow:From /usr/local/lib/python3.6/dist-packages/keras/backend/tensorflow_backend.py:66: The name tf.get_default_graph is deprecated. Please use tf.compat.v1.get_default_graph instead.\n",
            "\n",
            "WARNING:tensorflow:From /usr/local/lib/python3.6/dist-packages/keras/backend/tensorflow_backend.py:541: The name tf.placeholder is deprecated. Please use tf.compat.v1.placeholder instead.\n",
            "\n",
            "WARNING:tensorflow:From /usr/local/lib/python3.6/dist-packages/keras/backend/tensorflow_backend.py:4432: The name tf.random_uniform is deprecated. Please use tf.random.uniform instead.\n",
            "\n"
          ],
          "name": "stdout"
        }
      ]
    },
    {
      "cell_type": "markdown",
      "metadata": {
        "id": "UF-VVlq3cZnk",
        "colab_type": "text"
      },
      "source": [
        "B. Write similar code for the ‘context_word’ input."
      ]
    },
    {
      "cell_type": "code",
      "metadata": {
        "id": "lpoJJUWKb61f",
        "colab_type": "code",
        "colab": {}
      },
      "source": [
        "context_word = Input((1,), dtype='int32')\n",
        "context_embedding = Embedding(vocab_size, embed_size, name='context_embed_layer', embeddings_initializer='glorot_uniform',input_length=1)(context_word)\n",
        "context_input = Reshape((embed_size, ))(context_embedding)"
      ],
      "execution_count": 0,
      "outputs": []
    },
    {
      "cell_type": "markdown",
      "metadata": {
        "id": "63-rqjQhcdPf",
        "colab_type": "text"
      },
      "source": [
        "C . Merge the inputs."
      ]
    },
    {
      "cell_type": "code",
      "metadata": {
        "id": "mNDjKPX1ccvx",
        "colab_type": "code",
        "colab": {}
      },
      "source": [
        "merged_inputs = Dot(axes=-1, normalize=False)([target_input, context_input])"
      ],
      "execution_count": 0,
      "outputs": []
    },
    {
      "cell_type": "markdown",
      "metadata": {
        "id": "A0UFMO8pcmS8",
        "colab_type": "text"
      },
      "source": [
        "D . Pass the merged inputs into sigmoid activated layer"
      ]
    },
    {
      "cell_type": "code",
      "metadata": {
        "id": "8UNPpmPoclFU",
        "colab_type": "code",
        "colab": {}
      },
      "source": [
        "label = Dense(1, activation='sigmoid')(merged_inputs)"
      ],
      "execution_count": 0,
      "outputs": []
    },
    {
      "cell_type": "markdown",
      "metadata": {
        "id": "tHw02nTamZnF",
        "colab_type": "text"
      },
      "source": [
        "E. Initialize the model:"
      ]
    },
    {
      "cell_type": "code",
      "metadata": {
        "id": "FPtxGUACgGur",
        "colab_type": "code",
        "colab": {}
      },
      "source": [
        "model = Model(inputs=[target_word, context_word], outputs=[label])"
      ],
      "execution_count": 0,
      "outputs": []
    },
    {
      "cell_type": "markdown",
      "metadata": {
        "id": "PiNdx-Demdqi",
        "colab_type": "text"
      },
      "source": [
        "F. Compile the model using the <model.compile> command ."
      ]
    },
    {
      "cell_type": "code",
      "metadata": {
        "id": "bHMa60JpmesH",
        "colab_type": "code",
        "outputId": "4420f480-e9b4-4a3c-97b5-7d876dd79a2a",
        "colab": {
          "base_uri": "https://localhost:8080/",
          "height": 50
        }
      },
      "source": [
        "from keras.optimizers import rmsprop\n",
        "optimizer = rmsprop()\n",
        "model.compile(loss='mean_squared_error', optimizer=optimizer)"
      ],
      "execution_count": 0,
      "outputs": [
        {
          "output_type": "stream",
          "text": [
            "WARNING:tensorflow:From /usr/local/lib/python3.6/dist-packages/keras/optimizers.py:793: The name tf.train.Optimizer is deprecated. Please use tf.compat.v1.train.Optimizer instead.\n",
            "\n"
          ],
          "name": "stdout"
        }
      ]
    },
    {
      "cell_type": "markdown",
      "metadata": {
        "id": "lyhVQkbymfcK",
        "colab_type": "text"
      },
      "source": [
        "Sanity check:"
      ]
    },
    {
      "cell_type": "code",
      "metadata": {
        "id": "QaKodR4IgPUe",
        "colab_type": "code",
        "outputId": "687bc7a3-6bf2-4573-8298-8580db01ab42",
        "colab": {
          "base_uri": "https://localhost:8080/",
          "height": 433
        }
      },
      "source": [
        "model.summary()"
      ],
      "execution_count": 0,
      "outputs": [
        {
          "output_type": "stream",
          "text": [
            "Model: \"model_1\"\n",
            "__________________________________________________________________________________________________\n",
            "Layer (type)                    Output Shape         Param #     Connected to                     \n",
            "==================================================================================================\n",
            "input_1 (InputLayer)            (None, 1)            0                                            \n",
            "__________________________________________________________________________________________________\n",
            "input_2 (InputLayer)            (None, 1)            0                                            \n",
            "__________________________________________________________________________________________________\n",
            "target_embed_layer (Embedding)  (None, 1, 100)       1008600     input_1[0][0]                    \n",
            "__________________________________________________________________________________________________\n",
            "context_embed_layer (Embedding) (None, 1, 100)       1008600     input_2[0][0]                    \n",
            "__________________________________________________________________________________________________\n",
            "reshape_1 (Reshape)             (None, 100)          0           target_embed_layer[0][0]         \n",
            "__________________________________________________________________________________________________\n",
            "reshape_2 (Reshape)             (None, 100)          0           context_embed_layer[0][0]        \n",
            "__________________________________________________________________________________________________\n",
            "dot_1 (Dot)                     (None, 1)            0           reshape_1[0][0]                  \n",
            "                                                                 reshape_2[0][0]                  \n",
            "__________________________________________________________________________________________________\n",
            "dense_1 (Dense)                 (None, 1)            2           dot_1[0][0]                      \n",
            "==================================================================================================\n",
            "Total params: 2,017,202\n",
            "Trainable params: 2,017,202\n",
            "Non-trainable params: 0\n",
            "__________________________________________________________________________________________________\n"
          ],
          "name": "stdout"
        }
      ]
    },
    {
      "cell_type": "code",
      "metadata": {
        "id": "vhk6LRWUgs0w",
        "colab_type": "code",
        "outputId": "7f9d228b-c936-4eda-cfcb-faf8cf6e6c3f",
        "colab": {
          "base_uri": "https://localhost:8080/",
          "height": 522
        }
      },
      "source": [
        "from IPython.display import SVG\n",
        "from keras.utils import vis_utils\n",
        "SVG(vis_utils.model_to_dot(model, show_shapes=True, show_layer_names=True, dpi='70').create(prog='dot', format='svg'))"
      ],
      "execution_count": 0,
      "outputs": [
        {
          "output_type": "execute_result",
          "data": {
            "text/plain": [
              "<IPython.core.display.SVG object>"
            ],
            "image/svg+xml": "<svg height=\"376pt\" viewBox=\"0.00 0.00 765.50 387.00\" width=\"744pt\" xmlns=\"http://www.w3.org/2000/svg\" xmlns:xlink=\"http://www.w3.org/1999/xlink\">\n<g class=\"graph\" id=\"graph0\" transform=\"scale(.9722 .9722) rotate(0) translate(4 383)\">\n<title>G</title>\n<polygon fill=\"#ffffff\" points=\"-4,4 -4,-383 761.5,-383 761.5,4 -4,4\" stroke=\"transparent\"/>\n<!-- 139670832462088 -->\n<g class=\"node\" id=\"node1\">\n<title>139670832462088</title>\n<polygon fill=\"none\" points=\"50.5,-332.5 50.5,-378.5 313.5,-378.5 313.5,-332.5 50.5,-332.5\" stroke=\"#000000\"/>\n<text fill=\"#000000\" font-family=\"Times,serif\" font-size=\"14.00\" text-anchor=\"middle\" x=\"117\" y=\"-351.8\">input_1: InputLayer</text>\n<polyline fill=\"none\" points=\"183.5,-332.5 183.5,-378.5 \" stroke=\"#000000\"/>\n<text fill=\"#000000\" font-family=\"Times,serif\" font-size=\"14.00\" text-anchor=\"middle\" x=\"212.5\" y=\"-363.3\">input:</text>\n<polyline fill=\"none\" points=\"183.5,-355.5 241.5,-355.5 \" stroke=\"#000000\"/>\n<text fill=\"#000000\" font-family=\"Times,serif\" font-size=\"14.00\" text-anchor=\"middle\" x=\"212.5\" y=\"-340.3\">output:</text>\n<polyline fill=\"none\" points=\"241.5,-332.5 241.5,-378.5 \" stroke=\"#000000\"/>\n<text fill=\"#000000\" font-family=\"Times,serif\" font-size=\"14.00\" text-anchor=\"middle\" x=\"277.5\" y=\"-363.3\">(None, 1)</text>\n<polyline fill=\"none\" points=\"241.5,-355.5 313.5,-355.5 \" stroke=\"#000000\"/>\n<text fill=\"#000000\" font-family=\"Times,serif\" font-size=\"14.00\" text-anchor=\"middle\" x=\"277.5\" y=\"-340.3\">(None, 1)</text>\n</g>\n<!-- 139670931561496 -->\n<g class=\"node\" id=\"node3\">\n<title>139670931561496</title>\n<polygon fill=\"none\" points=\"0,-249.5 0,-295.5 364,-295.5 364,-249.5 0,-249.5\" stroke=\"#000000\"/>\n<text fill=\"#000000\" font-family=\"Times,serif\" font-size=\"14.00\" text-anchor=\"middle\" x=\"102\" y=\"-268.8\">target_embed_layer: Embedding</text>\n<polyline fill=\"none\" points=\"204,-249.5 204,-295.5 \" stroke=\"#000000\"/>\n<text fill=\"#000000\" font-family=\"Times,serif\" font-size=\"14.00\" text-anchor=\"middle\" x=\"233\" y=\"-280.3\">input:</text>\n<polyline fill=\"none\" points=\"204,-272.5 262,-272.5 \" stroke=\"#000000\"/>\n<text fill=\"#000000\" font-family=\"Times,serif\" font-size=\"14.00\" text-anchor=\"middle\" x=\"233\" y=\"-257.3\">output:</text>\n<polyline fill=\"none\" points=\"262,-249.5 262,-295.5 \" stroke=\"#000000\"/>\n<text fill=\"#000000\" font-family=\"Times,serif\" font-size=\"14.00\" text-anchor=\"middle\" x=\"313\" y=\"-280.3\">(None, 1)</text>\n<polyline fill=\"none\" points=\"262,-272.5 364,-272.5 \" stroke=\"#000000\"/>\n<text fill=\"#000000\" font-family=\"Times,serif\" font-size=\"14.00\" text-anchor=\"middle\" x=\"313\" y=\"-257.3\">(None, 1, 100)</text>\n</g>\n<!-- 139670832462088&#45;&gt;139670931561496 -->\n<g class=\"edge\" id=\"edge1\">\n<title>139670832462088-&gt;139670931561496</title>\n<path d=\"M182,-332.3799C182,-324.1745 182,-314.7679 182,-305.8786\" fill=\"none\" stroke=\"#000000\"/>\n<polygon fill=\"#000000\" points=\"185.5001,-305.784 182,-295.784 178.5001,-305.784 185.5001,-305.784\" stroke=\"#000000\"/>\n</g>\n<!-- 139670851445984 -->\n<g class=\"node\" id=\"node2\">\n<title>139670851445984</title>\n<polygon fill=\"none\" points=\"438.5,-332.5 438.5,-378.5 701.5,-378.5 701.5,-332.5 438.5,-332.5\" stroke=\"#000000\"/>\n<text fill=\"#000000\" font-family=\"Times,serif\" font-size=\"14.00\" text-anchor=\"middle\" x=\"505\" y=\"-351.8\">input_2: InputLayer</text>\n<polyline fill=\"none\" points=\"571.5,-332.5 571.5,-378.5 \" stroke=\"#000000\"/>\n<text fill=\"#000000\" font-family=\"Times,serif\" font-size=\"14.00\" text-anchor=\"middle\" x=\"600.5\" y=\"-363.3\">input:</text>\n<polyline fill=\"none\" points=\"571.5,-355.5 629.5,-355.5 \" stroke=\"#000000\"/>\n<text fill=\"#000000\" font-family=\"Times,serif\" font-size=\"14.00\" text-anchor=\"middle\" x=\"600.5\" y=\"-340.3\">output:</text>\n<polyline fill=\"none\" points=\"629.5,-332.5 629.5,-378.5 \" stroke=\"#000000\"/>\n<text fill=\"#000000\" font-family=\"Times,serif\" font-size=\"14.00\" text-anchor=\"middle\" x=\"665.5\" y=\"-363.3\">(None, 1)</text>\n<polyline fill=\"none\" points=\"629.5,-355.5 701.5,-355.5 \" stroke=\"#000000\"/>\n<text fill=\"#000000\" font-family=\"Times,serif\" font-size=\"14.00\" text-anchor=\"middle\" x=\"665.5\" y=\"-340.3\">(None, 1)</text>\n</g>\n<!-- 139671862250520 -->\n<g class=\"node\" id=\"node4\">\n<title>139671862250520</title>\n<polygon fill=\"none\" points=\"382.5,-249.5 382.5,-295.5 757.5,-295.5 757.5,-249.5 382.5,-249.5\" stroke=\"#000000\"/>\n<text fill=\"#000000\" font-family=\"Times,serif\" font-size=\"14.00\" text-anchor=\"middle\" x=\"490\" y=\"-268.8\">context_embed_layer: Embedding</text>\n<polyline fill=\"none\" points=\"597.5,-249.5 597.5,-295.5 \" stroke=\"#000000\"/>\n<text fill=\"#000000\" font-family=\"Times,serif\" font-size=\"14.00\" text-anchor=\"middle\" x=\"626.5\" y=\"-280.3\">input:</text>\n<polyline fill=\"none\" points=\"597.5,-272.5 655.5,-272.5 \" stroke=\"#000000\"/>\n<text fill=\"#000000\" font-family=\"Times,serif\" font-size=\"14.00\" text-anchor=\"middle\" x=\"626.5\" y=\"-257.3\">output:</text>\n<polyline fill=\"none\" points=\"655.5,-249.5 655.5,-295.5 \" stroke=\"#000000\"/>\n<text fill=\"#000000\" font-family=\"Times,serif\" font-size=\"14.00\" text-anchor=\"middle\" x=\"706.5\" y=\"-280.3\">(None, 1)</text>\n<polyline fill=\"none\" points=\"655.5,-272.5 757.5,-272.5 \" stroke=\"#000000\"/>\n<text fill=\"#000000\" font-family=\"Times,serif\" font-size=\"14.00\" text-anchor=\"middle\" x=\"706.5\" y=\"-257.3\">(None, 1, 100)</text>\n</g>\n<!-- 139670851445984&#45;&gt;139671862250520 -->\n<g class=\"edge\" id=\"edge2\">\n<title>139670851445984-&gt;139671862250520</title>\n<path d=\"M570,-332.3799C570,-324.1745 570,-314.7679 570,-305.8786\" fill=\"none\" stroke=\"#000000\"/>\n<polygon fill=\"#000000\" points=\"573.5001,-305.784 570,-295.784 566.5001,-305.784 573.5001,-305.784\" stroke=\"#000000\"/>\n</g>\n<!-- 139670931560656 -->\n<g class=\"node\" id=\"node5\">\n<title>139670931560656</title>\n<polygon fill=\"none\" points=\"77,-166.5 77,-212.5 367,-212.5 367,-166.5 77,-166.5\" stroke=\"#000000\"/>\n<text fill=\"#000000\" font-family=\"Times,serif\" font-size=\"14.00\" text-anchor=\"middle\" x=\"142\" y=\"-185.8\">reshape_1: Reshape</text>\n<polyline fill=\"none\" points=\"207,-166.5 207,-212.5 \" stroke=\"#000000\"/>\n<text fill=\"#000000\" font-family=\"Times,serif\" font-size=\"14.00\" text-anchor=\"middle\" x=\"236\" y=\"-197.3\">input:</text>\n<polyline fill=\"none\" points=\"207,-189.5 265,-189.5 \" stroke=\"#000000\"/>\n<text fill=\"#000000\" font-family=\"Times,serif\" font-size=\"14.00\" text-anchor=\"middle\" x=\"236\" y=\"-174.3\">output:</text>\n<polyline fill=\"none\" points=\"265,-166.5 265,-212.5 \" stroke=\"#000000\"/>\n<text fill=\"#000000\" font-family=\"Times,serif\" font-size=\"14.00\" text-anchor=\"middle\" x=\"316\" y=\"-197.3\">(None, 1, 100)</text>\n<polyline fill=\"none\" points=\"265,-189.5 367,-189.5 \" stroke=\"#000000\"/>\n<text fill=\"#000000\" font-family=\"Times,serif\" font-size=\"14.00\" text-anchor=\"middle\" x=\"316\" y=\"-174.3\">(None, 100)</text>\n</g>\n<!-- 139670931561496&#45;&gt;139670931560656 -->\n<g class=\"edge\" id=\"edge3\">\n<title>139670931561496-&gt;139670931560656</title>\n<path d=\"M193.1422,-249.3799C197.2256,-240.907 201.9262,-231.1531 206.3322,-222.0107\" fill=\"none\" stroke=\"#000000\"/>\n<polygon fill=\"#000000\" points=\"209.5903,-223.312 210.7788,-212.784 203.2844,-220.2729 209.5903,-223.312\" stroke=\"#000000\"/>\n</g>\n<!-- 139670832429432 -->\n<g class=\"node\" id=\"node6\">\n<title>139670832429432</title>\n<polygon fill=\"none\" points=\"405,-166.5 405,-212.5 695,-212.5 695,-166.5 405,-166.5\" stroke=\"#000000\"/>\n<text fill=\"#000000\" font-family=\"Times,serif\" font-size=\"14.00\" text-anchor=\"middle\" x=\"470\" y=\"-185.8\">reshape_2: Reshape</text>\n<polyline fill=\"none\" points=\"535,-166.5 535,-212.5 \" stroke=\"#000000\"/>\n<text fill=\"#000000\" font-family=\"Times,serif\" font-size=\"14.00\" text-anchor=\"middle\" x=\"564\" y=\"-197.3\">input:</text>\n<polyline fill=\"none\" points=\"535,-189.5 593,-189.5 \" stroke=\"#000000\"/>\n<text fill=\"#000000\" font-family=\"Times,serif\" font-size=\"14.00\" text-anchor=\"middle\" x=\"564\" y=\"-174.3\">output:</text>\n<polyline fill=\"none\" points=\"593,-166.5 593,-212.5 \" stroke=\"#000000\"/>\n<text fill=\"#000000\" font-family=\"Times,serif\" font-size=\"14.00\" text-anchor=\"middle\" x=\"644\" y=\"-197.3\">(None, 1, 100)</text>\n<polyline fill=\"none\" points=\"593,-189.5 695,-189.5 \" stroke=\"#000000\"/>\n<text fill=\"#000000\" font-family=\"Times,serif\" font-size=\"14.00\" text-anchor=\"middle\" x=\"644\" y=\"-174.3\">(None, 100)</text>\n</g>\n<!-- 139671862250520&#45;&gt;139670832429432 -->\n<g class=\"edge\" id=\"edge4\">\n<title>139671862250520-&gt;139670832429432</title>\n<path d=\"M564.4289,-249.3799C562.4302,-241.0854 560.1357,-231.5633 557.9732,-222.5889\" fill=\"none\" stroke=\"#000000\"/>\n<polygon fill=\"#000000\" points=\"561.3559,-221.6858 555.6106,-212.784 554.5507,-223.3257 561.3559,-221.6858\" stroke=\"#000000\"/>\n</g>\n<!-- 139670933111696 -->\n<g class=\"node\" id=\"node7\">\n<title>139670933111696</title>\n<polygon fill=\"none\" points=\"220,-83.5 220,-129.5 532,-129.5 532,-83.5 220,-83.5\" stroke=\"#000000\"/>\n<text fill=\"#000000\" font-family=\"Times,serif\" font-size=\"14.00\" text-anchor=\"middle\" x=\"260\" y=\"-102.8\">dot_1: Dot</text>\n<polyline fill=\"none\" points=\"300,-83.5 300,-129.5 \" stroke=\"#000000\"/>\n<text fill=\"#000000\" font-family=\"Times,serif\" font-size=\"14.00\" text-anchor=\"middle\" x=\"329\" y=\"-114.3\">input:</text>\n<polyline fill=\"none\" points=\"300,-106.5 358,-106.5 \" stroke=\"#000000\"/>\n<text fill=\"#000000\" font-family=\"Times,serif\" font-size=\"14.00\" text-anchor=\"middle\" x=\"329\" y=\"-91.3\">output:</text>\n<polyline fill=\"none\" points=\"358,-83.5 358,-129.5 \" stroke=\"#000000\"/>\n<text fill=\"#000000\" font-family=\"Times,serif\" font-size=\"14.00\" text-anchor=\"middle\" x=\"445\" y=\"-114.3\">[(None, 100), (None, 100)]</text>\n<polyline fill=\"none\" points=\"358,-106.5 532,-106.5 \" stroke=\"#000000\"/>\n<text fill=\"#000000\" font-family=\"Times,serif\" font-size=\"14.00\" text-anchor=\"middle\" x=\"445\" y=\"-91.3\">(None, 1)</text>\n</g>\n<!-- 139670931560656&#45;&gt;139670933111696 -->\n<g class=\"edge\" id=\"edge5\">\n<title>139670931560656-&gt;139670933111696</title>\n<path d=\"M264.8976,-166.3799C283.2602,-156.4832 304.8653,-144.8388 324.1178,-134.4625\" fill=\"none\" stroke=\"#000000\"/>\n<polygon fill=\"#000000\" points=\"325.9233,-137.4654 333.0656,-129.6399 322.6022,-131.3034 325.9233,-137.4654\" stroke=\"#000000\"/>\n</g>\n<!-- 139670832429432&#45;&gt;139670933111696 -->\n<g class=\"edge\" id=\"edge6\">\n<title>139670832429432-&gt;139670933111696</title>\n<path d=\"M501.5313,-166.3799C480.5023,-156.3488 455.7095,-144.5224 433.7358,-134.0406\" fill=\"none\" stroke=\"#000000\"/>\n<polygon fill=\"#000000\" points=\"435.0429,-130.7864 424.5103,-129.6399 432.0291,-137.1044 435.0429,-130.7864\" stroke=\"#000000\"/>\n</g>\n<!-- 139670933112312 -->\n<g class=\"node\" id=\"node8\">\n<title>139670933112312</title>\n<polygon fill=\"none\" points=\"257.5,-.5 257.5,-46.5 494.5,-46.5 494.5,-.5 257.5,-.5\" stroke=\"#000000\"/>\n<text fill=\"#000000\" font-family=\"Times,serif\" font-size=\"14.00\" text-anchor=\"middle\" x=\"311\" y=\"-19.8\">dense_1: Dense</text>\n<polyline fill=\"none\" points=\"364.5,-.5 364.5,-46.5 \" stroke=\"#000000\"/>\n<text fill=\"#000000\" font-family=\"Times,serif\" font-size=\"14.00\" text-anchor=\"middle\" x=\"393.5\" y=\"-31.3\">input:</text>\n<polyline fill=\"none\" points=\"364.5,-23.5 422.5,-23.5 \" stroke=\"#000000\"/>\n<text fill=\"#000000\" font-family=\"Times,serif\" font-size=\"14.00\" text-anchor=\"middle\" x=\"393.5\" y=\"-8.3\">output:</text>\n<polyline fill=\"none\" points=\"422.5,-.5 422.5,-46.5 \" stroke=\"#000000\"/>\n<text fill=\"#000000\" font-family=\"Times,serif\" font-size=\"14.00\" text-anchor=\"middle\" x=\"458.5\" y=\"-31.3\">(None, 1)</text>\n<polyline fill=\"none\" points=\"422.5,-23.5 494.5,-23.5 \" stroke=\"#000000\"/>\n<text fill=\"#000000\" font-family=\"Times,serif\" font-size=\"14.00\" text-anchor=\"middle\" x=\"458.5\" y=\"-8.3\">(None, 1)</text>\n</g>\n<!-- 139670933111696&#45;&gt;139670933112312 -->\n<g class=\"edge\" id=\"edge7\">\n<title>139670933111696-&gt;139670933112312</title>\n<path d=\"M376,-83.3799C376,-75.1745 376,-65.7679 376,-56.8786\" fill=\"none\" stroke=\"#000000\"/>\n<polygon fill=\"#000000\" points=\"379.5001,-56.784 376,-46.784 372.5001,-56.784 379.5001,-56.784\" stroke=\"#000000\"/>\n</g>\n</g>\n</svg>"
          },
          "metadata": {
            "tags": []
          },
          "execution_count": 26
        }
      ]
    },
    {
      "cell_type": "markdown",
      "metadata": {
        "id": "nLf-UnxehEwz",
        "colab_type": "text"
      },
      "source": [
        "**6. Training the Model**\n",
        "\n",
        "---\n",
        "\n"
      ]
    },
    {
      "cell_type": "code",
      "metadata": {
        "id": "xc1QxMPzhDLK",
        "colab_type": "code",
        "outputId": "a06a6164-51cc-4c4f-f4d3-5172c0173a91",
        "colab": {
          "base_uri": "https://localhost:8080/",
          "height": 803
        }
      },
      "source": [
        "import numpy as np\n",
        "for epoch in range(1, 6):\n",
        "  epoch_loss = 0\n",
        "  # in each epoch, train all the sentences, one per iteration=> batch_size = num_sents\n",
        "  for i, sent_examples in enumerate(skip_grams):\n",
        "    target_wds = np.array([pair[0] for pair in sent_examples[0]], dtype='int32')\n",
        "    context_wds = np.array([pair[1] for pair in sent_examples[0]], dtype='int32')\n",
        "    labels = np.array(sent_examples[1], dtype='int32')\n",
        "    X = [target_wds, context_wds]\n",
        "    Y = labels\n",
        "    if i % 5000 == 0: # after 5000 sentences i.e. 5000 iterations\n",
        "      print('Processed %d sentences' %i)\n",
        "    if np.isnan(epoch_loss):\n",
        "      print('epoch_loss====',epoch_loss, '     ,i =',i)\n",
        "      print('target_wds == ',target_wds)\n",
        "      print('context_wds == ',context_wds)\n",
        "      print('X == ',X)\n",
        "      print('Y == ',Y)\n",
        "      print('model.train_on_batch(X, Y)====',model.train_on_batch(X, Y))\n",
        "    epoch_loss += model.train_on_batch(X, Y)\n",
        "  print('Processed all %d sentences' %i)\n",
        "  print('Epoch:', epoch, 'Loss:', epoch_loss, '\\n')"
      ],
      "execution_count": 0,
      "outputs": [
        {
          "output_type": "stream",
          "text": [
            "Processed 0 sentences\n",
            "WARNING:tensorflow:From /usr/local/lib/python3.6/dist-packages/keras/backend/tensorflow_backend.py:1033: The name tf.assign_add is deprecated. Please use tf.compat.v1.assign_add instead.\n",
            "\n",
            "WARNING:tensorflow:From /usr/local/lib/python3.6/dist-packages/keras/backend/tensorflow_backend.py:1020: The name tf.assign is deprecated. Please use tf.compat.v1.assign instead.\n",
            "\n",
            "WARNING:tensorflow:From /usr/local/lib/python3.6/dist-packages/keras/backend/tensorflow_backend.py:3005: The name tf.Session is deprecated. Please use tf.compat.v1.Session instead.\n",
            "\n",
            "WARNING:tensorflow:From /usr/local/lib/python3.6/dist-packages/keras/backend/tensorflow_backend.py:190: The name tf.get_default_session is deprecated. Please use tf.compat.v1.get_default_session instead.\n",
            "\n",
            "WARNING:tensorflow:From /usr/local/lib/python3.6/dist-packages/keras/backend/tensorflow_backend.py:197: The name tf.ConfigProto is deprecated. Please use tf.compat.v1.ConfigProto instead.\n",
            "\n",
            "WARNING:tensorflow:From /usr/local/lib/python3.6/dist-packages/keras/backend/tensorflow_backend.py:207: The name tf.global_variables is deprecated. Please use tf.compat.v1.global_variables instead.\n",
            "\n",
            "WARNING:tensorflow:From /usr/local/lib/python3.6/dist-packages/keras/backend/tensorflow_backend.py:216: The name tf.is_variable_initialized is deprecated. Please use tf.compat.v1.is_variable_initialized instead.\n",
            "\n",
            "WARNING:tensorflow:From /usr/local/lib/python3.6/dist-packages/keras/backend/tensorflow_backend.py:223: The name tf.variables_initializer is deprecated. Please use tf.compat.v1.variables_initializer instead.\n",
            "\n",
            "Processed 5000 sentences\n",
            "Processed 10000 sentences\n",
            "Processed all 13922 sentences\n",
            "Epoch: 1 Loss: 2395.5568726183847 \n",
            "\n",
            "Processed 0 sentences\n",
            "Processed 5000 sentences\n",
            "Processed 10000 sentences\n",
            "Processed all 13922 sentences\n",
            "Epoch: 2 Loss: 1956.5782954704482 \n",
            "\n",
            "Processed 0 sentences\n",
            "Processed 5000 sentences\n",
            "Processed 10000 sentences\n",
            "Processed all 13922 sentences\n",
            "Epoch: 3 Loss: 1872.170565534616 \n",
            "\n",
            "Processed 0 sentences\n",
            "Processed 5000 sentences\n",
            "Processed 10000 sentences\n",
            "Processed all 13922 sentences\n",
            "Epoch: 4 Loss: 1825.6706945449114 \n",
            "\n",
            "Processed 0 sentences\n",
            "Processed 5000 sentences\n",
            "Processed 10000 sentences\n",
            "Processed all 13922 sentences\n",
            "Epoch: 5 Loss: 1801.6421593769337 \n",
            "\n"
          ],
          "name": "stdout"
        }
      ]
    },
    {
      "cell_type": "markdown",
      "metadata": {
        "id": "3FPGRufouVst",
        "colab_type": "text"
      },
      "source": [
        "**7. Getting the Word Embeddings**\n",
        "\n",
        "---\n",
        "\n"
      ]
    },
    {
      "cell_type": "code",
      "metadata": {
        "id": "Nb7f6g5OuXhS",
        "colab_type": "code",
        "colab": {}
      },
      "source": [
        "word_embeddings = model.get_layer('target_embed_layer').get_weights()[0][1:]"
      ],
      "execution_count": 0,
      "outputs": []
    },
    {
      "cell_type": "markdown",
      "metadata": {
        "id": "MfyeEumHufI6",
        "colab_type": "text"
      },
      "source": [
        "Sanity Check:"
      ]
    },
    {
      "cell_type": "code",
      "metadata": {
        "id": "3xh4Cy0Iudvi",
        "colab_type": "code",
        "outputId": "51838f4f-3cce-4945-cc3b-c3551f5e94eb",
        "colab": {
          "base_uri": "https://localhost:8080/",
          "height": 33
        }
      },
      "source": [
        "print(word_embeddings.shape)"
      ],
      "execution_count": 0,
      "outputs": [
        {
          "output_type": "stream",
          "text": [
            "(10085, 100)\n"
          ],
          "name": "stdout"
        }
      ]
    },
    {
      "cell_type": "code",
      "metadata": {
        "id": "VuCugurtulDM",
        "colab_type": "code",
        "outputId": "03870fce-5cab-44ec-9a16-99feeb03e926",
        "colab": {
          "base_uri": "https://localhost:8080/",
          "height": 233
        }
      },
      "source": [
        "from pandas import DataFrame\n",
        "print(DataFrame(word_embeddings, index=idx2word.values()).head(10))"
      ],
      "execution_count": 0,
      "outputs": [
        {
          "output_type": "stream",
          "text": [
            "             0         1         2   ...        97        98        99\n",
            "could  0.108196  0.099787 -0.107097  ... -0.154977  0.024048  0.091315\n",
            "would -0.089229 -0.115439 -0.020785  ... -0.292064  0.116718 -0.051456\n",
            "mr     0.187557 -0.164944  0.250270  ... -0.270778  0.059147 -0.115237\n",
            "mrs    0.140330 -0.060169  0.028485  ... -0.160517  0.116114 -0.094252\n",
            "must   0.144358  0.042229 -0.018545  ... -0.060639  0.144465 -0.109503\n",
            "said   0.011484  0.017438 -0.054379  ... -0.169572 -0.039763  0.202826\n",
            "one    0.041778  0.039071 -0.108136  ... -0.073580  0.140176 -0.126315\n",
            "much  -0.066491  0.056805  0.079065  ... -0.180062  0.093707 -0.045447\n",
            "miss  -0.001912 -0.136427  0.001051  ... -0.315563  0.131947 -0.013147\n",
            "every -0.086329  0.065121 -0.104390  ...  0.147218  0.040775  0.150760\n",
            "\n",
            "[10 rows x 100 columns]\n"
          ],
          "name": "stdout"
        }
      ]
    },
    {
      "cell_type": "markdown",
      "metadata": {
        "id": "eU2smywbu2G7",
        "colab_type": "text"
      },
      "source": [
        "**8. Measuring Similarity Between Word Pairs**\n",
        "\n",
        "---\n",
        "\n"
      ]
    },
    {
      "cell_type": "code",
      "metadata": {
        "id": "F2mB4nEuu361",
        "colab_type": "code",
        "colab": {}
      },
      "source": [
        "from sklearn.metrics.pairwise import cosine_similarity\n",
        "similarity_matrix = cosine_similarity(word_embeddings)"
      ],
      "execution_count": 0,
      "outputs": []
    },
    {
      "cell_type": "markdown",
      "metadata": {
        "id": "KxHK-1BOu_Wc",
        "colab_type": "text"
      },
      "source": [
        "Sanity Check:"
      ]
    },
    {
      "cell_type": "code",
      "metadata": {
        "id": "JM41cFntu9y-",
        "colab_type": "code",
        "outputId": "89e5359f-d9d6-4632-929a-7c39fab98752",
        "colab": {
          "base_uri": "https://localhost:8080/",
          "height": 33
        }
      },
      "source": [
        "print(similarity_matrix.shape)"
      ],
      "execution_count": 0,
      "outputs": [
        {
          "output_type": "stream",
          "text": [
            "(10085, 10085)\n"
          ],
          "name": "stdout"
        }
      ]
    },
    {
      "cell_type": "markdown",
      "metadata": {
        "id": "9AxghE5cvEBa",
        "colab_type": "text"
      },
      "source": [
        "**9. Exploring and Visualizing your Word Embeddings using t-SNE**\n",
        "\n",
        "---\n",
        "\n"
      ]
    },
    {
      "cell_type": "markdown",
      "metadata": {
        "id": "FeqrHEtjvIXj",
        "colab_type": "text"
      },
      "source": [
        "A. Get the most similar words to the search items in the list below"
      ]
    },
    {
      "cell_type": "code",
      "metadata": {
        "id": "efWY93F7vFms",
        "colab_type": "code",
        "colab": {}
      },
      "source": [
        "search_terms = ['man', 'love', 'hatred', 'woman', 'wisdom', 'kindness', 'god', 'man', 'folly', 'fool']\n",
        "similar_words = {term: [idx2word[idx] for idx in (-1 * similarity_matrix[word2idx[term]-1]).argsort()[1:6] + 1] for term in search_terms}"
      ],
      "execution_count": 0,
      "outputs": []
    },
    {
      "cell_type": "markdown",
      "metadata": {
        "id": "1DdTejLnvjOG",
        "colab_type": "text"
      },
      "source": [
        "Sanity Check:"
      ]
    },
    {
      "cell_type": "code",
      "metadata": {
        "id": "CrTpYkKWvY19",
        "colab_type": "code",
        "outputId": "442d875b-2545-4ec1-aea0-9d863609cd43",
        "colab": {
          "base_uri": "https://localhost:8080/",
          "height": 53
        }
      },
      "source": [
        "print(similar_words)"
      ],
      "execution_count": 0,
      "outputs": [
        {
          "output_type": "stream",
          "text": [
            "{'man': ['young', 'suspect', 'thing', 'feeling', 'park'], 'love': ['convince', 'station', 'tea', 'times', 'opened'], 'hatred': ['extenuations', 'ingenuousness', 'attacking', 'hesitatingly', 'shuffling'], 'woman': ['ought', 'dear', 'regret', 'persuaded', 'came'], 'wisdom': ['clamour', 'unmodulated', 'landing', 'tittle', 'swelled'], 'kindness': ['leave', 'useful', 'danger', 'promised', 'tell'], 'god': ['thank', 'maps', 'mend', 'buildings', 'objectionable'], 'folly': ['woody', 'eat', 'resentment', 'struck', 'charge'], 'fool': ['produces', 'tippet', 'likelihood', 'twill', 'blushed']}\n"
          ],
          "name": "stdout"
        }
      ]
    },
    {
      "cell_type": "markdown",
      "metadata": {
        "id": "RnMZiqjTvn8R",
        "colab_type": "text"
      },
      "source": [
        "B. Plot the words in the dictionary above using t-SNE"
      ]
    },
    {
      "cell_type": "code",
      "metadata": {
        "id": "T8ssJ2C0vo2D",
        "colab_type": "code",
        "colab": {}
      },
      "source": [
        "from sklearn.manifold import TSNE\n",
        "import matplotlib.pyplot as plt"
      ],
      "execution_count": 0,
      "outputs": []
    },
    {
      "cell_type": "code",
      "metadata": {
        "id": "WAT7nK1ovubE",
        "colab_type": "code",
        "outputId": "3f772c2c-a116-4b5d-d13d-905261a9f9ea",
        "colab": {
          "base_uri": "https://localhost:8080/",
          "height": 483
        }
      },
      "source": [
        "tsne = TSNE(perplexity=3, n_components=2, init='pca', n_iter=5000, method='exact')\n",
        "np.set_printoptions(suppress=True)\n",
        "plot_only = 50\n",
        "T = tsne.fit_transform(word_embeddings[:plot_only, :])\n",
        "labels = [idx2word[i+1] for i in range(plot_only)]\n",
        "plt.figure(figsize=(14, 8))\n",
        "plt.scatter(T[:, 0], T[:, 1])\n",
        "for label, x, y in zip(labels, T[:, 0], T[:, 1]):\n",
        "  plt.annotate(label, xy=(x+1, y+1), xytext=(0, 0), textcoords='offset points', ha='right', va='bottom')"
      ],
      "execution_count": 0,
      "outputs": [
        {
          "output_type": "display_data",
          "data": {
            "image/png": "[encoded data removed]",
            "text/plain": [
              "<Figure size 1008x576 with 1 Axes>"
            ]
          },
          "metadata": {
            "tags": []
          }
        }
      ]
    },
    {
      "cell_type": "markdown",
      "metadata": {
        "id": "YVJKXIWGaRRa",
        "colab_type": "text"
      },
      "source": [
        "● What would the inputs and outputs to the model be?\n"
      ]
    },
    {
      "cell_type": "markdown",
      "metadata": {
        "id": "Q4srHTPvaStP",
        "colab_type": "text"
      },
      "source": [
        "The inputs to the skip gram model is the one hot vector representing the input word and the output is the probability distribution for all the other words in the vocabulary. The word with the maximum probability has a higher likely chance of being in the neighbourhood of the input vector."
      ]
    },
    {
      "cell_type": "markdown",
      "metadata": {
        "id": "eR6w9dBni_rX",
        "colab_type": "text"
      },
      "source": [
        "● How would you use the Keras framework to create this architecture?\n"
      ]
    },
    {
      "cell_type": "markdown",
      "metadata": {
        "id": "qdhleiizgnH6",
        "colab_type": "text"
      },
      "source": [
        "We can use keras sequential api to build this model. We will have an input layer which takes one hot vector. The second layer will be a dense layer with embed_size units and linear activation function. The last layer will also be a dense layer with vocab_size units and softmax activation function.\n"
      ]
    },
    {
      "cell_type": "markdown",
      "metadata": {
        "id": "tb7lnaNBjBTR",
        "colab_type": "text"
      },
      "source": [
        "● Can you think of reasons why this model is considered to be inefficient?"
      ]
    },
    {
      "cell_type": "markdown",
      "metadata": {
        "id": "IEFjZBCWdsLL",
        "colab_type": "text"
      },
      "source": [
        "The skip gram model becomes inefficient because the model needs to learns around embed_size x vocab_size number of weights which is a large number given the limited data and can result in overfitting. \n",
        "Moreover the model can be inefficient as it depends largely on the training data and the context it provides. The training data captured from different sources can result in completely differnt embeddings for the same set of words (mainly for words which have different meaning in different contexts)."
      ]
    }
  ]
}