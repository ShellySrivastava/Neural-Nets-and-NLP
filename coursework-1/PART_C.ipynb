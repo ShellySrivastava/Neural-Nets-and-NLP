{
  "nbformat": 4,
  "nbformat_minor": 0,
  "metadata": {
    "colab": {
      "name": "NLP_Part_C.ipynb",
      "provenance": []
    },
    "kernelspec": {
      "name": "python3",
      "display_name": "Python 3"
    },
    "accelerator": "GPU"
  },
  "cells": [
    {
      "cell_type": "markdown",
      "metadata": {
        "id": "_bwcpusRyvH-",
        "colab_type": "text"
      },
      "source": [
        "**1. Getting the Dataset**\n",
        "\n",
        "---\n",
        "\n"
      ]
    },
    {
      "cell_type": "code",
      "metadata": {
        "id": "mCA_fKmZJ4JS",
        "colab_type": "code",
        "outputId": "1c39c882-b45b-49fc-9802-68c0e454c0cd",
        "colab": {
          "base_uri": "https://localhost:8080/",
          "height": 112
        }
      },
      "source": [
        "import keras\n",
        "imdb = keras.datasets.imdb\n",
        "VOCAB_SIZE = 10000\n",
        "INDEX_FROM = 2\n",
        "(train_data,train_labels),(test_data,test_labels) = imdb.load_data(num_words=VOCAB_SIZE,\n",
        "index_from=INDEX_FROM)"
      ],
      "execution_count": 1,
      "outputs": [
        {
          "output_type": "stream",
          "text": [
            "Using TensorFlow backend.\n"
          ],
          "name": "stderr"
        },
        {
          "output_type": "display_data",
          "data": {
            "text/html": [
              "<p style=\"color: red;\">\n",
              "The default version of TensorFlow in Colab will soon switch to TensorFlow 2.x.<br>\n",
              "We recommend you <a href=\"https://www.tensorflow.org/guide/migrate\" target=\"_blank\">upgrade</a> now \n",
              "or ensure your notebook will continue to use TensorFlow 1.x via the <code>%tensorflow_version 1.x</code> magic:\n",
              "<a href=\"https://colab.research.google.com/notebooks/tensorflow_version.ipynb\" target=\"_blank\">more info</a>.</p>\n"
            ],
            "text/plain": [
              "<IPython.core.display.HTML object>"
            ]
          },
          "metadata": {
            "tags": []
          }
        },
        {
          "output_type": "stream",
          "text": [
            "Downloading data from https://s3.amazonaws.com/text-datasets/imdb.npz\n",
            "17465344/17464789 [==============================] - 10s 1us/step\n"
          ],
          "name": "stdout"
        }
      ]
    },
    {
      "cell_type": "markdown",
      "metadata": {
        "id": "GLl_KDG4y2O6",
        "colab_type": "text"
      },
      "source": [
        "Sanity check:\n"
      ]
    },
    {
      "cell_type": "code",
      "metadata": {
        "id": "V4hqHAAqKX8-",
        "colab_type": "code",
        "outputId": "03a71b82-b1be-4d41-ea93-b76193555250",
        "colab": {
          "base_uri": "https://localhost:8080/",
          "height": 53
        }
      },
      "source": [
        "print('Sample review:', train_data[0])"
      ],
      "execution_count": 2,
      "outputs": [
        {
          "output_type": "stream",
          "text": [
            "Sample review: [1, 13, 21, 15, 42, 529, 972, 1621, 1384, 64, 457, 4467, 65, 3940, 3, 172, 35, 255, 4, 24, 99, 42, 837, 111, 49, 669, 2, 8, 34, 479, 283, 4, 149, 3, 171, 111, 166, 2, 335, 384, 38, 3, 171, 4535, 1110, 16, 545, 37, 12, 446, 3, 191, 49, 15, 5, 146, 2024, 18, 13, 21, 3, 1919, 4612, 468, 3, 21, 70, 86, 11, 15, 42, 529, 37, 75, 14, 12, 1246, 3, 21, 16, 514, 16, 11, 15, 625, 17, 2, 4, 61, 385, 11, 7, 315, 7, 105, 4, 3, 2222, 5243, 15, 479, 65, 3784, 32, 3, 129, 11, 15, 37, 618, 4, 24, 123, 50, 35, 134, 47, 24, 1414, 32, 5, 21, 11, 214, 27, 76, 51, 4, 13, 406, 15, 81, 2, 7, 3, 106, 116, 5951, 14, 255, 3, 2, 6, 3765, 4, 722, 35, 70, 42, 529, 475, 25, 399, 316, 45, 6, 3, 2, 1028, 12, 103, 87, 3, 380, 14, 296, 97, 31, 2070, 55, 25, 140, 5, 193, 7485, 17, 3, 225, 21, 20, 133, 475, 25, 479, 4, 143, 29, 5534, 17, 50, 35, 27, 223, 91, 24, 103, 3, 225, 64, 15, 37, 1333, 87, 11, 15, 282, 4, 15, 4471, 112, 102, 31, 14, 15, 5344, 18, 177, 31]\n"
          ],
          "name": "stdout"
        }
      ]
    },
    {
      "cell_type": "code",
      "metadata": {
        "id": "l1imI_xQKgYl",
        "colab_type": "code",
        "outputId": "f59cc8c9-ecd2-4f81-c641-d93c3c469ab0",
        "colab": {
          "base_uri": "https://localhost:8080/",
          "height": 50
        }
      },
      "source": [
        "print('\\n Sample label:', test_labels[1])"
      ],
      "execution_count": 3,
      "outputs": [
        {
          "output_type": "stream",
          "text": [
            "\n",
            " Sample label: 1\n"
          ],
          "name": "stdout"
        }
      ]
    },
    {
      "cell_type": "markdown",
      "metadata": {
        "id": "Do5SWBDizB4k",
        "colab_type": "text"
      },
      "source": [
        "**2. Readying the Inputs for the LSTM**\n",
        "\n",
        "---\n",
        "\n"
      ]
    },
    {
      "cell_type": "code",
      "metadata": {
        "id": "eTJ3Xm9SKtVJ",
        "colab_type": "code",
        "colab": {}
      },
      "source": [
        "from keras.preprocessing.sequence import pad_sequences\n",
        "MAXIMUM_LENGTH = 500"
      ],
      "execution_count": 0,
      "outputs": []
    },
    {
      "cell_type": "code",
      "metadata": {
        "id": "vVtHKy80K7H4",
        "colab_type": "code",
        "outputId": "6e82b0fb-6026-4642-b4d7-d239257dd163",
        "colab": {
          "base_uri": "https://localhost:8080/",
          "height": 50
        }
      },
      "source": [
        "print('Length of sample train_data before preprocessing:', len(train_data[0]))\n",
        "preprocessed_train_data=pad_sequences(train_data, maxlen=MAXIMUM_LENGTH,padding='pre', truncating='pre')\n",
        "print('Length of sample train_data after preprocessing:', len(preprocessed_train_data[0]))"
      ],
      "execution_count": 0,
      "outputs": [
        {
          "output_type": "stream",
          "text": [
            "Length of sample train_data before preprocessing: 218\n",
            "Length of sample train_data after preprocessing: 500\n"
          ],
          "name": "stdout"
        }
      ]
    },
    {
      "cell_type": "markdown",
      "metadata": {
        "id": "gUjJtQw5zWxG",
        "colab_type": "text"
      },
      "source": [
        "**3. Building the Model**\n",
        "\n",
        "---\n",
        "\n"
      ]
    },
    {
      "cell_type": "code",
      "metadata": {
        "id": "UHKUi_JZxnvr",
        "colab_type": "code",
        "outputId": "4171421c-b0b3-47dc-9580-a1c28f2b239a",
        "colab": {
          "base_uri": "https://localhost:8080/",
          "height": 253
        }
      },
      "source": [
        "from keras import Sequential\n",
        "from keras.layers import Embedding, LSTM, Dense\n",
        "from keras.optimizers import Adam\n",
        "EMBED_SIZE = 100\n",
        "model = Sequential()\n",
        "model.add(Embedding(input_dim=VOCAB_SIZE,\n",
        "                    output_dim=EMBED_SIZE,\n",
        "                    input_length=MAXIMUM_LENGTH,\n",
        "                    name='layer_embedding'))\n",
        "model.add(LSTM(100, activation='tanh'))\n",
        "model.add(Dense(1, activation='sigmoid'))\n",
        "optimizer = Adam()\n",
        "model.compile(loss='binary_crossentropy',\n",
        "              optimizer=optimizer,\n",
        "              metrics=['accuracy'])"
      ],
      "execution_count": 0,
      "outputs": [
        {
          "output_type": "stream",
          "text": [
            "WARNING:tensorflow:From /usr/local/lib/python3.6/dist-packages/keras/backend/tensorflow_backend.py:66: The name tf.get_default_graph is deprecated. Please use tf.compat.v1.get_default_graph instead.\n",
            "\n",
            "WARNING:tensorflow:From /usr/local/lib/python3.6/dist-packages/keras/backend/tensorflow_backend.py:541: The name tf.placeholder is deprecated. Please use tf.compat.v1.placeholder instead.\n",
            "\n",
            "WARNING:tensorflow:From /usr/local/lib/python3.6/dist-packages/keras/backend/tensorflow_backend.py:4432: The name tf.random_uniform is deprecated. Please use tf.random.uniform instead.\n",
            "\n",
            "WARNING:tensorflow:From /usr/local/lib/python3.6/dist-packages/keras/optimizers.py:793: The name tf.train.Optimizer is deprecated. Please use tf.compat.v1.train.Optimizer instead.\n",
            "\n",
            "WARNING:tensorflow:From /usr/local/lib/python3.6/dist-packages/keras/backend/tensorflow_backend.py:3657: The name tf.log is deprecated. Please use tf.math.log instead.\n",
            "\n",
            "WARNING:tensorflow:From /usr/local/lib/python3.6/dist-packages/tensorflow_core/python/ops/nn_impl.py:183: where (from tensorflow.python.ops.array_ops) is deprecated and will be removed in a future version.\n",
            "Instructions for updating:\n",
            "Use tf.where in 2.0, which has the same broadcast rule as np.where\n"
          ],
          "name": "stdout"
        }
      ]
    },
    {
      "cell_type": "markdown",
      "metadata": {
        "id": "VE_EVzevzr3w",
        "colab_type": "text"
      },
      "source": [
        "Sanity Check:"
      ]
    },
    {
      "cell_type": "code",
      "metadata": {
        "id": "rvGjZXsdFni4",
        "colab_type": "code",
        "outputId": "bae06f18-0844-408d-b340-1c0a0234a075",
        "colab": {
          "base_uri": "https://localhost:8080/",
          "height": 250
        }
      },
      "source": [
        "model.summary()"
      ],
      "execution_count": 0,
      "outputs": [
        {
          "output_type": "stream",
          "text": [
            "Model: \"sequential_1\"\n",
            "_________________________________________________________________\n",
            "Layer (type)                 Output Shape              Param #   \n",
            "=================================================================\n",
            "layer_embedding (Embedding)  (None, 500, 100)          1000000   \n",
            "_________________________________________________________________\n",
            "lstm_1 (LSTM)                (None, 100)               80400     \n",
            "_________________________________________________________________\n",
            "dense_1 (Dense)              (None, 1)                 101       \n",
            "=================================================================\n",
            "Total params: 1,080,501\n",
            "Trainable params: 1,080,501\n",
            "Non-trainable params: 0\n",
            "_________________________________________________________________\n"
          ],
          "name": "stdout"
        }
      ]
    },
    {
      "cell_type": "code",
      "metadata": {
        "id": "eGY9WC8DGAc2",
        "colab_type": "code",
        "outputId": "c8a71dd4-587c-4b7e-90f9-2a67497e1c8c",
        "colab": {
          "base_uri": "https://localhost:8080/",
          "height": 416
        }
      },
      "source": [
        "from keras.utils import plot_model\n",
        "from IPython.display import SVG\n",
        "from keras.utils import vis_utils\n",
        "SVG(vis_utils.model_to_dot(model, show_shapes=True, show_layer_names=True, dpi = 70).create(prog='dot', format='svg'))"
      ],
      "execution_count": 0,
      "outputs": [
        {
          "output_type": "execute_result",
          "data": {
            "text/plain": [
              "<IPython.core.display.SVG object>"
            ],
            "image/svg+xml": "<svg height=\"296pt\" viewBox=\"0.00 0.00 378.00 304.00\" width=\"367pt\" xmlns=\"http://www.w3.org/2000/svg\" xmlns:xlink=\"http://www.w3.org/1999/xlink\">\n<g class=\"graph\" id=\"graph0\" transform=\"scale(.9722 .9722) rotate(0) translate(4 300)\">\n<title>G</title>\n<polygon fill=\"#ffffff\" points=\"-4,4 -4,-300 374,-300 374,4 -4,4\" stroke=\"transparent\"/>\n<!-- 140491982689672 -->\n<g class=\"node\" id=\"node1\">\n<title>140491982689672</title>\n<polygon fill=\"none\" points=\"0,-249.5 0,-295.5 370,-295.5 370,-249.5 0,-249.5\" stroke=\"#000000\"/>\n<text fill=\"#000000\" font-family=\"Times,serif\" font-size=\"14.00\" text-anchor=\"middle\" x=\"112.5\" y=\"-268.8\">layer_embedding_input: InputLayer</text>\n<polyline fill=\"none\" points=\"225,-249.5 225,-295.5 \" stroke=\"#000000\"/>\n<text fill=\"#000000\" font-family=\"Times,serif\" font-size=\"14.00\" text-anchor=\"middle\" x=\"254\" y=\"-280.3\">input:</text>\n<polyline fill=\"none\" points=\"225,-272.5 283,-272.5 \" stroke=\"#000000\"/>\n<text fill=\"#000000\" font-family=\"Times,serif\" font-size=\"14.00\" text-anchor=\"middle\" x=\"254\" y=\"-257.3\">output:</text>\n<polyline fill=\"none\" points=\"283,-249.5 283,-295.5 \" stroke=\"#000000\"/>\n<text fill=\"#000000\" font-family=\"Times,serif\" font-size=\"14.00\" text-anchor=\"middle\" x=\"326.5\" y=\"-280.3\">(None, 500)</text>\n<polyline fill=\"none\" points=\"283,-272.5 370,-272.5 \" stroke=\"#000000\"/>\n<text fill=\"#000000\" font-family=\"Times,serif\" font-size=\"14.00\" text-anchor=\"middle\" x=\"326.5\" y=\"-257.3\">(None, 500)</text>\n</g>\n<!-- 140492365908008 -->\n<g class=\"node\" id=\"node2\">\n<title>140492365908008</title>\n<polygon fill=\"none\" points=\"2,-166.5 2,-212.5 368,-212.5 368,-166.5 2,-166.5\" stroke=\"#000000\"/>\n<text fill=\"#000000\" font-family=\"Times,serif\" font-size=\"14.00\" text-anchor=\"middle\" x=\"97.5\" y=\"-185.8\">layer_embedding: Embedding</text>\n<polyline fill=\"none\" points=\"193,-166.5 193,-212.5 \" stroke=\"#000000\"/>\n<text fill=\"#000000\" font-family=\"Times,serif\" font-size=\"14.00\" text-anchor=\"middle\" x=\"222\" y=\"-197.3\">input:</text>\n<polyline fill=\"none\" points=\"193,-189.5 251,-189.5 \" stroke=\"#000000\"/>\n<text fill=\"#000000\" font-family=\"Times,serif\" font-size=\"14.00\" text-anchor=\"middle\" x=\"222\" y=\"-174.3\">output:</text>\n<polyline fill=\"none\" points=\"251,-166.5 251,-212.5 \" stroke=\"#000000\"/>\n<text fill=\"#000000\" font-family=\"Times,serif\" font-size=\"14.00\" text-anchor=\"middle\" x=\"309.5\" y=\"-197.3\">(None, 500)</text>\n<polyline fill=\"none\" points=\"251,-189.5 368,-189.5 \" stroke=\"#000000\"/>\n<text fill=\"#000000\" font-family=\"Times,serif\" font-size=\"14.00\" text-anchor=\"middle\" x=\"309.5\" y=\"-174.3\">(None, 500, 100)</text>\n</g>\n<!-- 140491982689672&#45;&gt;140492365908008 -->\n<g class=\"edge\" id=\"edge1\">\n<title>140491982689672-&gt;140492365908008</title>\n<path d=\"M185,-249.3799C185,-241.1745 185,-231.7679 185,-222.8786\" fill=\"none\" stroke=\"#000000\"/>\n<polygon fill=\"#000000\" points=\"188.5001,-222.784 185,-212.784 181.5001,-222.784 188.5001,-222.784\" stroke=\"#000000\"/>\n</g>\n<!-- 140490989779936 -->\n<g class=\"node\" id=\"node3\">\n<title>140490989779936</title>\n<polygon fill=\"none\" points=\"46.5,-83.5 46.5,-129.5 323.5,-129.5 323.5,-83.5 46.5,-83.5\" stroke=\"#000000\"/>\n<text fill=\"#000000\" font-family=\"Times,serif\" font-size=\"14.00\" text-anchor=\"middle\" x=\"97.5\" y=\"-102.8\">lstm_1: LSTM</text>\n<polyline fill=\"none\" points=\"148.5,-83.5 148.5,-129.5 \" stroke=\"#000000\"/>\n<text fill=\"#000000\" font-family=\"Times,serif\" font-size=\"14.00\" text-anchor=\"middle\" x=\"177.5\" y=\"-114.3\">input:</text>\n<polyline fill=\"none\" points=\"148.5,-106.5 206.5,-106.5 \" stroke=\"#000000\"/>\n<text fill=\"#000000\" font-family=\"Times,serif\" font-size=\"14.00\" text-anchor=\"middle\" x=\"177.5\" y=\"-91.3\">output:</text>\n<polyline fill=\"none\" points=\"206.5,-83.5 206.5,-129.5 \" stroke=\"#000000\"/>\n<text fill=\"#000000\" font-family=\"Times,serif\" font-size=\"14.00\" text-anchor=\"middle\" x=\"265\" y=\"-114.3\">(None, 500, 100)</text>\n<polyline fill=\"none\" points=\"206.5,-106.5 323.5,-106.5 \" stroke=\"#000000\"/>\n<text fill=\"#000000\" font-family=\"Times,serif\" font-size=\"14.00\" text-anchor=\"middle\" x=\"265\" y=\"-91.3\">(None, 100)</text>\n</g>\n<!-- 140492365908008&#45;&gt;140490989779936 -->\n<g class=\"edge\" id=\"edge2\">\n<title>140492365908008-&gt;140490989779936</title>\n<path d=\"M185,-166.3799C185,-158.1745 185,-148.7679 185,-139.8786\" fill=\"none\" stroke=\"#000000\"/>\n<polygon fill=\"#000000\" points=\"188.5001,-139.784 185,-129.784 181.5001,-139.784 188.5001,-139.784\" stroke=\"#000000\"/>\n</g>\n<!-- 140490831375440 -->\n<g class=\"node\" id=\"node4\">\n<title>140490831375440</title>\n<polygon fill=\"none\" points=\"59,-.5 59,-46.5 311,-46.5 311,-.5 59,-.5\" stroke=\"#000000\"/>\n<text fill=\"#000000\" font-family=\"Times,serif\" font-size=\"14.00\" text-anchor=\"middle\" x=\"112.5\" y=\"-19.8\">dense_1: Dense</text>\n<polyline fill=\"none\" points=\"166,-.5 166,-46.5 \" stroke=\"#000000\"/>\n<text fill=\"#000000\" font-family=\"Times,serif\" font-size=\"14.00\" text-anchor=\"middle\" x=\"195\" y=\"-31.3\">input:</text>\n<polyline fill=\"none\" points=\"166,-23.5 224,-23.5 \" stroke=\"#000000\"/>\n<text fill=\"#000000\" font-family=\"Times,serif\" font-size=\"14.00\" text-anchor=\"middle\" x=\"195\" y=\"-8.3\">output:</text>\n<polyline fill=\"none\" points=\"224,-.5 224,-46.5 \" stroke=\"#000000\"/>\n<text fill=\"#000000\" font-family=\"Times,serif\" font-size=\"14.00\" text-anchor=\"middle\" x=\"267.5\" y=\"-31.3\">(None, 100)</text>\n<polyline fill=\"none\" points=\"224,-23.5 311,-23.5 \" stroke=\"#000000\"/>\n<text fill=\"#000000\" font-family=\"Times,serif\" font-size=\"14.00\" text-anchor=\"middle\" x=\"267.5\" y=\"-8.3\">(None, 1)</text>\n</g>\n<!-- 140490989779936&#45;&gt;140490831375440 -->\n<g class=\"edge\" id=\"edge3\">\n<title>140490989779936-&gt;140490831375440</title>\n<path d=\"M185,-83.3799C185,-75.1745 185,-65.7679 185,-56.8786\" fill=\"none\" stroke=\"#000000\"/>\n<polygon fill=\"#000000\" points=\"188.5001,-56.784 185,-46.784 181.5001,-56.784 188.5001,-56.784\" stroke=\"#000000\"/>\n</g>\n</g>\n</svg>"
          },
          "metadata": {
            "tags": []
          },
          "execution_count": 8
        }
      ]
    },
    {
      "cell_type": "code",
      "metadata": {
        "id": "l0X8wY9xHcAO",
        "colab_type": "code",
        "outputId": "ef05cf77-d108-4a32-abf8-2dbe418fb572",
        "colab": {
          "base_uri": "https://localhost:8080/",
          "height": 420
        }
      },
      "source": [
        "history = model.fit(preprocessed_train_data, train_labels, validation_split=0.08, epochs=3, batch_size=100)"
      ],
      "execution_count": 0,
      "outputs": [
        {
          "output_type": "stream",
          "text": [
            "WARNING:tensorflow:From /usr/local/lib/python3.6/dist-packages/keras/backend/tensorflow_backend.py:1033: The name tf.assign_add is deprecated. Please use tf.compat.v1.assign_add instead.\n",
            "\n",
            "WARNING:tensorflow:From /usr/local/lib/python3.6/dist-packages/keras/backend/tensorflow_backend.py:1020: The name tf.assign is deprecated. Please use tf.compat.v1.assign instead.\n",
            "\n",
            "WARNING:tensorflow:From /usr/local/lib/python3.6/dist-packages/keras/backend/tensorflow_backend.py:3005: The name tf.Session is deprecated. Please use tf.compat.v1.Session instead.\n",
            "\n",
            "Train on 23000 samples, validate on 2000 samples\n",
            "Epoch 1/3\n",
            "WARNING:tensorflow:From /usr/local/lib/python3.6/dist-packages/keras/backend/tensorflow_backend.py:190: The name tf.get_default_session is deprecated. Please use tf.compat.v1.get_default_session instead.\n",
            "\n",
            "WARNING:tensorflow:From /usr/local/lib/python3.6/dist-packages/keras/backend/tensorflow_backend.py:197: The name tf.ConfigProto is deprecated. Please use tf.compat.v1.ConfigProto instead.\n",
            "\n",
            "WARNING:tensorflow:From /usr/local/lib/python3.6/dist-packages/keras/backend/tensorflow_backend.py:207: The name tf.global_variables is deprecated. Please use tf.compat.v1.global_variables instead.\n",
            "\n",
            "WARNING:tensorflow:From /usr/local/lib/python3.6/dist-packages/keras/backend/tensorflow_backend.py:216: The name tf.is_variable_initialized is deprecated. Please use tf.compat.v1.is_variable_initialized instead.\n",
            "\n",
            "WARNING:tensorflow:From /usr/local/lib/python3.6/dist-packages/keras/backend/tensorflow_backend.py:223: The name tf.variables_initializer is deprecated. Please use tf.compat.v1.variables_initializer instead.\n",
            "\n",
            "23000/23000 [==============================] - 193s 8ms/step - loss: 0.4585 - acc: 0.7730 - val_loss: 0.3605 - val_acc: 0.8475\n",
            "Epoch 2/3\n",
            "23000/23000 [==============================] - 176s 8ms/step - loss: 0.2735 - acc: 0.8914 - val_loss: 0.3401 - val_acc: 0.8680\n",
            "Epoch 3/3\n",
            "23000/23000 [==============================] - 173s 8ms/step - loss: 0.1926 - acc: 0.9270 - val_loss: 0.3311 - val_acc: 0.8775\n"
          ],
          "name": "stdout"
        }
      ]
    },
    {
      "cell_type": "code",
      "metadata": {
        "id": "BcWdySPB3sYc",
        "colab_type": "code",
        "outputId": "d61def6b-42c8-4f70-a8ab-69c37da6abe6",
        "colab": {
          "base_uri": "https://localhost:8080/",
          "height": 295
        }
      },
      "source": [
        "import matplotlib.pyplot as plt\n",
        "\n",
        "history_dict = history.history\n",
        "\n",
        "acc = history_dict['acc']\n",
        "val_acc = history_dict['val_acc']\n",
        "loss = history_dict['loss']\n",
        "val_loss = history_dict['val_loss']\n",
        "\n",
        "epochs = range(1, len(acc) + 1)\n",
        "\n",
        "plt.plot(epochs, acc, 'bo', label='Training acc')\n",
        "plt.plot(epochs, val_acc, 'b', label='Validation acc')\n",
        "plt.title('Training and validation accuracy')\n",
        "plt.xlabel('Epochs')\n",
        "plt.ylabel('Accuracy')\n",
        "plt.legend()\n",
        "\n",
        "plt.show()"
      ],
      "execution_count": 0,
      "outputs": [
        {
          "output_type": "display_data",
          "data": {
            "image/png": "[encoded data removed]",
            "text/plain": [
              "<Figure size 432x288 with 1 Axes>"
            ]
          },
          "metadata": {
            "tags": []
          }
        }
      ]
    },
    {
      "cell_type": "markdown",
      "metadata": {
        "id": "S8ykw89t32cn",
        "colab_type": "text"
      },
      "source": [
        "Based on your plot, what do you think the optimal stopping point for the model should\n",
        "have been?"
      ]
    },
    {
      "cell_type": "markdown",
      "metadata": {
        "id": "I_ep7TyT38tl",
        "colab_type": "text"
      },
      "source": [
        "The training should have been stopped after the second epoch. The third epoch results in overfitting"
      ]
    },
    {
      "cell_type": "markdown",
      "metadata": {
        "id": "A5wGEmNX3-4O",
        "colab_type": "text"
      },
      "source": [
        "**5. Evaluating the Model on the Test Data**\n",
        "\n",
        "---\n",
        "\n"
      ]
    },
    {
      "cell_type": "code",
      "metadata": {
        "id": "n0S7FybIMHRq",
        "colab_type": "code",
        "outputId": "72057629-60e2-4e8b-a260-51fd761a114b",
        "colab": {
          "base_uri": "https://localhost:8080/",
          "height": 33
        }
      },
      "source": [
        "processed_test_data = pad_sequences(test_data, maxlen=MAXIMUM_LENGTH,padding='pre', truncating='pre')\n",
        "result = model.evaluate(processed_test_data, test_labels)"
      ],
      "execution_count": 0,
      "outputs": [
        {
          "output_type": "stream",
          "text": [
            "25000/25000 [==============================] - 205s 8ms/step\n"
          ],
          "name": "stdout"
        }
      ]
    },
    {
      "cell_type": "markdown",
      "metadata": {
        "id": "b-4W6-7A4GND",
        "colab_type": "text"
      },
      "source": [
        "Sanity Check:"
      ]
    },
    {
      "cell_type": "code",
      "metadata": {
        "id": "Hwytw9--TkTH",
        "colab_type": "code",
        "outputId": "1cd268fd-42bc-4bdc-87bf-172c2617f449",
        "colab": {
          "base_uri": "https://localhost:8080/",
          "height": 33
        }
      },
      "source": [
        "print('test_loss:', result[0], 'test_accuracy:', result[1])"
      ],
      "execution_count": 0,
      "outputs": [
        {
          "output_type": "stream",
          "text": [
            "test_loss: 0.3488790493965149 test_accuracy: 0.87136\n"
          ],
          "name": "stdout"
        }
      ]
    },
    {
      "cell_type": "markdown",
      "metadata": {
        "id": "Dgejm1xD4KTh",
        "colab_type": "text"
      },
      "source": [
        "**6. Extracting the Word Embeddings**\n",
        "\n",
        "---\n",
        "\n"
      ]
    },
    {
      "cell_type": "code",
      "metadata": {
        "id": "zRM-5pRMTxQq",
        "colab_type": "code",
        "colab": {}
      },
      "source": [
        "word_embeddings=model.get_layer('layer_embedding').get_weights()[0]"
      ],
      "execution_count": 0,
      "outputs": []
    },
    {
      "cell_type": "markdown",
      "metadata": {
        "id": "sLGzckZO4bl6",
        "colab_type": "text"
      },
      "source": [
        "Sanity Check:"
      ]
    },
    {
      "cell_type": "code",
      "metadata": {
        "id": "T2zzXQ0lV4q-",
        "colab_type": "code",
        "outputId": "a8a2be1e-a50d-4167-d2bb-e3f59406c773",
        "colab": {
          "base_uri": "https://localhost:8080/",
          "height": 33
        }
      },
      "source": [
        "print('Shape of word_embeddings:', word_embeddings.shape)"
      ],
      "execution_count": 0,
      "outputs": [
        {
          "output_type": "stream",
          "text": [
            "Shape of word_embeddings: (10000, 100)\n"
          ],
          "name": "stdout"
        }
      ]
    },
    {
      "cell_type": "markdown",
      "metadata": {
        "id": "Mk2AsSLc4iXe",
        "colab_type": "text"
      },
      "source": [
        "**7. Visualizing the Reviews**\n",
        "\n",
        "---\n",
        "\n"
      ]
    },
    {
      "cell_type": "code",
      "metadata": {
        "id": "V3UIkhovV-nZ",
        "colab_type": "code",
        "outputId": "a7410211-9475-4ef0-d643-62702bcb27b3",
        "colab": {
          "base_uri": "https://localhost:8080/",
          "height": 50
        }
      },
      "source": [
        "word2idx = imdb.get_word_index()\n",
        "word2idx = {k:(v+INDEX_FROM) for k,v in word2idx.items() if v < 9998}\n",
        "word2idx[\"<PAD>\"] = 0\n",
        "word2idx[\"<START>\"] = 1\n",
        "word2idx[\"<UNK>\"] = 2"
      ],
      "execution_count": 0,
      "outputs": [
        {
          "output_type": "stream",
          "text": [
            "Downloading data from https://s3.amazonaws.com/text-datasets/imdb_word_index.json\n",
            "1646592/1641221 [==============================] - 0s 0us/step\n"
          ],
          "name": "stdout"
        }
      ]
    },
    {
      "cell_type": "markdown",
      "metadata": {
        "id": "88LXN8lp5dog",
        "colab_type": "text"
      },
      "source": [
        "In the next line, create the idx2word map for all the words in the dataset"
      ]
    },
    {
      "cell_type": "code",
      "metadata": {
        "id": "ZT_cSrOr5c7J",
        "colab_type": "code",
        "colab": {}
      },
      "source": [
        "idx2word = {}\n",
        "for key, value in word2idx.items():\n",
        "  idx2word[value] = key"
      ],
      "execution_count": 0,
      "outputs": []
    },
    {
      "cell_type": "markdown",
      "metadata": {
        "id": "Gd_pYMYp5naQ",
        "colab_type": "text"
      },
      "source": [
        "Sanity Check:"
      ]
    },
    {
      "cell_type": "code",
      "metadata": {
        "id": "q9JMeocSakXj",
        "colab_type": "code",
        "outputId": "f5d6997e-e6f4-4ae9-d6a9-c8a4e11acdcf",
        "colab": {
          "base_uri": "https://localhost:8080/",
          "height": 53
        }
      },
      "source": [
        " print(' '.join(idx2word[idx] for idx in train_data[0]))"
      ],
      "execution_count": 0,
      "outputs": [
        {
          "output_type": "stream",
          "text": [
            "<START> this film was just brilliant casting location scenery story direction everyone's really suited the part they played and you could just imagine being there robert <UNK> is an amazing actor and now the same being director <UNK> father came from the same scottish island as myself so i loved the fact there was a real connection with this film the witty remarks throughout the film were great it was just brilliant so much that i bought the film as soon as it was released for <UNK> and would recommend it to everyone to watch and the fly fishing was amazing really cried at the end it was so sad and you know what they say if you cry at a film it must have been good and this definitely was also <UNK> to the two little boy's that played the <UNK> of norman and paul they were just brilliant children are often left out of the <UNK> list i think because the stars that play them all grown up are such a big profile for the whole film but these children are amazing and should be praised for what they have done don't you think the whole story was so lovely because it was true and was someone's life after all that was shared with us all\n"
          ],
          "name": "stdout"
        }
      ]
    },
    {
      "cell_type": "code",
      "metadata": {
        "id": "9fbVfB-yaz4-",
        "colab_type": "code",
        "outputId": "92e1dbc3-3eb2-4865-fb60-9341a543dcee",
        "colab": {
          "base_uri": "https://localhost:8080/",
          "height": 53
        }
      },
      "source": [
        "print(train_data[0])\n"
      ],
      "execution_count": 0,
      "outputs": [
        {
          "output_type": "stream",
          "text": [
            "[1, 13, 21, 15, 42, 529, 972, 1621, 1384, 64, 457, 4467, 65, 3940, 3, 172, 35, 255, 4, 24, 99, 42, 837, 111, 49, 669, 2, 8, 34, 479, 283, 4, 149, 3, 171, 111, 166, 2, 335, 384, 38, 3, 171, 4535, 1110, 16, 545, 37, 12, 446, 3, 191, 49, 15, 5, 146, 2024, 18, 13, 21, 3, 1919, 4612, 468, 3, 21, 70, 86, 11, 15, 42, 529, 37, 75, 14, 12, 1246, 3, 21, 16, 514, 16, 11, 15, 625, 17, 2, 4, 61, 385, 11, 7, 315, 7, 105, 4, 3, 2222, 5243, 15, 479, 65, 3784, 32, 3, 129, 11, 15, 37, 618, 4, 24, 123, 50, 35, 134, 47, 24, 1414, 32, 5, 21, 11, 214, 27, 76, 51, 4, 13, 406, 15, 81, 2, 7, 3, 106, 116, 5951, 14, 255, 3, 2, 6, 3765, 4, 722, 35, 70, 42, 529, 475, 25, 399, 316, 45, 6, 3, 2, 1028, 12, 103, 87, 3, 380, 14, 296, 97, 31, 2070, 55, 25, 140, 5, 193, 7485, 17, 3, 225, 21, 20, 133, 475, 25, 479, 4, 143, 29, 5534, 17, 50, 35, 27, 223, 91, 24, 103, 3, 225, 64, 15, 37, 1333, 87, 11, 15, 282, 4, 15, 4471, 112, 102, 31, 14, 15, 5344, 18, 177, 31]\n"
          ],
          "name": "stdout"
        }
      ]
    },
    {
      "cell_type": "markdown",
      "metadata": {
        "id": "m2tn_gbZ7qRU",
        "colab_type": "text"
      },
      "source": [
        "**8. Visualizing the Word_Embeddings**\n",
        "\n",
        "---\n",
        "\n"
      ]
    },
    {
      "cell_type": "code",
      "metadata": {
        "id": "kMVEuFE87hWm",
        "colab_type": "code",
        "outputId": "cba2519b-3170-4856-c38d-4ca6db0ce2a4",
        "colab": {
          "base_uri": "https://localhost:8080/",
          "height": 233
        }
      },
      "source": [
        "from pandas import DataFrame\n",
        "print(DataFrame(word_embeddings, index=idx2word.values()).head(10))"
      ],
      "execution_count": 0,
      "outputs": [
        {
          "output_type": "stream",
          "text": [
            "                 0         1         2   ...        97        98        99\n",
            "woods     -0.059868  0.026953 -0.049167  ...  0.011792  0.038532  0.035328\n",
            "hanging   -0.044413  0.009408 -0.057241  ...  0.000380 -0.005337  0.029920\n",
            "woody      0.049629 -0.038426  0.035118  ...  0.014367 -0.031917 -0.041423\n",
            "arranged  -0.013424 -0.034181  0.024872  ... -0.021671 -0.008565 -0.006871\n",
            "bringing  -0.030939  0.009025 -0.015846  ...  0.035933 -0.005328 -0.017574\n",
            "wooden     0.025054 -0.020902  0.020014  ...  0.032796 -0.004242  0.046960\n",
            "errors     0.014667  0.016566 -0.015824  ... -0.035367  0.005308  0.041143\n",
            "dialogs   -0.030583  0.029331  0.024032  ...  0.005645  0.017115 -0.046138\n",
            "kids      -0.035814  0.025183 -0.018435  ... -0.010712 -0.012915 -0.037255\n",
            "uplifting -0.041833  0.033208  0.035538  ...  0.005895  0.077635 -0.035064\n",
            "\n",
            "[10 rows x 100 columns]\n"
          ],
          "name": "stdout"
        }
      ]
    },
    {
      "cell_type": "markdown",
      "metadata": {
        "id": "nguF5wzbEIJH",
        "colab_type": "text"
      },
      "source": [
        "**Plot the word embeddings using TSNE**\n",
        "\n",
        "---\n",
        "\n"
      ]
    },
    {
      "cell_type": "code",
      "metadata": {
        "id": "VCQRmhBK7y-Q",
        "colab_type": "code",
        "outputId": "4e63dac0-9665-4a97-94b9-f14aa12d168c",
        "colab": {
          "base_uri": "https://localhost:8080/",
          "height": 483
        }
      },
      "source": [
        "from sklearn.manifold import TSNE\n",
        "import matplotlib.pyplot as plt\n",
        "import numpy as np\n",
        "tsne = TSNE(perplexity=3, n_components=2, init='pca', n_iter=5000, method='exact')\n",
        "np.set_printoptions(suppress=True)\n",
        "start = 3\n",
        "plot_only = 54\n",
        "T = tsne.fit_transform(word_embeddings[start:plot_only, :])\n",
        "labels = [idx2word[i] for i in range(start, plot_only)]\n",
        "plt.figure(figsize=(14, 8))\n",
        "plt.scatter(T[:, 0], T[:, 1])\n",
        "for label, x, y in zip(labels, T[:, 0], T[:, 1]):\n",
        "  plt.annotate(label, xy=(x+1, y+1), xytext=(0, 0), textcoords='offset points', ha='right',va='bottom')"
      ],
      "execution_count": 0,
      "outputs": [
        {
          "output_type": "display_data",
          "data": {
            "image/png": "[encoded data removed]",
            "text/plain": [
              "<Figure size 1008x576 with 1 Axes>"
            ]
          },
          "metadata": {
            "tags": []
          }
        }
      ]
    },
    {
      "cell_type": "markdown",
      "metadata": {
        "id": "rPjrdrNaHFTj",
        "colab_type": "text"
      },
      "source": [
        "**9. Questions**\n",
        "\n",
        "---\n",
        "\n"
      ]
    },
    {
      "cell_type": "markdown",
      "metadata": {
        "id": "KuVgOUOlHLEt",
        "colab_type": "text"
      },
      "source": [
        "1. Create a new model that is a copy of the model step 3. To this new model, add two dropout\n",
        "layers, one between the embedding layer and the LSTM layer and another between the\n",
        "LSTM layer and the output layer. Repeat steps 4 and 5 for this model. What do you observe?\n",
        "How about if you train this new model for 6 epochs instead?"
      ]
    },
    {
      "cell_type": "code",
      "metadata": {
        "id": "43utcigWC6cT",
        "colab_type": "code",
        "outputId": "b9625e25-7ea8-4ce9-dd33-ddbbc6298376",
        "colab": {
          "base_uri": "https://localhost:8080/",
          "height": 120
        }
      },
      "source": [
        "from keras import Sequential\n",
        "from keras.layers import Embedding, LSTM, Dense, Dropout\n",
        "from keras.optimizers import Adam\n",
        "EMBED_SIZE = 100\n",
        "model2 = Sequential()\n",
        "model2.add(Embedding(input_dim=VOCAB_SIZE,\n",
        "                    output_dim=EMBED_SIZE,\n",
        "                    input_length=MAXIMUM_LENGTH,\n",
        "                    name='layer_embedding'))\n",
        "model2.add(Dropout(0.5))\n",
        "model2.add(LSTM(100, activation='tanh'))\n",
        "model2.add(Dropout(0.5))\n",
        "model2.add(Dense(1, activation='sigmoid'))\n",
        "optimizer = Adam()\n",
        "model2.compile(loss='binary_crossentropy',\n",
        "              optimizer=optimizer,\n",
        "              metrics=['accuracy'])"
      ],
      "execution_count": 0,
      "outputs": [
        {
          "output_type": "stream",
          "text": [
            "WARNING:tensorflow:From /usr/local/lib/python3.6/dist-packages/keras/backend/tensorflow_backend.py:148: The name tf.placeholder_with_default is deprecated. Please use tf.compat.v1.placeholder_with_default instead.\n",
            "\n",
            "WARNING:tensorflow:From /usr/local/lib/python3.6/dist-packages/keras/backend/tensorflow_backend.py:3733: calling dropout (from tensorflow.python.ops.nn_ops) with keep_prob is deprecated and will be removed in a future version.\n",
            "Instructions for updating:\n",
            "Please use `rate` instead of `keep_prob`. Rate should be set to `rate = 1 - keep_prob`.\n"
          ],
          "name": "stdout"
        }
      ]
    },
    {
      "cell_type": "code",
      "metadata": {
        "id": "wUZfSWTRKJoU",
        "colab_type": "code",
        "outputId": "541e6216-a750-4994-ef72-1bcfc99175a4",
        "colab": {
          "base_uri": "https://localhost:8080/",
          "height": 133
        }
      },
      "source": [
        "history2 = model2.fit(preprocessed_train_data, train_labels, validation_split=0.08, epochs=3, batch_size=100)"
      ],
      "execution_count": 0,
      "outputs": [
        {
          "output_type": "stream",
          "text": [
            "Train on 23000 samples, validate on 2000 samples\n",
            "Epoch 1/3\n",
            "23000/23000 [==============================] - 181s 8ms/step - loss: 0.5088 - acc: 0.7348 - val_loss: 0.4371 - val_acc: 0.8105\n",
            "Epoch 2/3\n",
            "23000/23000 [==============================] - 175s 8ms/step - loss: 0.3048 - acc: 0.8794 - val_loss: 0.3229 - val_acc: 0.8710\n",
            "Epoch 3/3\n",
            "23000/23000 [==============================] - 172s 7ms/step - loss: 0.2522 - acc: 0.9032 - val_loss: 0.3320 - val_acc: 0.8685\n"
          ],
          "name": "stdout"
        }
      ]
    },
    {
      "cell_type": "code",
      "metadata": {
        "id": "swlC7MSNMAGI",
        "colab_type": "code",
        "outputId": "786d3d7d-6153-453f-81b7-c4a7fcc821e6",
        "colab": {
          "base_uri": "https://localhost:8080/",
          "height": 295
        }
      },
      "source": [
        "import matplotlib.pyplot as plt\n",
        "\n",
        "history_dict = history2.history\n",
        "\n",
        "acc = history_dict['acc']\n",
        "val_acc = history_dict['val_acc']\n",
        "loss = history_dict['loss']\n",
        "val_loss = history_dict['val_loss']\n",
        "\n",
        "epochs = range(1, len(acc) + 1)\n",
        "\n",
        "plt.plot(epochs, acc, 'bo', label='Training acc')\n",
        "plt.plot(epochs, val_acc, 'b', label='Validation acc')\n",
        "plt.title('Training and validation accuracy')\n",
        "plt.xlabel('Epochs')\n",
        "plt.ylabel('Accuracy')\n",
        "plt.legend()\n",
        "\n",
        "plt.show()"
      ],
      "execution_count": 0,
      "outputs": [
        {
          "output_type": "display_data",
          "data": {
            "image/png": "[encoded data removed]",
            "text/plain": [
              "<Figure size 432x288 with 1 Axes>"
            ]
          },
          "metadata": {
            "tags": []
          }
        }
      ]
    },
    {
      "cell_type": "code",
      "metadata": {
        "id": "w0oLyly_M_8F",
        "colab_type": "code",
        "outputId": "b9eadcde-41e2-4ffb-c24c-ba8d6871c673",
        "colab": {
          "base_uri": "https://localhost:8080/",
          "height": 50
        }
      },
      "source": [
        "processed_test_data = pad_sequences(test_data, maxlen=MAXIMUM_LENGTH,padding='pre', truncating='pre')\n",
        "result = model2.evaluate(processed_test_data, test_labels)\n",
        "print('test_loss:', result[0], 'test_accuracy:', result[1])"
      ],
      "execution_count": 0,
      "outputs": [
        {
          "output_type": "stream",
          "text": [
            "25000/25000 [==============================] - 222s 9ms/step\n",
            "test_loss: 0.3377531599521637 test_accuracy: 0.86488\n"
          ],
          "name": "stdout"
        }
      ]
    },
    {
      "cell_type": "markdown",
      "metadata": {
        "id": "h3Kd4Fv_SUJM",
        "colab_type": "text"
      },
      "source": [
        "it can be observed that by adding two dropout layer, the overfitting of the model reduced. The train accuracy for the first model was 0.92 and the second model is 0.90. The gap between the training accuracy and validation accuracy decreased."
      ]
    },
    {
      "cell_type": "code",
      "metadata": {
        "id": "gw-K7CpdOa5N",
        "colab_type": "code",
        "colab": {}
      },
      "source": [
        "from keras import Sequential\n",
        "from keras.layers import Embedding, LSTM, Dense, Dropout\n",
        "from keras.optimizers import Adam\n",
        "EMBED_SIZE = 100\n",
        "model3 = Sequential()\n",
        "model3.add(Embedding(input_dim=VOCAB_SIZE,\n",
        "                    output_dim=EMBED_SIZE,\n",
        "                    input_length=MAXIMUM_LENGTH,\n",
        "                    name='layer_embedding'))\n",
        "model3.add(Dropout(0.5))\n",
        "model3.add(LSTM(100, activation='tanh'))\n",
        "model3.add(Dropout(0.5))\n",
        "model3.add(Dense(1, activation='sigmoid'))\n",
        "optimizer = Adam()\n",
        "model3.compile(loss='binary_crossentropy',\n",
        "              optimizer=optimizer,\n",
        "              metrics=['accuracy'])"
      ],
      "execution_count": 0,
      "outputs": []
    },
    {
      "cell_type": "code",
      "metadata": {
        "id": "g2rXCmKsMD4d",
        "colab_type": "code",
        "outputId": "ff17c5e5-840e-4787-dd73-7623ae4d310e",
        "colab": {
          "base_uri": "https://localhost:8080/",
          "height": 233
        }
      },
      "source": [
        "history3 = model3.fit(preprocessed_train_data, train_labels, validation_split=0.08, epochs=6, batch_size=100)"
      ],
      "execution_count": 0,
      "outputs": [
        {
          "output_type": "stream",
          "text": [
            "Train on 23000 samples, validate on 2000 samples\n",
            "Epoch 1/6\n",
            "23000/23000 [==============================] - 179s 8ms/step - loss: 0.4852 - acc: 0.7581 - val_loss: 0.3196 - val_acc: 0.8645\n",
            "Epoch 2/6\n",
            "23000/23000 [==============================] - 175s 8ms/step - loss: 0.2610 - acc: 0.8984 - val_loss: 0.3009 - val_acc: 0.8725\n",
            "Epoch 3/6\n",
            "23000/23000 [==============================] - 179s 8ms/step - loss: 0.2144 - acc: 0.9180 - val_loss: 0.3650 - val_acc: 0.8465\n",
            "Epoch 4/6\n",
            "23000/23000 [==============================] - 177s 8ms/step - loss: 0.1810 - acc: 0.9334 - val_loss: 0.3238 - val_acc: 0.8770\n",
            "Epoch 5/6\n",
            "23000/23000 [==============================] - 176s 8ms/step - loss: 0.1407 - acc: 0.9502 - val_loss: 0.3383 - val_acc: 0.8760\n",
            "Epoch 6/6\n",
            "23000/23000 [==============================] - 175s 8ms/step - loss: 0.1205 - acc: 0.9577 - val_loss: 0.3778 - val_acc: 0.8725\n"
          ],
          "name": "stdout"
        }
      ]
    },
    {
      "cell_type": "code",
      "metadata": {
        "id": "ClM3UUacT8sW",
        "colab_type": "code",
        "outputId": "d80d70e3-5a6b-4061-9e72-8b6cfcba990a",
        "colab": {
          "base_uri": "https://localhost:8080/",
          "height": 295
        }
      },
      "source": [
        "import matplotlib.pyplot as plt\n",
        "\n",
        "history_dict = history3.history\n",
        "\n",
        "acc = history_dict['acc']\n",
        "val_acc = history_dict['val_acc']\n",
        "loss = history_dict['loss']\n",
        "val_loss = history_dict['val_loss']\n",
        "\n",
        "epochs = range(1, len(acc) + 1)\n",
        "\n",
        "plt.plot(epochs, acc, 'bo', label='Training acc')\n",
        "plt.plot(epochs, val_acc, 'b', label='Validation acc')\n",
        "plt.title('Training and validation accuracy')\n",
        "plt.xlabel('Epochs')\n",
        "plt.ylabel('Accuracy')\n",
        "plt.legend()\n",
        "\n",
        "plt.show()"
      ],
      "execution_count": 0,
      "outputs": [
        {
          "output_type": "display_data",
          "data": {
            "image/png": "[encoded data removed]",
            "text/plain": [
              "<Figure size 432x288 with 1 Axes>"
            ]
          },
          "metadata": {
            "tags": []
          }
        }
      ]
    },
    {
      "cell_type": "code",
      "metadata": {
        "id": "kb_z519ZUE27",
        "colab_type": "code",
        "outputId": "3d4ce6c3-cf48-4b48-fe13-c5ae3d763833",
        "colab": {
          "base_uri": "https://localhost:8080/",
          "height": 50
        }
      },
      "source": [
        "result = model3.evaluate(processed_test_data, test_labels)\n",
        "print('test_loss:', result[0], 'test_accuracy:', result[1])"
      ],
      "execution_count": 0,
      "outputs": [
        {
          "output_type": "stream",
          "text": [
            "25000/25000 [==============================] - 230s 9ms/step\n",
            "test_loss: 0.40340055977582934 test_accuracy: 0.86072\n"
          ],
          "name": "stdout"
        }
      ]
    },
    {
      "cell_type": "markdown",
      "metadata": {
        "id": "ZnRucD6MVMVQ",
        "colab_type": "text"
      },
      "source": [
        "Training the model for 6 epoch doesn't change the test accuracy a lot. But the train accuracy increases to 95% which shows overfitting when compared to the previous model."
      ]
    },
    {
      "cell_type": "markdown",
      "metadata": {
        "id": "6F8P7Mx8MNWL",
        "colab_type": "text"
      },
      "source": [
        "2. Experiment with compiling the model with batch sizes of 1, 32, len(training_data). What do\n",
        "you observe?\n"
      ]
    },
    {
      "cell_type": "code",
      "metadata": {
        "id": "sFyDkfOZUji5",
        "colab_type": "code",
        "colab": {}
      },
      "source": [
        "from keras import Sequential\n",
        "from keras.layers import Embedding, LSTM, Dense, Dropout\n",
        "from keras.optimizers import Adam\n",
        "EMBED_SIZE = 100\n",
        "model4 = Sequential()\n",
        "model4.add(Embedding(input_dim=VOCAB_SIZE,\n",
        "                    output_dim=EMBED_SIZE,\n",
        "                    input_length=MAXIMUM_LENGTH,\n",
        "                    name='layer_embedding'))\n",
        "model4.add(LSTM(100, activation='tanh'))\n",
        "model4.add(Dense(1, activation='sigmoid'))\n",
        "optimizer = Adam()\n",
        "model4.compile(loss='binary_crossentropy',\n",
        "              optimizer=optimizer,\n",
        "              metrics=['accuracy'])"
      ],
      "execution_count": 0,
      "outputs": []
    },
    {
      "cell_type": "code",
      "metadata": {
        "id": "lsrx5IFLVgDT",
        "colab_type": "code",
        "colab": {}
      },
      "source": [
        "history4 = model4.fit(preprocessed_train_data, train_labels, validation_split=0.08, epochs=3, batch_size=32)"
      ],
      "execution_count": 0,
      "outputs": []
    },
    {
      "cell_type": "markdown",
      "metadata": {
        "id": "-iqdX2CUYGI8",
        "colab_type": "text"
      },
      "source": [
        "Different batch sizes effect the training of the model. Batch size of 1 gives the highest test accuracy but is very difficult to train as it takes a long time. The test accuracy decreases as we increase the batch size. It can be said that batch size plays an important role in generalization. The smaller the batch size, the model generalises better but it also becomes more difficult to train."
      ]
    },
    {
      "cell_type": "markdown",
      "metadata": {
        "id": "VvdOttpIYtA6",
        "colab_type": "text"
      },
      "source": [
        "3. (optional) Can you retrain with a Bidirectional LSTM instead of an LSTM? What do you\n",
        "observe about the Bi-LSTM model at 3 epochs? What about at 6 epochs?"
      ]
    },
    {
      "cell_type": "code",
      "metadata": {
        "id": "stDclUR1MPdP",
        "colab_type": "code",
        "colab": {}
      },
      "source": [
        "from keras import Sequential\n",
        "from keras.layers import Embedding, LSTM, Dense, Dropout, Bidirectional\n",
        "from keras.optimizers import Adam\n",
        "EMBED_SIZE = 100\n",
        "model5 = Sequential()\n",
        "model5.add(Embedding(input_dim=VOCAB_SIZE,\n",
        "                    output_dim=EMBED_SIZE,\n",
        "                    input_length=MAXIMUM_LENGTH,\n",
        "                    name='layer_embedding'))\n",
        "model5.add(Bidirectional(LSTM(100, activation='tanh')))\n",
        "model5.add(Dense(1, activation='sigmoid'))\n",
        "optimizer = Adam()\n",
        "model5.compile(loss='binary_crossentropy',\n",
        "              optimizer=optimizer,\n",
        "              metrics=['accuracy'])"
      ],
      "execution_count": 0,
      "outputs": []
    },
    {
      "cell_type": "code",
      "metadata": {
        "id": "xDkjdWMiY6ge",
        "colab_type": "code",
        "outputId": "5a65b6ad-424d-4b02-deca-1438adf1b74d",
        "colab": {
          "base_uri": "https://localhost:8080/",
          "height": 133
        }
      },
      "source": [
        "history5 = model5.fit(preprocessed_train_data, train_labels, validation_split=0.08, epochs=3, batch_size=100)"
      ],
      "execution_count": 0,
      "outputs": [
        {
          "output_type": "stream",
          "text": [
            "Train on 23000 samples, validate on 2000 samples\n",
            "Epoch 1/3\n",
            "23000/23000 [==============================] - 410s 18ms/step - loss: 0.4665 - acc: 0.7733 - val_loss: 0.3546 - val_acc: 0.8530\n",
            "Epoch 2/3\n",
            "23000/23000 [==============================] - 395s 17ms/step - loss: 0.2670 - acc: 0.8949 - val_loss: 0.3388 - val_acc: 0.8640\n",
            "Epoch 3/3\n",
            "23000/23000 [==============================] - 399s 17ms/step - loss: 0.1850 - acc: 0.9307 - val_loss: 0.3202 - val_acc: 0.8805\n"
          ],
          "name": "stdout"
        }
      ]
    },
    {
      "cell_type": "code",
      "metadata": {
        "id": "qwMNH3Jrdpdz",
        "colab_type": "code",
        "outputId": "13e54f8f-29cc-4255-a71d-53668811005c",
        "colab": {
          "base_uri": "https://localhost:8080/",
          "height": 50
        }
      },
      "source": [
        "result = model5.evaluate(processed_test_data, test_labels)\n",
        "print('test_loss:', result[0], 'test_accuracy:', result[1])"
      ],
      "execution_count": 0,
      "outputs": [
        {
          "output_type": "stream",
          "text": [
            "25000/25000 [==============================] - 462s 18ms/step\n",
            "test_loss: 0.32195794054985044 test_accuracy: 0.87524\n"
          ],
          "name": "stdout"
        }
      ]
    },
    {
      "cell_type": "markdown",
      "metadata": {
        "id": "WRSMMXcSU21v",
        "colab_type": "text"
      },
      "source": [
        "The test accuracy for bidirectional LSTM is more than LSTM. Therefore it can be infered that bi-LSTM are better."
      ]
    },
    {
      "cell_type": "code",
      "metadata": {
        "id": "mrkDRi5sd7Sq",
        "colab_type": "code",
        "outputId": "c9422496-75ee-4e9e-86be-667dbae6f229",
        "colab": {
          "base_uri": "https://localhost:8080/",
          "height": 295
        }
      },
      "source": [
        "import matplotlib.pyplot as plt\n",
        "\n",
        "history_dict = history5.history\n",
        "\n",
        "acc = history_dict['acc']\n",
        "val_acc = history_dict['val_acc']\n",
        "loss = history_dict['loss']\n",
        "val_loss = history_dict['val_loss']\n",
        "\n",
        "epochs = range(1, len(acc) + 1)\n",
        "\n",
        "plt.plot(epochs, acc, 'bo', label='Training acc')\n",
        "plt.plot(epochs, val_acc, 'b', label='Validation acc')\n",
        "plt.title('Training and validation accuracy')\n",
        "plt.xlabel('Epochs')\n",
        "plt.ylabel('Accuracy')\n",
        "plt.legend()\n",
        "\n",
        "plt.show()"
      ],
      "execution_count": 0,
      "outputs": [
        {
          "output_type": "display_data",
          "data": {
            "image/png": "[encoded data removed]",
            "text/plain": [
              "<Figure size 432x288 with 1 Axes>"
            ]
          },
          "metadata": {
            "tags": []
          }
        }
      ]
    },
    {
      "cell_type": "code",
      "metadata": {
        "id": "LhEykh24aas_",
        "colab_type": "code",
        "colab": {}
      },
      "source": [
        "from keras import Sequential\n",
        "from keras.layers import Embedding, LSTM, Dense, Dropout, Bidirectional\n",
        "from keras.optimizers import Adam\n",
        "EMBED_SIZE = 100\n",
        "model6 = Sequential()\n",
        "model6.add(Embedding(input_dim=VOCAB_SIZE,\n",
        "                    output_dim=EMBED_SIZE,\n",
        "                    input_length=MAXIMUM_LENGTH,\n",
        "                    name='layer_embedding'))\n",
        "model6.add(Bidirectional(LSTM(100, activation='tanh')))\n",
        "model6.add(Dense(1, activation='sigmoid'))\n",
        "optimizer = Adam()\n",
        "model6.compile(loss='binary_crossentropy',\n",
        "              optimizer=optimizer,\n",
        "              metrics=['accuracy'])"
      ],
      "execution_count": 0,
      "outputs": []
    },
    {
      "cell_type": "code",
      "metadata": {
        "id": "7_f2iNsEaeI5",
        "colab_type": "code",
        "outputId": "84b5afa2-43af-4dab-e639-6343ef5d57e2",
        "colab": {
          "base_uri": "https://localhost:8080/",
          "height": 233
        }
      },
      "source": [
        "history6 = model6.fit(preprocessed_train_data, train_labels, validation_split=0.08, epochs=6, batch_size=100)"
      ],
      "execution_count": 0,
      "outputs": [
        {
          "output_type": "stream",
          "text": [
            "Train on 23000 samples, validate on 2000 samples\n",
            "Epoch 1/6\n",
            "23000/23000 [==============================] - 399s 17ms/step - loss: 0.4831 - acc: 0.7598 - val_loss: 0.3301 - val_acc: 0.8750\n",
            "Epoch 2/6\n",
            "23000/23000 [==============================] - 391s 17ms/step - loss: 0.2658 - acc: 0.8941 - val_loss: 0.3049 - val_acc: 0.8760\n",
            "Epoch 3/6\n",
            "23000/23000 [==============================] - 388s 17ms/step - loss: 0.1762 - acc: 0.9346 - val_loss: 0.3032 - val_acc: 0.8800\n",
            "Epoch 4/6\n",
            "23000/23000 [==============================] - 391s 17ms/step - loss: 0.1399 - acc: 0.9491 - val_loss: 0.3442 - val_acc: 0.8650\n",
            "Epoch 5/6\n",
            "23000/23000 [==============================] - 385s 17ms/step - loss: 0.1009 - acc: 0.9638 - val_loss: 0.4292 - val_acc: 0.8680\n",
            "Epoch 6/6\n",
            "23000/23000 [==============================] - 381s 17ms/step - loss: 0.1387 - acc: 0.9446 - val_loss: 0.4689 - val_acc: 0.8600\n"
          ],
          "name": "stdout"
        }
      ]
    },
    {
      "cell_type": "markdown",
      "metadata": {
        "id": "X3V2GKjjUfiD",
        "colab_type": "text"
      },
      "source": [
        "When the bi-LSTM is run for 6 epochs instead of 3, it can be seen that the validation accuracy starts to drop which suggests overfitting. "
      ]
    }
  ]
}